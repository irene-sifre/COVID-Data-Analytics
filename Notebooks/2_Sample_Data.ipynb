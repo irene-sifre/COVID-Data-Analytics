{
 "cells": [
  {
   "cell_type": "markdown",
   "metadata": {},
   "source": [
    "# Sample Symptom and Vax data\n",
    "\n",
    "1. Load Sampled event data that exists in SQL database\n",
    "2. Load full symptom and vax dataframes\n",
    "3. Use VAERS_ID from sampled event data to filter symptom and vax dataframes\n",
    "4. Save Sampled symptoms and vax data"
   ]
  },
  {
   "cell_type": "code",
   "execution_count": 1,
   "metadata": {},
   "outputs": [],
   "source": [
    "import pandas as pd"
   ]
  },
  {
   "cell_type": "code",
   "execution_count": 2,
   "metadata": {},
   "outputs": [],
   "source": [
    "# load data\n",
    "sample_event_data_df = pd.read_csv(\"../Data/Clean/sample_event_data.csv\")\n",
    "sympt_data_df = pd.read_csv(\"../Data/Clean/sympt_data.csv\")\n",
    "vax_data_df  =pd.read_csv(\"../Data/Clean/vax_data.csv\")\n"
   ]
  },
  {
   "cell_type": "code",
   "execution_count": 3,
   "metadata": {},
   "outputs": [],
   "source": [
    "vaers_ID_df = sample_event_data_df['VAERS_ID']"
   ]
  },
  {
   "cell_type": "code",
   "execution_count": 5,
   "metadata": {},
   "outputs": [],
   "source": [
    "# Use VAERS_ID to filter and generate sample data\n",
    "\n",
    "sample_sympt_data_df = pd.merge(vaers_ID_df, sympt_data_df, on='VAERS_ID', how='left')\n",
    "sample_vax_data_df = pd.merge(vaers_ID_df, vax_data_df, on='VAERS_ID', how='left')\n"
   ]
  },
  {
   "cell_type": "code",
   "execution_count": 9,
   "metadata": {},
   "outputs": [
    {
     "name": "stdout",
     "output_type": "stream",
     "text": [
      "(19545, 11)\n",
      "(25921, 6)\n",
      "(19554, 4)\n"
     ]
    }
   ],
   "source": [
    "# Check shape of sample dataframes\n",
    "print(sample_event_data_df.shape)\n",
    "print(sample_sympt_data_df.shape)\n",
    "print(sample_vax_data_df.shape)"
   ]
  },
  {
   "cell_type": "code",
   "execution_count": 10,
   "metadata": {},
   "outputs": [],
   "source": [
    "# Save to csv\n",
    "sample_sympt_data_df.to_csv('../Data/Clean/sample_sympt_data.csv', index=False)\n",
    "sample_vax_data_df.to_csv('../Data/Clean/sample_vax_data.csv', index=False)\n"
   ]
  }
 ],
 "metadata": {
  "kernelspec": {
   "display_name": "base",
   "language": "python",
   "name": "python3"
  },
  "language_info": {
   "codemirror_mode": {
    "name": "ipython",
    "version": 3
   },
   "file_extension": ".py",
   "mimetype": "text/x-python",
   "name": "python",
   "nbconvert_exporter": "python",
   "pygments_lexer": "ipython3",
   "version": "3.12.4"
  }
 },
 "nbformat": 4,
 "nbformat_minor": 2
}
