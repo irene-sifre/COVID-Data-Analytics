{
 "cells": [
  {
   "cell_type": "markdown",
   "metadata": {},
   "source": [
    "# Hypotheses\n",
    "\n",
    "1. Prevalence of Symptoms by Gender: Females are more likely to present symptoms compared to males after receiving a vaccine.\n",
    "\n",
    " 2.Vaccine Mortality and Age: Older patients are at a greater risk of mortality following vaccination compared to younger patients.\n",
    "\n",
    " 3.Impact of Multiple Vaccine Doses on Adverse Effects: Individuals who received more than one vaccine dose are more likely to experience adverse effects than those who received a single dose.\n",
    "\n",
    " 4.Vaccine Manufacturer and Symptom Severity: The Pfizer vaccine is associated with a higher incidence or severity of post-vaccination symptoms compared to other vaccine manufacturers.\n",
    "\n",
    " 5.Geographical and Lot-Based Variation in Symptoms: Certain vaccine lots or specific geographical regions are associated with higher incidences of adverse symptoms."
   ]
  },
  {
   "cell_type": "code",
   "execution_count": 51,
   "metadata": {},
   "outputs": [],
   "source": [
    "# Libraries \n",
    "import pandas as pd\n",
    "import matplotlib.pyplot as plt\n",
    "import seaborn as sns\n",
    "import plotly.express as px\n",
    "from scipy.stats import shapiro\n",
    "import statsmodels.api as sm\n",
    "\n",
    "from functions import query_to_df\n",
    "\n",
    "# Set Pandas display options to show all rows and columns\n",
    "pd.set_option(\"display.max_rows\", None)  # None means no limit\n",
    "pd.set_option(\"display.max_columns\", None)  # None means no limit"
   ]
  },
  {
   "cell_type": "code",
   "execution_count": 7,
   "metadata": {},
   "outputs": [
    {
     "name": "stdout",
     "output_type": "stream",
     "text": [
      "<class 'pandas.core.frame.DataFrame'>\n",
      "RangeIndex: 19585 entries, 0 to 19584\n",
      "Data columns (total 15 columns):\n",
      " #   Column           Non-Null Count  Dtype  \n",
      "---  ------           --------------  -----  \n",
      " 0   VAERS_ID         19585 non-null  int64  \n",
      " 1   STATE            19585 non-null  object \n",
      " 2   AGE_YRS          19585 non-null  float64\n",
      " 3   SEX              19585 non-null  int64  \n",
      " 4   DIED             19585 non-null  int64  \n",
      " 5   L_THREAT         19585 non-null  int64  \n",
      " 6   HOSPITAL         19585 non-null  int64  \n",
      " 7   DISABLE          19585 non-null  int64  \n",
      " 8   RECOVD           19585 non-null  int64  \n",
      " 9   VAX_DATE         19585 non-null  object \n",
      " 10  BIRTH_DEFECT     19585 non-null  int64  \n",
      " 11  VAERS_ID         19554 non-null  float64\n",
      " 12  VAX_MANU         19554 non-null  object \n",
      " 13  VAX_LOT          19554 non-null  object \n",
      " 14  VAX_DOSE_SERIES  19554 non-null  object \n",
      "dtypes: float64(2), int64(8), object(5)\n",
      "memory usage: 2.2+ MB\n"
     ]
    }
   ],
   "source": [
    "event_vax_data_df.info()"
   ]
  },
  {
   "cell_type": "code",
   "execution_count": 8,
   "metadata": {},
   "outputs": [
    {
     "data": {
      "text/html": [
       "<div>\n",
       "<style scoped>\n",
       "    .dataframe tbody tr th:only-of-type {\n",
       "        vertical-align: middle;\n",
       "    }\n",
       "\n",
       "    .dataframe tbody tr th {\n",
       "        vertical-align: top;\n",
       "    }\n",
       "\n",
       "    .dataframe thead th {\n",
       "        text-align: right;\n",
       "    }\n",
       "</style>\n",
       "<table border=\"1\" class=\"dataframe\">\n",
       "  <thead>\n",
       "    <tr style=\"text-align: right;\">\n",
       "      <th></th>\n",
       "      <th>VAERS_ID</th>\n",
       "      <th>STATE</th>\n",
       "      <th>AGE_YRS</th>\n",
       "      <th>SEX</th>\n",
       "      <th>DIED</th>\n",
       "      <th>L_THREAT</th>\n",
       "      <th>HOSPITAL</th>\n",
       "      <th>DISABLE</th>\n",
       "      <th>RECOVD</th>\n",
       "      <th>VAX_DATE</th>\n",
       "      <th>...</th>\n",
       "      <th>VAERS_ID</th>\n",
       "      <th>VAX_MANU</th>\n",
       "      <th>VAX_LOT</th>\n",
       "      <th>VAX_DOSE_SERIES</th>\n",
       "      <th>VAERS_ID</th>\n",
       "      <th>SYMPTOM1</th>\n",
       "      <th>SYMPTOM2</th>\n",
       "      <th>SYMPTOM3</th>\n",
       "      <th>SYMPTOM4</th>\n",
       "      <th>SYMPTOM5</th>\n",
       "    </tr>\n",
       "  </thead>\n",
       "  <tbody>\n",
       "    <tr>\n",
       "      <th>0</th>\n",
       "      <td>902418</td>\n",
       "      <td>NJ</td>\n",
       "      <td>56.0</td>\n",
       "      <td>0</td>\n",
       "      <td>0</td>\n",
       "      <td>0</td>\n",
       "      <td>0</td>\n",
       "      <td>0</td>\n",
       "      <td>1</td>\n",
       "      <td>12/15/2020</td>\n",
       "      <td>...</td>\n",
       "      <td>902418.0</td>\n",
       "      <td>PFIZER\\BIONTECH</td>\n",
       "      <td>EH9899</td>\n",
       "      <td>1</td>\n",
       "      <td>902418.0</td>\n",
       "      <td>hypoaesthesia</td>\n",
       "      <td>injection site hypoaesthesia</td>\n",
       "      <td></td>\n",
       "      <td></td>\n",
       "      <td></td>\n",
       "    </tr>\n",
       "    <tr>\n",
       "      <th>1</th>\n",
       "      <td>902440</td>\n",
       "      <td>AZ</td>\n",
       "      <td>35.0</td>\n",
       "      <td>0</td>\n",
       "      <td>0</td>\n",
       "      <td>0</td>\n",
       "      <td>0</td>\n",
       "      <td>0</td>\n",
       "      <td>1</td>\n",
       "      <td>12/15/2020</td>\n",
       "      <td>...</td>\n",
       "      <td>902440.0</td>\n",
       "      <td>PFIZER\\BIONTECH</td>\n",
       "      <td>EH9899</td>\n",
       "      <td>1</td>\n",
       "      <td>902440.0</td>\n",
       "      <td>headache</td>\n",
       "      <td></td>\n",
       "      <td></td>\n",
       "      <td></td>\n",
       "      <td></td>\n",
       "    </tr>\n",
       "    <tr>\n",
       "      <th>2</th>\n",
       "      <td>902446</td>\n",
       "      <td>WV</td>\n",
       "      <td>55.0</td>\n",
       "      <td>0</td>\n",
       "      <td>0</td>\n",
       "      <td>0</td>\n",
       "      <td>0</td>\n",
       "      <td>0</td>\n",
       "      <td>1</td>\n",
       "      <td>12/15/2020</td>\n",
       "      <td>...</td>\n",
       "      <td>902446.0</td>\n",
       "      <td>PFIZER\\BIONTECH</td>\n",
       "      <td>EH9899</td>\n",
       "      <td>1</td>\n",
       "      <td>902446.0</td>\n",
       "      <td>erythema</td>\n",
       "      <td>feeling hot</td>\n",
       "      <td>flushing</td>\n",
       "      <td></td>\n",
       "      <td></td>\n",
       "    </tr>\n",
       "    <tr>\n",
       "      <th>3</th>\n",
       "      <td>902464</td>\n",
       "      <td>LA</td>\n",
       "      <td>42.0</td>\n",
       "      <td>1</td>\n",
       "      <td>0</td>\n",
       "      <td>0</td>\n",
       "      <td>0</td>\n",
       "      <td>0</td>\n",
       "      <td>1</td>\n",
       "      <td>12/15/2020</td>\n",
       "      <td>...</td>\n",
       "      <td>902464.0</td>\n",
       "      <td></td>\n",
       "      <td></td>\n",
       "      <td></td>\n",
       "      <td>902464.0</td>\n",
       "      <td>dizziness</td>\n",
       "      <td>electrocardiogram normal</td>\n",
       "      <td>hyperhidrosis</td>\n",
       "      <td>laboratory test normal</td>\n",
       "      <td>presyncope</td>\n",
       "    </tr>\n",
       "    <tr>\n",
       "      <th>4</th>\n",
       "      <td>902465</td>\n",
       "      <td>AR</td>\n",
       "      <td>60.0</td>\n",
       "      <td>0</td>\n",
       "      <td>0</td>\n",
       "      <td>0</td>\n",
       "      <td>0</td>\n",
       "      <td>0</td>\n",
       "      <td>0</td>\n",
       "      <td>12/15/2020</td>\n",
       "      <td>...</td>\n",
       "      <td>902465.0</td>\n",
       "      <td>PFIZER\\BIONTECH</td>\n",
       "      <td>EH9899</td>\n",
       "      <td>1</td>\n",
       "      <td>902465.0</td>\n",
       "      <td>sensory disturbance</td>\n",
       "      <td>tremor</td>\n",
       "      <td></td>\n",
       "      <td></td>\n",
       "      <td></td>\n",
       "    </tr>\n",
       "    <tr>\n",
       "      <th>...</th>\n",
       "      <td>...</td>\n",
       "      <td>...</td>\n",
       "      <td>...</td>\n",
       "      <td>...</td>\n",
       "      <td>...</td>\n",
       "      <td>...</td>\n",
       "      <td>...</td>\n",
       "      <td>...</td>\n",
       "      <td>...</td>\n",
       "      <td>...</td>\n",
       "      <td>...</td>\n",
       "      <td>...</td>\n",
       "      <td>...</td>\n",
       "      <td>...</td>\n",
       "      <td>...</td>\n",
       "      <td>...</td>\n",
       "      <td>...</td>\n",
       "      <td>...</td>\n",
       "      <td>...</td>\n",
       "      <td>...</td>\n",
       "      <td>...</td>\n",
       "    </tr>\n",
       "    <tr>\n",
       "      <th>25959</th>\n",
       "      <td>931039</td>\n",
       "      <td>IN</td>\n",
       "      <td>44.0</td>\n",
       "      <td>0</td>\n",
       "      <td>0</td>\n",
       "      <td>0</td>\n",
       "      <td>0</td>\n",
       "      <td>0</td>\n",
       "      <td>1</td>\n",
       "      <td>01/07/2021</td>\n",
       "      <td>...</td>\n",
       "      <td>931039.0</td>\n",
       "      <td></td>\n",
       "      <td></td>\n",
       "      <td></td>\n",
       "      <td>931039.0</td>\n",
       "      <td>pyrexia</td>\n",
       "      <td></td>\n",
       "      <td></td>\n",
       "      <td></td>\n",
       "      <td></td>\n",
       "    </tr>\n",
       "    <tr>\n",
       "      <th>25960</th>\n",
       "      <td>931039</td>\n",
       "      <td>IN</td>\n",
       "      <td>44.0</td>\n",
       "      <td>0</td>\n",
       "      <td>0</td>\n",
       "      <td>0</td>\n",
       "      <td>0</td>\n",
       "      <td>0</td>\n",
       "      <td>1</td>\n",
       "      <td>01/07/2021</td>\n",
       "      <td>...</td>\n",
       "      <td>931039.0</td>\n",
       "      <td></td>\n",
       "      <td></td>\n",
       "      <td></td>\n",
       "      <td>931039.0</td>\n",
       "      <td>headache</td>\n",
       "      <td>injection site hypersensitivity</td>\n",
       "      <td>injection site pain</td>\n",
       "      <td>lethargy</td>\n",
       "      <td>pain</td>\n",
       "    </tr>\n",
       "    <tr>\n",
       "      <th>25961</th>\n",
       "      <td>931048</td>\n",
       "      <td>IN</td>\n",
       "      <td>65.0</td>\n",
       "      <td>1</td>\n",
       "      <td>0</td>\n",
       "      <td>0</td>\n",
       "      <td>0</td>\n",
       "      <td>0</td>\n",
       "      <td>0</td>\n",
       "      <td>01/07/2021</td>\n",
       "      <td>...</td>\n",
       "      <td>NaN</td>\n",
       "      <td>None</td>\n",
       "      <td>None</td>\n",
       "      <td>None</td>\n",
       "      <td>NaN</td>\n",
       "      <td>None</td>\n",
       "      <td>None</td>\n",
       "      <td>None</td>\n",
       "      <td>None</td>\n",
       "      <td>None</td>\n",
       "    </tr>\n",
       "    <tr>\n",
       "      <th>25962</th>\n",
       "      <td>931061</td>\n",
       "      <td>ME</td>\n",
       "      <td>61.0</td>\n",
       "      <td>0</td>\n",
       "      <td>0</td>\n",
       "      <td>0</td>\n",
       "      <td>0</td>\n",
       "      <td>0</td>\n",
       "      <td>1</td>\n",
       "      <td>12/29/2020</td>\n",
       "      <td>...</td>\n",
       "      <td>NaN</td>\n",
       "      <td>None</td>\n",
       "      <td>None</td>\n",
       "      <td>None</td>\n",
       "      <td>NaN</td>\n",
       "      <td>None</td>\n",
       "      <td>None</td>\n",
       "      <td>None</td>\n",
       "      <td>None</td>\n",
       "      <td>None</td>\n",
       "    </tr>\n",
       "    <tr>\n",
       "      <th>25963</th>\n",
       "      <td>931065</td>\n",
       "      <td>MA</td>\n",
       "      <td>54.0</td>\n",
       "      <td>0</td>\n",
       "      <td>0</td>\n",
       "      <td>0</td>\n",
       "      <td>0</td>\n",
       "      <td>0</td>\n",
       "      <td>1</td>\n",
       "      <td>12/30/2020</td>\n",
       "      <td>...</td>\n",
       "      <td>NaN</td>\n",
       "      <td>None</td>\n",
       "      <td>None</td>\n",
       "      <td>None</td>\n",
       "      <td>NaN</td>\n",
       "      <td>None</td>\n",
       "      <td>None</td>\n",
       "      <td>None</td>\n",
       "      <td>None</td>\n",
       "      <td>None</td>\n",
       "    </tr>\n",
       "  </tbody>\n",
       "</table>\n",
       "<p>25964 rows × 21 columns</p>\n",
       "</div>"
      ],
      "text/plain": [
       "      VAERS_ID STATE  AGE_YRS  SEX  DIED  L_THREAT  HOSPITAL  DISABLE  RECOVD  \\\n",
       "0       902418    NJ     56.0    0     0         0         0        0       1   \n",
       "1       902440    AZ     35.0    0     0         0         0        0       1   \n",
       "2       902446    WV     55.0    0     0         0         0        0       1   \n",
       "3       902464    LA     42.0    1     0         0         0        0       1   \n",
       "4       902465    AR     60.0    0     0         0         0        0       0   \n",
       "...        ...   ...      ...  ...   ...       ...       ...      ...     ...   \n",
       "25959   931039    IN     44.0    0     0         0         0        0       1   \n",
       "25960   931039    IN     44.0    0     0         0         0        0       1   \n",
       "25961   931048    IN     65.0    1     0         0         0        0       0   \n",
       "25962   931061    ME     61.0    0     0         0         0        0       1   \n",
       "25963   931065    MA     54.0    0     0         0         0        0       1   \n",
       "\n",
       "         VAX_DATE  ...  VAERS_ID         VAX_MANU VAX_LOT VAX_DOSE_SERIES  \\\n",
       "0      12/15/2020  ...  902418.0  PFIZER\\BIONTECH  EH9899               1   \n",
       "1      12/15/2020  ...  902440.0  PFIZER\\BIONTECH  EH9899               1   \n",
       "2      12/15/2020  ...  902446.0  PFIZER\\BIONTECH  EH9899               1   \n",
       "3      12/15/2020  ...  902464.0                                            \n",
       "4      12/15/2020  ...  902465.0  PFIZER\\BIONTECH  EH9899               1   \n",
       "...           ...  ...       ...              ...     ...             ...   \n",
       "25959  01/07/2021  ...  931039.0                                            \n",
       "25960  01/07/2021  ...  931039.0                                            \n",
       "25961  01/07/2021  ...       NaN             None    None            None   \n",
       "25962  12/29/2020  ...       NaN             None    None            None   \n",
       "25963  12/30/2020  ...       NaN             None    None            None   \n",
       "\n",
       "       VAERS_ID             SYMPTOM1                         SYMPTOM2  \\\n",
       "0      902418.0        hypoaesthesia     injection site hypoaesthesia   \n",
       "1      902440.0             headache                                    \n",
       "2      902446.0             erythema                      feeling hot   \n",
       "3      902464.0            dizziness         electrocardiogram normal   \n",
       "4      902465.0  sensory disturbance                           tremor   \n",
       "...         ...                  ...                              ...   \n",
       "25959  931039.0              pyrexia                                    \n",
       "25960  931039.0             headache  injection site hypersensitivity   \n",
       "25961       NaN                 None                             None   \n",
       "25962       NaN                 None                             None   \n",
       "25963       NaN                 None                             None   \n",
       "\n",
       "                  SYMPTOM3                SYMPTOM4    SYMPTOM5  \n",
       "0                                                               \n",
       "1                                                               \n",
       "2                 flushing                                      \n",
       "3            hyperhidrosis  laboratory test normal  presyncope  \n",
       "4                                                               \n",
       "...                    ...                     ...         ...  \n",
       "25959                                                           \n",
       "25960  injection site pain                lethargy        pain  \n",
       "25961                 None                    None        None  \n",
       "25962                 None                    None        None  \n",
       "25963                 None                    None        None  \n",
       "\n",
       "[25964 rows x 21 columns]"
      ]
     },
     "execution_count": 8,
     "metadata": {},
     "output_type": "execute_result"
    }
   ],
   "source": [
    "# Drop rows where 'VAX_LOT' or 'VAX_MANU' have null values\n",
    "event_vax_sympt_df"
   ]
  },
  {
   "cell_type": "code",
   "execution_count": 11,
   "metadata": {},
   "outputs": [
    {
     "name": "stdout",
     "output_type": "stream",
     "text": [
      "<class 'pandas.core.frame.DataFrame'>\n",
      "Index: 25933 entries, 0 to 25960\n",
      "Data columns (total 21 columns):\n",
      " #   Column           Non-Null Count  Dtype  \n",
      "---  ------           --------------  -----  \n",
      " 0   VAERS_ID         25933 non-null  int64  \n",
      " 1   STATE            25933 non-null  object \n",
      " 2   AGE_YRS          25933 non-null  float64\n",
      " 3   SEX              25933 non-null  int64  \n",
      " 4   DIED             25933 non-null  int64  \n",
      " 5   L_THREAT         25933 non-null  int64  \n",
      " 6   HOSPITAL         25933 non-null  int64  \n",
      " 7   DISABLE          25933 non-null  int64  \n",
      " 8   RECOVD           25933 non-null  int64  \n",
      " 9   VAX_DATE         25933 non-null  object \n",
      " 10  BIRTH_DEFECT     25933 non-null  int64  \n",
      " 11  VAERS_ID         25933 non-null  float64\n",
      " 12  VAX_MANU         25933 non-null  object \n",
      " 13  VAX_LOT          25933 non-null  object \n",
      " 14  VAX_DOSE_SERIES  25933 non-null  object \n",
      " 15  VAERS_ID         25933 non-null  float64\n",
      " 16  SYMPTOM1         25933 non-null  object \n",
      " 17  SYMPTOM2         25933 non-null  object \n",
      " 18  SYMPTOM3         25933 non-null  object \n",
      " 19  SYMPTOM4         25933 non-null  object \n",
      " 20  SYMPTOM5         25933 non-null  object \n",
      "dtypes: float64(3), int64(8), object(10)\n",
      "memory usage: 4.4+ MB\n"
     ]
    }
   ],
   "source": [
    "event_vax_sympt_df.info()"
   ]
  },
  {
   "cell_type": "code",
   "execution_count": 12,
   "metadata": {},
   "outputs": [
    {
     "data": {
      "image/png": "[encoded data removed]",
      "text/plain": [
       "<Figure size 800x800 with 1 Axes>"
      ]
     },
     "metadata": {},
     "output_type": "display_data"
    }
   ],
   "source": [
    "#Distribution of Reports By Sex\n",
    "\n",
    "# Separate data by gender\n",
    "female_count = event_vax_sympt_df[event_vax_sympt_df['SEX'] == 1].shape[0]\n",
    "male_count = event_vax_sympt_df[event_vax_sympt_df['SEX'] == 0].shape[0]\n",
    "\n",
    "# Plot pie chart for gender distribution\n",
    "plt.figure(figsize=(8, 8))\n",
    "plt.pie([female_count, male_count], labels=['Female', 'Male'], autopct='%1.1f%%', colors=['skyblue', 'orange'])\n",
    "plt.title('Gender Distribution')\n",
    "plt.show()"
   ]
  },
  {
   "cell_type": "markdown",
   "metadata": {},
   "source": [
    "Gender Disparity:\n",
    "\n",
    "The chart shows that 81.8% of the individuals are male and 18.2% are female."
   ]
  },
  {
   "cell_type": "code",
   "execution_count": 13,
   "metadata": {},
   "outputs": [
    {
     "name": "stderr",
     "output_type": "stream",
     "text": [
      "C:\\Users\\Usuario\\AppData\\Local\\Temp\\ipykernel_4704\\3678931123.py:6: SettingWithCopyWarning: \n",
      "A value is trying to be set on a copy of a slice from a DataFrame.\n",
      "Try using .loc[row_indexer,col_indexer] = value instead\n",
      "\n",
      "See the caveats in the documentation: https://pandas.pydata.org/pandas-docs/stable/user_guide/indexing.html#returning-a-view-versus-a-copy\n",
      "  event_vax_sympt_df['age_group'] = pd.cut(event_vax_sympt_df['AGE_YRS'], bins=age_bins, labels=age_labels)\n"
     ]
    },
    {
     "data": {
      "image/png": "[encoded data removed]",
      "text/plain": [
       "<Figure size 1000x600 with 1 Axes>"
      ]
     },
     "metadata": {},
     "output_type": "display_data"
    }
   ],
   "source": [
    "#Distribution of Reports By Age\n",
    "\n",
    "# Plot bar chart by continuous age intervals\n",
    "age_bins = range(0, 101, 10)  # Age bins with intervals of 10 years\n",
    "age_labels = [f'{i}-{i+9}' for i in age_bins[:-1]]\n",
    "event_vax_sympt_df['age_group'] = pd.cut(event_vax_sympt_df['AGE_YRS'], bins=age_bins, labels=age_labels)\n",
    "\n",
    "# Count age group frequencies\n",
    "age_group_counts = event_vax_sympt_df['age_group'].value_counts().sort_index()\n",
    "\n",
    "# Plot bar chart\n",
    "plt.figure(figsize=(10, 6))\n",
    "age_group_counts.plot(kind='bar', color='skyblue')\n",
    "plt.xlabel('Age Group')\n",
    "plt.ylabel('Count')\n",
    "plt.title('Number of Records by Age Group')\n",
    "plt.xticks(rotation=45)\n",
    "plt.show()\n"
   ]
  },
  {
   "cell_type": "markdown",
   "metadata": {},
   "source": [
    "The dataset is heavily skewed towards middle-aged individuals, with 30-59 being the dominant age range. "
   ]
  },
  {
   "cell_type": "code",
   "execution_count": 15,
   "metadata": {},
   "outputs": [
    {
     "name": "stdout",
     "output_type": "stream",
     "text": [
      "Average Age: 43.89\n",
      "Standard Deviation of Age: 13.66\n",
      "Median Age: 43.0\n"
     ]
    },
    {
     "name": "stderr",
     "output_type": "stream",
     "text": [
      "C:\\Users\\Usuario\\AppData\\Local\\Temp\\ipykernel_4704\\2565043682.py:3: FutureWarning: The default of observed=False is deprecated and will be changed to True in a future version of pandas. Pass observed=False to retain current behavior or observed=True to adopt the future default and silence this warning.\n",
      "  record_counts = event_vax_sympt_df.groupby(age_groups).size()\n"
     ]
    }
   ],
   "source": [
    "# Statistical summary for age groups\n",
    "age_groups = pd.cut(event_vax_sympt_df['AGE_YRS'], bins=[0, 9, 19, 29, 39, 49, 59, 69, 79, 89, 99], labels=['0-9', '10-19', '20-29', '30-39', '40-49', '50-59', '60-69', '70-79', '80-89', '90-99'])\n",
    "record_counts = event_vax_sympt_df.groupby(age_groups).size()\n",
    "mean_age = round(event_vax_sympt_df['AGE_YRS'].mean(), 2)\n",
    "std_age = round(event_vax_sympt_df['AGE_YRS'].std(), 2)\n",
    "median_age = round(event_vax_sympt_df['AGE_YRS'].median(), 2)\n",
    "\n",
    "# Print statistical summary\n",
    "print(f\"Average Age: {mean_age}\")\n",
    "print(f\"Standard Deviation of Age: {std_age}\")\n",
    "print(f\"Median Age: {median_age}\")\n"
   ]
  },
  {
   "cell_type": "code",
   "execution_count": 16,
   "metadata": {},
   "outputs": [
    {
     "data": {
      "image/png": "[encoded data removed]",
      "text/plain": [
       "<Figure size 1000x600 with 1 Axes>"
      ]
     },
     "metadata": {},
     "output_type": "display_data"
    }
   ],
   "source": [
    "#Examine severity of symptoms by gender\n",
    "import matplotlib.pyplot as plt\n",
    "\n",
    "# Assuming you already have the event_data_df DataFrame\n",
    "\n",
    "# Agrupar los datos por género y calcular la suma de las columnas L_THREAT y HOSPITAL\n",
    "severity_by_gender = event_vax_sympt_df.groupby('SEX')[['L_THREAT', 'HOSPITAL']].sum()\n",
    "\n",
    "# Graficar un gráfico de barras agrupado para la severidad por género\n",
    "severity_by_gender.plot(kind='bar', color=['skyblue', 'orange'], figsize=(10, 6))\n",
    "plt.xlabel('Gender (1 = Male, 0 = Female)')\n",
    "plt.ylabel('Count of Severe Cases')\n",
    "plt.title('Severity of Symptoms by Gender (Life Threat and Hospitalized)')\n",
    "plt.legend(['Life Threat', 'Hospitalized'])\n",
    "plt.xticks(rotation=0)\n",
    "plt.show()\n"
   ]
  },
  {
   "cell_type": "markdown",
   "metadata": {},
   "source": [
    "Females appear to have a higher likelihood of severe outcomes (hospitalizations and life-threatening cases) following vaccination compared to males"
   ]
  },
  {
   "cell_type": "code",
   "execution_count": 17,
   "metadata": {},
   "outputs": [
    {
     "name": "stderr",
     "output_type": "stream",
     "text": [
      "C:\\Users\\Usuario\\AppData\\Local\\Temp\\ipykernel_4704\\2930234687.py:4: FutureWarning: \n",
      "\n",
      "Passing `palette` without assigning `hue` is deprecated and will be removed in v0.14.0. Assign the `x` variable to `hue` and set `legend=False` for the same effect.\n",
      "\n",
      "  sns.boxplot(x='DIED', y='AGE_YRS', data=event_vax_sympt_df, palette=['skyblue', 'orange'])\n"
     ]
    },
    {
     "data": {
      "image/png": "[encoded data removed]",
      "text/plain": [
       "<Figure size 1000x600 with 1 Axes>"
      ]
     },
     "metadata": {},
     "output_type": "display_data"
    }
   ],
   "source": [
    "# Boxplot for age distribution by mortality status\n",
    "\n",
    "plt.figure(figsize=(10, 6))\n",
    "sns.boxplot(x='DIED', y='AGE_YRS', data=event_vax_sympt_df, palette=['skyblue', 'orange'])\n",
    "plt.xlabel('Mortality Status (0 = No, 1 = Yes)')\n",
    "plt.ylabel('Age')\n",
    "plt.title('Age Distribution by Mortality Status')\n",
    "plt.show()\n",
    "\n"
   ]
  },
  {
   "cell_type": "markdown",
   "metadata": {},
   "source": [
    "Most individuals who died were between 70 to 90 years old, suggesting that older age is associated with a higher risk of mortality following vaccination.\n",
    "\n",
    "The plot clearly suggests that older age is a major factor in increased mortality risk post-vaccination, as the median and the IQR for deceased individuals are both much higher compared to those who survived\n",
    "\n",
    "The survivors' group shows numerous outliers at older ages, which might indicate that there are older individuals who survived despite the increased risk"
   ]
  },
  {
   "cell_type": "code",
   "execution_count": 18,
   "metadata": {},
   "outputs": [
    {
     "data": {
      "image/png": "[encoded data removed]",
      "text/plain": [
       "<Figure size 1000x600 with 1 Axes>"
      ]
     },
     "metadata": {},
     "output_type": "display_data"
    }
   ],
   "source": [
    "# Histogram for mortality rates by age groups\n",
    "plt.figure(figsize=(10, 6))\n",
    "sns.histplot(event_vax_sympt_df[event_vax_sympt_df['DIED'] == 1]['AGE_YRS'], bins=15, color='skyblue', kde=True)\n",
    "plt.xlabel('Age')\n",
    "plt.ylabel('Frequency')\n",
    "plt.title('Age Distribution for Patients Who Died')\n",
    "plt.show()"
   ]
  },
  {
   "cell_type": "code",
   "execution_count": 20,
   "metadata": {},
   "outputs": [
    {
     "data": {
      "image/png": "[encoded data removed]",
      "text/plain": [
       "<Figure size 1500x1000 with 1 Axes>"
      ]
     },
     "metadata": {},
     "output_type": "display_data"
    }
   ],
   "source": [
    "# Group severity data by state\n",
    "severity_by_state = event_data_df.groupby('STATE')[['L_THREAT', 'HOSPITAL']].sum().reset_index()\n",
    "\n",
    "# Add total and calculate ratios\n",
    "severity_by_state['TOTAL'] = severity_by_state['L_THREAT'] + severity_by_state['HOSPITAL']\n",
    "severity_by_state['L_THREAT_RATIO'] = severity_by_state['L_THREAT'] / severity_by_state['TOTAL']\n",
    "severity_by_state['HOSPITAL_RATIO'] = severity_by_state['HOSPITAL'] / severity_by_state['TOTAL']\n",
    "\n",
    "# Plotting scatter plot for severity ratios by state\n",
    "plt.figure(figsize=(15, 10))\n",
    "plt.scatter(severity_by_state['STATE'], severity_by_state['L_THREAT_RATIO'], color='red', label='Life Threat Ratio')\n",
    "plt.scatter(severity_by_state['STATE'], severity_by_state['HOSPITAL_RATIO'], color='orange', label='Hospitalized Ratio')\n",
    "plt.xlabel('State')\n",
    "plt.ylabel('Severity Ratio')\n",
    "plt.title('Severity Ratios of Symptoms by State')\n",
    "plt.xticks(rotation=90)\n",
    "plt.legend()\n",
    "plt.show()\n",
    "\n"
   ]
  },
  {
   "cell_type": "code",
   "execution_count": 21,
   "metadata": {},
   "outputs": [
    {
     "name": "stderr",
     "output_type": "stream",
     "text": [
      "C:\\Users\\Usuario\\AppData\\Local\\Temp\\ipykernel_4704\\3542923536.py:7: FutureWarning: \n",
      "\n",
      "Passing `palette` without assigning `hue` is deprecated and will be removed in v0.14.0. Assign the `x` variable to `hue` and set `legend=False` for the same effect.\n",
      "\n",
      "  sns.barplot(x='STATE', y='FREQUENCY', data=reports_by_state, palette='viridis')\n"
     ]
    },
    {
     "data": {
      "image/png": "[encoded data removed]",
      "text/plain": [
       "<Figure size 1500x1000 with 1 Axes>"
      ]
     },
     "metadata": {},
     "output_type": "display_data"
    }
   ],
   "source": [
    "# Group reports data by state for frequency analysis\n",
    "reports_by_state = event_data_df['STATE'].value_counts().reset_index()\n",
    "reports_by_state.columns = ['STATE', 'FREQUENCY']\n",
    "\n",
    "# Plotting bar chart for frequency by state\n",
    "plt.figure(figsize=(15, 10))\n",
    "sns.barplot(x='STATE', y='FREQUENCY', data=reports_by_state, palette='viridis')\n",
    "plt.xlabel('State')\n",
    "plt.ylabel('Frequency of Reports')\n",
    "plt.title('Frequency of Reports by State')\n",
    "plt.xticks(rotation=90)\n",
    "plt.show()"
   ]
  },
  {
   "cell_type": "code",
   "execution_count": 22,
   "metadata": {},
   "outputs": [
    {
     "name": "stderr",
     "output_type": "stream",
     "text": [
      "C:\\Users\\Usuario\\AppData\\Local\\Temp\\ipykernel_4704\\4177850238.py:9: FutureWarning: \n",
      "\n",
      "Passing `palette` without assigning `hue` is deprecated and will be removed in v0.14.0. Assign the `x` variable to `hue` and set `legend=False` for the same effect.\n",
      "\n",
      "  sns.barplot(x='STATE', y='DIED', data=deaths_by_state, palette='Blues')\n"
     ]
    },
    {
     "data": {
      "image/png": "[encoded data removed]",
      "text/plain": [
       "<Figure size 1500x1000 with 1 Axes>"
      ]
     },
     "metadata": {},
     "output_type": "display_data"
    }
   ],
   "source": [
    "# Group deaths by state\n",
    "deaths_by_state = event_data_df.groupby('STATE')['DIED'].sum().reset_index()\n",
    "\n",
    "# Sort data in descending order by number of deaths\n",
    "deaths_by_state = deaths_by_state.sort_values(by='DIED', ascending=False)\n",
    "\n",
    "# Plotting bar chart for deaths by state in descending order\n",
    "plt.figure(figsize=(15, 10))\n",
    "sns.barplot(x='STATE', y='DIED', data=deaths_by_state, palette='Blues')\n",
    "plt.xlabel('State')\n",
    "plt.ylabel('Number of Deaths')\n",
    "plt.title('Number of Deaths by State (Descending Order)')\n",
    "plt.xticks(rotation=90)\n",
    "plt.show()\n"
   ]
  },
  {
   "cell_type": "code",
   "execution_count": 23,
   "metadata": {},
   "outputs": [
    {
     "name": "stderr",
     "output_type": "stream",
     "text": [
      "C:\\Users\\Usuario\\AppData\\Local\\Temp\\ipykernel_4704\\3193590573.py:4: SettingWithCopyWarning: \n",
      "A value is trying to be set on a copy of a slice from a DataFrame.\n",
      "Try using .loc[row_indexer,col_indexer] = value instead\n",
      "\n",
      "See the caveats in the documentation: https://pandas.pydata.org/pandas-docs/stable/user_guide/indexing.html#returning-a-view-versus-a-copy\n",
      "  severity_features['STATE'] = pd.factorize(event_vax_sympt_df['STATE'])[0]\n"
     ]
    },
    {
     "data": {
      "image/png": "[encoded data removed]",
      "text/plain": [
       "<Figure size 1000x800 with 2 Axes>"
      ]
     },
     "metadata": {},
     "output_type": "display_data"
    }
   ],
   "source": [
    "\n",
    "# Correlation heatmap for severity features including deaths and states\n",
    "plt.figure(figsize=(10, 8))\n",
    "severity_features = event_vax_sympt_df[['L_THREAT', 'HOSPITAL', 'DISABLE', 'DIED']]\n",
    "severity_features['STATE'] = pd.factorize(event_vax_sympt_df['STATE'])[0]\n",
    "sns.heatmap(severity_features.corr(), annot=True, cmap='coolwarm', linewidths=0.5)\n",
    "plt.title('Correlation Heatmap of Severity Features Including Deaths and States')\n",
    "plt.show()"
   ]
  },
  {
   "cell_type": "markdown",
   "metadata": {},
   "source": [
    "The only weak correlation is between life-threatening symptoms and hospitalization (0.31), which makes sense since severe cases often require hospitalization.\n",
    "Other correlations are very weak or near zero, suggesting that the occurrences of DISABLE, DIED, and STATE have very little or no linear dependency with each other or with the severity features."
   ]
  },
  {
   "cell_type": "code",
   "execution_count": 26,
   "metadata": {},
   "outputs": [
    {
     "data": {
      "application/vnd.plotly.v1+json": {
       "config": {
        "plotlyServerURL": "https://plot.ly"
       },
       "data": [
        {
         "coloraxis": "coloraxis",
         "geo": "geo",
         "hovertemplate": "STATE=%{location}<br>REPORT_RATIO=%{z}<extra></extra>",
         "locationmode": "USA-states",
         "locations": [
          "CA",
          "TX",
          "NY",
          "FL",
          "IL",
          "OH",
          "PA",
          "MA",
          "MI",
          "NJ",
          "IN",
          "CO",
          "WA",
          "MO",
          "VA",
          "AZ",
          "WI",
          "NC",
          "GA",
          "TN",
          "MN",
          "MD",
          "CT",
          "OK",
          "AR",
          "KS",
          "KY",
          "IA",
          "OR",
          "ME",
          "MT",
          "NE",
          "AL",
          "UT",
          "WV",
          "AK",
          "LA",
          "NM",
          "NV",
          "ID",
          "MS",
          "NH",
          "SC",
          "SD",
          "HI",
          "ND",
          "RI",
          "VT",
          "WY",
          "DE"
         ],
         "name": "",
         "type": "choropleth",
         "z": [
          0.0937030038946516,
          0.07604210851039217,
          0.06000077121813905,
          0.04507770022750935,
          0.0434195812285505,
          0.03744264065090811,
          0.036285813442332164,
          0.028766436586588517,
          0.028573632051825858,
          0.028265144796205607,
          0.027686731191917634,
          0.02730112212239232,
          0.025180272240003083,
          0.024910345891335364,
          0.022481008753325878,
          0.022095399683800563,
          0.021169937916939805,
          0.020822889754367024,
          0.02051440249874677,
          0.020398719777889176,
          0.01796938263987969,
          0.01777657810511703,
          0.015848532757490458,
          0.015270119153202484,
          0.014614583735009448,
          0.014344657386341726,
          0.013457756526433502,
          0.01341919561948097,
          0.013264951991670845,
          0.011799637527474646,
          0.01164539389966452,
          0.011298345737091736,
          0.009948713993753133,
          0.009794470365943006,
          0.009408861296417692,
          0.008907569506034782,
          0.008560521343461998,
          0.008560521343461998,
          0.007943546832221494,
          0.007635059576601242,
          0.006748158716693016,
          0.006555354181930359,
          0.006516793274977828,
          0.005899818763737323,
          0.00532140515944935,
          0.004935796089924035,
          0.004627308834303782,
          0.004395943392588594,
          0.0018123626267689816,
          0.0015809971850537924
         ]
        }
       ],
       "layout": {
        "coloraxis": {
         "colorbar": {
          "title": {
           "text": "REPORT_RATIO"
          }
         },
         "colorscale": [
          [
           0,
           "rgb(247,251,255)"
          ],
          [
           0.125,
           "rgb(222,235,247)"
          ],
          [
           0.25,
           "rgb(198,219,239)"
          ],
          [
           0.375,
           "rgb(158,202,225)"
          ],
          [
           0.5,
           "rgb(107,174,214)"
          ],
          [
           0.625,
           "rgb(66,146,198)"
          ],
          [
           0.75,
           "rgb(33,113,181)"
          ],
          [
           0.875,
           "rgb(8,81,156)"
          ],
          [
           1,
           "rgb(8,48,107)"
          ]
         ]
        },
        "geo": {
         "center": {},
         "domain": {
          "x": [
           0,
           1
          ],
          "y": [
           0,
           1
          ]
         },
         "lakecolor": "rgb(255, 255, 255)",
         "scope": "usa"
        },
        "legend": {
         "tracegroupgap": 0
        },
        "template": {
         "data": {
          "bar": [
           {
            "error_x": {
             "color": "#2a3f5f"
            },
            "error_y": {
             "color": "#2a3f5f"
            },
            "marker": {
             "line": {
              "color": "#E5ECF6",
              "width": 0.5
             },
             "pattern": {
              "fillmode": "overlay",
              "size": 10,
              "solidity": 0.2
             }
            },
            "type": "bar"
           }
          ],
          "barpolar": [
           {
            "marker": {
             "line": {
              "color": "#E5ECF6",
              "width": 0.5
             },
             "pattern": {
              "fillmode": "overlay",
              "size": 10,
              "solidity": 0.2
             }
            },
            "type": "barpolar"
           }
          ],
          "carpet": [
           {
            "aaxis": {
             "endlinecolor": "#2a3f5f",
             "gridcolor": "white",
             "linecolor": "white",
             "minorgridcolor": "white",
             "startlinecolor": "#2a3f5f"
            },
            "baxis": {
             "endlinecolor": "#2a3f5f",
             "gridcolor": "white",
             "linecolor": "white",
             "minorgridcolor": "white",
             "startlinecolor": "#2a3f5f"
            },
            "type": "carpet"
           }
          ],
          "choropleth": [
           {
            "colorbar": {
             "outlinewidth": 0,
             "ticks": ""
            },
            "type": "choropleth"
           }
          ],
          "contour": [
           {
            "colorbar": {
             "outlinewidth": 0,
             "ticks": ""
            },
            "colorscale": [
             [
              0,
              "#0d0887"
             ],
             [
              0.1111111111111111,
              "#46039f"
             ],
             [
              0.2222222222222222,
              "#7201a8"
             ],
             [
              0.3333333333333333,
              "#9c179e"
             ],
             [
              0.4444444444444444,
              "#bd3786"
             ],
             [
              0.5555555555555556,
              "#d8576b"
             ],
             [
              0.6666666666666666,
              "#ed7953"
             ],
             [
              0.7777777777777778,
              "#fb9f3a"
             ],
             [
              0.8888888888888888,
              "#fdca26"
             ],
             [
              1,
              "#f0f921"
             ]
            ],
            "type": "contour"
           }
          ],
          "contourcarpet": [
           {
            "colorbar": {
             "outlinewidth": 0,
             "ticks": ""
            },
            "type": "contourcarpet"
           }
          ],
          "heatmap": [
           {
            "colorbar": {
             "outlinewidth": 0,
             "ticks": ""
            },
            "colorscale": [
             [
              0,
              "#0d0887"
             ],
             [
              0.1111111111111111,
              "#46039f"
             ],
             [
              0.2222222222222222,
              "#7201a8"
             ],
             [
              0.3333333333333333,
              "#9c179e"
             ],
             [
              0.4444444444444444,
              "#bd3786"
             ],
             [
              0.5555555555555556,
              "#d8576b"
             ],
             [
              0.6666666666666666,
              "#ed7953"
             ],
             [
              0.7777777777777778,
              "#fb9f3a"
             ],
             [
              0.8888888888888888,
              "#fdca26"
             ],
             [
              1,
              "#f0f921"
             ]
            ],
            "type": "heatmap"
           }
          ],
          "heatmapgl": [
           {
            "colorbar": {
             "outlinewidth": 0,
             "ticks": ""
            },
            "colorscale": [
             [
              0,
              "#0d0887"
             ],
             [
              0.1111111111111111,
              "#46039f"
             ],
             [
              0.2222222222222222,
              "#7201a8"
             ],
             [
              0.3333333333333333,
              "#9c179e"
             ],
             [
              0.4444444444444444,
              "#bd3786"
             ],
             [
              0.5555555555555556,
              "#d8576b"
             ],
             [
              0.6666666666666666,
              "#ed7953"
             ],
             [
              0.7777777777777778,
              "#fb9f3a"
             ],
             [
              0.8888888888888888,
              "#fdca26"
             ],
             [
              1,
              "#f0f921"
             ]
            ],
            "type": "heatmapgl"
           }
          ],
          "histogram": [
           {
            "marker": {
             "pattern": {
              "fillmode": "overlay",
              "size": 10,
              "solidity": 0.2
             }
            },
            "type": "histogram"
           }
          ],
          "histogram2d": [
           {
            "colorbar": {
             "outlinewidth": 0,
             "ticks": ""
            },
            "colorscale": [
             [
              0,
              "#0d0887"
             ],
             [
              0.1111111111111111,
              "#46039f"
             ],
             [
              0.2222222222222222,
              "#7201a8"
             ],
             [
              0.3333333333333333,
              "#9c179e"
             ],
             [
              0.4444444444444444,
              "#bd3786"
             ],
             [
              0.5555555555555556,
              "#d8576b"
             ],
             [
              0.6666666666666666,
              "#ed7953"
             ],
             [
              0.7777777777777778,
              "#fb9f3a"
             ],
             [
              0.8888888888888888,
              "#fdca26"
             ],
             [
              1,
              "#f0f921"
             ]
            ],
            "type": "histogram2d"
           }
          ],
          "histogram2dcontour": [
           {
            "colorbar": {
             "outlinewidth": 0,
             "ticks": ""
            },
            "colorscale": [
             [
              0,
              "#0d0887"
             ],
             [
              0.1111111111111111,
              "#46039f"
             ],
             [
              0.2222222222222222,
              "#7201a8"
             ],
             [
              0.3333333333333333,
              "#9c179e"
             ],
             [
              0.4444444444444444,
              "#bd3786"
             ],
             [
              0.5555555555555556,
              "#d8576b"
             ],
             [
              0.6666666666666666,
              "#ed7953"
             ],
             [
              0.7777777777777778,
              "#fb9f3a"
             ],
             [
              0.8888888888888888,
              "#fdca26"
             ],
             [
              1,
              "#f0f921"
             ]
            ],
            "type": "histogram2dcontour"
           }
          ],
          "mesh3d": [
           {
            "colorbar": {
             "outlinewidth": 0,
             "ticks": ""
            },
            "type": "mesh3d"
           }
          ],
          "parcoords": [
           {
            "line": {
             "colorbar": {
              "outlinewidth": 0,
              "ticks": ""
             }
            },
            "type": "parcoords"
           }
          ],
          "pie": [
           {
            "automargin": true,
            "type": "pie"
           }
          ],
          "scatter": [
           {
            "fillpattern": {
             "fillmode": "overlay",
             "size": 10,
             "solidity": 0.2
            },
            "type": "scatter"
           }
          ],
          "scatter3d": [
           {
            "line": {
             "colorbar": {
              "outlinewidth": 0,
              "ticks": ""
             }
            },
            "marker": {
             "colorbar": {
              "outlinewidth": 0,
              "ticks": ""
             }
            },
            "type": "scatter3d"
           }
          ],
          "scattercarpet": [
           {
            "marker": {
             "colorbar": {
              "outlinewidth": 0,
              "ticks": ""
             }
            },
            "type": "scattercarpet"
           }
          ],
          "scattergeo": [
           {
            "marker": {
             "colorbar": {
              "outlinewidth": 0,
              "ticks": ""
             }
            },
            "type": "scattergeo"
           }
          ],
          "scattergl": [
           {
            "marker": {
             "colorbar": {
              "outlinewidth": 0,
              "ticks": ""
             }
            },
            "type": "scattergl"
           }
          ],
          "scattermapbox": [
           {
            "marker": {
             "colorbar": {
              "outlinewidth": 0,
              "ticks": ""
             }
            },
            "type": "scattermapbox"
           }
          ],
          "scatterpolar": [
           {
            "marker": {
             "colorbar": {
              "outlinewidth": 0,
              "ticks": ""
             }
            },
            "type": "scatterpolar"
           }
          ],
          "scatterpolargl": [
           {
            "marker": {
             "colorbar": {
              "outlinewidth": 0,
              "ticks": ""
             }
            },
            "type": "scatterpolargl"
           }
          ],
          "scatterternary": [
           {
            "marker": {
             "colorbar": {
              "outlinewidth": 0,
              "ticks": ""
             }
            },
            "type": "scatterternary"
           }
          ],
          "surface": [
           {
            "colorbar": {
             "outlinewidth": 0,
             "ticks": ""
            },
            "colorscale": [
             [
              0,
              "#0d0887"
             ],
             [
              0.1111111111111111,
              "#46039f"
             ],
             [
              0.2222222222222222,
              "#7201a8"
             ],
             [
              0.3333333333333333,
              "#9c179e"
             ],
             [
              0.4444444444444444,
              "#bd3786"
             ],
             [
              0.5555555555555556,
              "#d8576b"
             ],
             [
              0.6666666666666666,
              "#ed7953"
             ],
             [
              0.7777777777777778,
              "#fb9f3a"
             ],
             [
              0.8888888888888888,
              "#fdca26"
             ],
             [
              1,
              "#f0f921"
             ]
            ],
            "type": "surface"
           }
          ],
          "table": [
           {
            "cells": {
             "fill": {
              "color": "#EBF0F8"
             },
             "line": {
              "color": "white"
             }
            },
            "header": {
             "fill": {
              "color": "#C8D4E3"
             },
             "line": {
              "color": "white"
             }
            },
            "type": "table"
           }
          ]
         },
         "layout": {
          "annotationdefaults": {
           "arrowcolor": "#2a3f5f",
           "arrowhead": 0,
           "arrowwidth": 1
          },
          "autotypenumbers": "strict",
          "coloraxis": {
           "colorbar": {
            "outlinewidth": 0,
            "ticks": ""
           }
          },
          "colorscale": {
           "diverging": [
            [
             0,
             "#8e0152"
            ],
            [
             0.1,
             "#c51b7d"
            ],
            [
             0.2,
             "#de77ae"
            ],
            [
             0.3,
             "#f1b6da"
            ],
            [
             0.4,
             "#fde0ef"
            ],
            [
             0.5,
             "#f7f7f7"
            ],
            [
             0.6,
             "#e6f5d0"
            ],
            [
             0.7,
             "#b8e186"
            ],
            [
             0.8,
             "#7fbc41"
            ],
            [
             0.9,
             "#4d9221"
            ],
            [
             1,
             "#276419"
            ]
           ],
           "sequential": [
            [
             0,
             "#0d0887"
            ],
            [
             0.1111111111111111,
             "#46039f"
            ],
            [
             0.2222222222222222,
             "#7201a8"
            ],
            [
             0.3333333333333333,
             "#9c179e"
            ],
            [
             0.4444444444444444,
             "#bd3786"
            ],
            [
             0.5555555555555556,
             "#d8576b"
            ],
            [
             0.6666666666666666,
             "#ed7953"
            ],
            [
             0.7777777777777778,
             "#fb9f3a"
            ],
            [
             0.8888888888888888,
             "#fdca26"
            ],
            [
             1,
             "#f0f921"
            ]
           ],
           "sequentialminus": [
            [
             0,
             "#0d0887"
            ],
            [
             0.1111111111111111,
             "#46039f"
            ],
            [
             0.2222222222222222,
             "#7201a8"
            ],
            [
             0.3333333333333333,
             "#9c179e"
            ],
            [
             0.4444444444444444,
             "#bd3786"
            ],
            [
             0.5555555555555556,
             "#d8576b"
            ],
            [
             0.6666666666666666,
             "#ed7953"
            ],
            [
             0.7777777777777778,
             "#fb9f3a"
            ],
            [
             0.8888888888888888,
             "#fdca26"
            ],
            [
             1,
             "#f0f921"
            ]
           ]
          },
          "colorway": [
           "#636efa",
           "#EF553B",
           "#00cc96",
           "#ab63fa",
           "#FFA15A",
           "#19d3f3",
           "#FF6692",
           "#B6E880",
           "#FF97FF",
           "#FECB52"
          ],
          "font": {
           "color": "#2a3f5f"
          },
          "geo": {
           "bgcolor": "white",
           "lakecolor": "white",
           "landcolor": "#E5ECF6",
           "showlakes": true,
           "showland": true,
           "subunitcolor": "white"
          },
          "hoverlabel": {
           "align": "left"
          },
          "hovermode": "closest",
          "mapbox": {
           "style": "light"
          },
          "paper_bgcolor": "white",
          "plot_bgcolor": "#E5ECF6",
          "polar": {
           "angularaxis": {
            "gridcolor": "white",
            "linecolor": "white",
            "ticks": ""
           },
           "bgcolor": "#E5ECF6",
           "radialaxis": {
            "gridcolor": "white",
            "linecolor": "white",
            "ticks": ""
           }
          },
          "scene": {
           "xaxis": {
            "backgroundcolor": "#E5ECF6",
            "gridcolor": "white",
            "gridwidth": 2,
            "linecolor": "white",
            "showbackground": true,
            "ticks": "",
            "zerolinecolor": "white"
           },
           "yaxis": {
            "backgroundcolor": "#E5ECF6",
            "gridcolor": "white",
            "gridwidth": 2,
            "linecolor": "white",
            "showbackground": true,
            "ticks": "",
            "zerolinecolor": "white"
           },
           "zaxis": {
            "backgroundcolor": "#E5ECF6",
            "gridcolor": "white",
            "gridwidth": 2,
            "linecolor": "white",
            "showbackground": true,
            "ticks": "",
            "zerolinecolor": "white"
           }
          },
          "shapedefaults": {
           "line": {
            "color": "#2a3f5f"
           }
          },
          "ternary": {
           "aaxis": {
            "gridcolor": "white",
            "linecolor": "white",
            "ticks": ""
           },
           "baxis": {
            "gridcolor": "white",
            "linecolor": "white",
            "ticks": ""
           },
           "bgcolor": "#E5ECF6",
           "caxis": {
            "gridcolor": "white",
            "linecolor": "white",
            "ticks": ""
           }
          },
          "title": {
           "x": 0.05
          },
          "xaxis": {
           "automargin": true,
           "gridcolor": "white",
           "linecolor": "white",
           "ticks": "",
           "title": {
            "standoff": 15
           },
           "zerolinecolor": "white",
           "zerolinewidth": 2
          },
          "yaxis": {
           "automargin": true,
           "gridcolor": "white",
           "linecolor": "white",
           "ticks": "",
           "title": {
            "standoff": 15
           },
           "zerolinecolor": "white",
           "zerolinewidth": 2
          }
         }
        },
        "title": {
         "text": "Choropleth Map of Report Ratio by State"
        }
       }
      }
     },
     "metadata": {},
     "output_type": "display_data"
    }
   ],
   "source": [
    "# Group report data by state\n",
    "report_by_state = event_vax_sympt_df['STATE'].value_counts().reset_index()\n",
    "report_by_state.columns = ['STATE', 'FREQUENCY']\n",
    "\n",
    "# Calculate the report ratio by state\n",
    "total_reports = report_by_state['FREQUENCY'].sum()\n",
    "report_by_state['REPORT_RATIO'] = report_by_state['FREQUENCY'] / total_reports\n",
    "\n",
    "# Plotting a choropleth map for report ratio by state using Plotly\n",
    "fig = px.choropleth(\n",
    "    report_by_state,\n",
    "    locations='STATE',\n",
    "    locationmode='USA-states',  # Set the location mode to US states\n",
    "    color='REPORT_RATIO',\n",
    "    color_continuous_scale='Blues',\n",
    "    scope='usa',\n",
    "    title='Choropleth Map of Report Ratio by State'\n",
    ")\n",
    "\n",
    "fig.update_layout(\n",
    "    geo=dict(\n",
    "        lakecolor='rgb(255, 255, 255)',\n",
    "    )\n",
    ")\n",
    "\n",
    "fig.show()\n"
   ]
  },
  {
   "cell_type": "code",
   "execution_count": null,
   "metadata": {},
   "outputs": [],
   "source": [
    "# Libraries\n",
    "from wordcloud import WordCloud\n",
    "import matplotlib.pyplot as plt\n",
    "\n",
    "# Create a list of word\n",
    "text=(\"Python Python Python Matplotlib\")\n",
    "\n",
    "# Create the wordcloud object\n",
    "wordcloud = WordCloud(width=480, height=480, margin=0).generate(text)\n",
    "\n",
    "# Display the generated image:\n",
    "plt.imshow(wordcloud, interpolation='bilinear')\n",
    "plt.axis(\"off\")\n",
    "plt.margins(x=0, y=0)\n",
    "plt.show()"
   ]
  },
  {
   "cell_type": "code",
   "execution_count": 27,
   "metadata": {},
   "outputs": [
    {
     "data": {
      "application/vnd.plotly.v1+json": {
       "config": {
        "plotlyServerURL": "https://plot.ly"
       },
       "data": [
        {
         "coloraxis": "coloraxis",
         "geo": "geo",
         "hovertemplate": "STATE=%{location}<br>DEATH_RATIO=%{z}<extra></extra>",
         "locationmode": "USA-states",
         "locations": [
          "HI",
          "SD",
          "KY",
          "WI",
          "AR",
          "IA",
          "NE",
          "MI",
          "WA",
          "IN",
          "LA",
          "MD",
          "FL",
          "OH",
          "MA",
          "NC",
          "MT",
          "CO",
          "NY",
          "OK",
          "MN",
          "CA",
          "IL",
          "VA",
          "MO",
          "NJ",
          "PA",
          "TX",
          "UT",
          "VT",
          "SC",
          "WV",
          "RI",
          "OR",
          "TN",
          "AK",
          "NV",
          "NM",
          "NH",
          "ND",
          "AL",
          "MS",
          "ME",
          "KS",
          "ID",
          "GA",
          "DE",
          "CT",
          "AZ",
          "WY"
         ],
         "name": "",
         "type": "choropleth",
         "z": [
          0.021739130434782608,
          0.0196078431372549,
          0.014326647564469915,
          0.012750455373406194,
          0.010554089709762533,
          0.008620689655172414,
          0.006825938566552901,
          0.006747638326585695,
          0.006125574272588055,
          0.005571030640668524,
          0.0045045045045045045,
          0.004338394793926247,
          0.00427715996578272,
          0.004119464469618949,
          0.004021447721179625,
          0.003703703703703704,
          0.0033112582781456954,
          0.002824858757062147,
          0.002570694087403599,
          0.0025252525252525255,
          0.002145922746781116,
          0.00205761316872428,
          0.0017761989342806395,
          0.0017152658662092624,
          0.0015479876160990713,
          0.001364256480218281,
          0.0010626992561105207,
          0.0010141987829614604,
          0,
          0,
          0,
          0,
          0,
          0,
          0,
          0,
          0,
          0,
          0,
          0,
          0,
          0,
          0,
          0,
          0,
          0,
          0,
          0,
          0,
          0
         ]
        }
       ],
       "layout": {
        "coloraxis": {
         "colorbar": {
          "title": {
           "text": "DEATH_RATIO"
          }
         },
         "colorscale": [
          [
           0,
           "rgb(255,245,240)"
          ],
          [
           0.125,
           "rgb(254,224,210)"
          ],
          [
           0.25,
           "rgb(252,187,161)"
          ],
          [
           0.375,
           "rgb(252,146,114)"
          ],
          [
           0.5,
           "rgb(251,106,74)"
          ],
          [
           0.625,
           "rgb(239,59,44)"
          ],
          [
           0.75,
           "rgb(203,24,29)"
          ],
          [
           0.875,
           "rgb(165,15,21)"
          ],
          [
           1,
           "rgb(103,0,13)"
          ]
         ]
        },
        "geo": {
         "center": {},
         "domain": {
          "x": [
           0,
           1
          ],
          "y": [
           0,
           1
          ]
         },
         "lakecolor": "rgb(255, 255, 255)",
         "scope": "usa"
        },
        "legend": {
         "tracegroupgap": 0
        },
        "template": {
         "data": {
          "bar": [
           {
            "error_x": {
             "color": "#2a3f5f"
            },
            "error_y": {
             "color": "#2a3f5f"
            },
            "marker": {
             "line": {
              "color": "#E5ECF6",
              "width": 0.5
             },
             "pattern": {
              "fillmode": "overlay",
              "size": 10,
              "solidity": 0.2
             }
            },
            "type": "bar"
           }
          ],
          "barpolar": [
           {
            "marker": {
             "line": {
              "color": "#E5ECF6",
              "width": 0.5
             },
             "pattern": {
              "fillmode": "overlay",
              "size": 10,
              "solidity": 0.2
             }
            },
            "type": "barpolar"
           }
          ],
          "carpet": [
           {
            "aaxis": {
             "endlinecolor": "#2a3f5f",
             "gridcolor": "white",
             "linecolor": "white",
             "minorgridcolor": "white",
             "startlinecolor": "#2a3f5f"
            },
            "baxis": {
             "endlinecolor": "#2a3f5f",
             "gridcolor": "white",
             "linecolor": "white",
             "minorgridcolor": "white",
             "startlinecolor": "#2a3f5f"
            },
            "type": "carpet"
           }
          ],
          "choropleth": [
           {
            "colorbar": {
             "outlinewidth": 0,
             "ticks": ""
            },
            "type": "choropleth"
           }
          ],
          "contour": [
           {
            "colorbar": {
             "outlinewidth": 0,
             "ticks": ""
            },
            "colorscale": [
             [
              0,
              "#0d0887"
             ],
             [
              0.1111111111111111,
              "#46039f"
             ],
             [
              0.2222222222222222,
              "#7201a8"
             ],
             [
              0.3333333333333333,
              "#9c179e"
             ],
             [
              0.4444444444444444,
              "#bd3786"
             ],
             [
              0.5555555555555556,
              "#d8576b"
             ],
             [
              0.6666666666666666,
              "#ed7953"
             ],
             [
              0.7777777777777778,
              "#fb9f3a"
             ],
             [
              0.8888888888888888,
              "#fdca26"
             ],
             [
              1,
              "#f0f921"
             ]
            ],
            "type": "contour"
           }
          ],
          "contourcarpet": [
           {
            "colorbar": {
             "outlinewidth": 0,
             "ticks": ""
            },
            "type": "contourcarpet"
           }
          ],
          "heatmap": [
           {
            "colorbar": {
             "outlinewidth": 0,
             "ticks": ""
            },
            "colorscale": [
             [
              0,
              "#0d0887"
             ],
             [
              0.1111111111111111,
              "#46039f"
             ],
             [
              0.2222222222222222,
              "#7201a8"
             ],
             [
              0.3333333333333333,
              "#9c179e"
             ],
             [
              0.4444444444444444,
              "#bd3786"
             ],
             [
              0.5555555555555556,
              "#d8576b"
             ],
             [
              0.6666666666666666,
              "#ed7953"
             ],
             [
              0.7777777777777778,
              "#fb9f3a"
             ],
             [
              0.8888888888888888,
              "#fdca26"
             ],
             [
              1,
              "#f0f921"
             ]
            ],
            "type": "heatmap"
           }
          ],
          "heatmapgl": [
           {
            "colorbar": {
             "outlinewidth": 0,
             "ticks": ""
            },
            "colorscale": [
             [
              0,
              "#0d0887"
             ],
             [
              0.1111111111111111,
              "#46039f"
             ],
             [
              0.2222222222222222,
              "#7201a8"
             ],
             [
              0.3333333333333333,
              "#9c179e"
             ],
             [
              0.4444444444444444,
              "#bd3786"
             ],
             [
              0.5555555555555556,
              "#d8576b"
             ],
             [
              0.6666666666666666,
              "#ed7953"
             ],
             [
              0.7777777777777778,
              "#fb9f3a"
             ],
             [
              0.8888888888888888,
              "#fdca26"
             ],
             [
              1,
              "#f0f921"
             ]
            ],
            "type": "heatmapgl"
           }
          ],
          "histogram": [
           {
            "marker": {
             "pattern": {
              "fillmode": "overlay",
              "size": 10,
              "solidity": 0.2
             }
            },
            "type": "histogram"
           }
          ],
          "histogram2d": [
           {
            "colorbar": {
             "outlinewidth": 0,
             "ticks": ""
            },
            "colorscale": [
             [
              0,
              "#0d0887"
             ],
             [
              0.1111111111111111,
              "#46039f"
             ],
             [
              0.2222222222222222,
              "#7201a8"
             ],
             [
              0.3333333333333333,
              "#9c179e"
             ],
             [
              0.4444444444444444,
              "#bd3786"
             ],
             [
              0.5555555555555556,
              "#d8576b"
             ],
             [
              0.6666666666666666,
              "#ed7953"
             ],
             [
              0.7777777777777778,
              "#fb9f3a"
             ],
             [
              0.8888888888888888,
              "#fdca26"
             ],
             [
              1,
              "#f0f921"
             ]
            ],
            "type": "histogram2d"
           }
          ],
          "histogram2dcontour": [
           {
            "colorbar": {
             "outlinewidth": 0,
             "ticks": ""
            },
            "colorscale": [
             [
              0,
              "#0d0887"
             ],
             [
              0.1111111111111111,
              "#46039f"
             ],
             [
              0.2222222222222222,
              "#7201a8"
             ],
             [
              0.3333333333333333,
              "#9c179e"
             ],
             [
              0.4444444444444444,
              "#bd3786"
             ],
             [
              0.5555555555555556,
              "#d8576b"
             ],
             [
              0.6666666666666666,
              "#ed7953"
             ],
             [
              0.7777777777777778,
              "#fb9f3a"
             ],
             [
              0.8888888888888888,
              "#fdca26"
             ],
             [
              1,
              "#f0f921"
             ]
            ],
            "type": "histogram2dcontour"
           }
          ],
          "mesh3d": [
           {
            "colorbar": {
             "outlinewidth": 0,
             "ticks": ""
            },
            "type": "mesh3d"
           }
          ],
          "parcoords": [
           {
            "line": {
             "colorbar": {
              "outlinewidth": 0,
              "ticks": ""
             }
            },
            "type": "parcoords"
           }
          ],
          "pie": [
           {
            "automargin": true,
            "type": "pie"
           }
          ],
          "scatter": [
           {
            "fillpattern": {
             "fillmode": "overlay",
             "size": 10,
             "solidity": 0.2
            },
            "type": "scatter"
           }
          ],
          "scatter3d": [
           {
            "line": {
             "colorbar": {
              "outlinewidth": 0,
              "ticks": ""
             }
            },
            "marker": {
             "colorbar": {
              "outlinewidth": 0,
              "ticks": ""
             }
            },
            "type": "scatter3d"
           }
          ],
          "scattercarpet": [
           {
            "marker": {
             "colorbar": {
              "outlinewidth": 0,
              "ticks": ""
             }
            },
            "type": "scattercarpet"
           }
          ],
          "scattergeo": [
           {
            "marker": {
             "colorbar": {
              "outlinewidth": 0,
              "ticks": ""
             }
            },
            "type": "scattergeo"
           }
          ],
          "scattergl": [
           {
            "marker": {
             "colorbar": {
              "outlinewidth": 0,
              "ticks": ""
             }
            },
            "type": "scattergl"
           }
          ],
          "scattermapbox": [
           {
            "marker": {
             "colorbar": {
              "outlinewidth": 0,
              "ticks": ""
             }
            },
            "type": "scattermapbox"
           }
          ],
          "scatterpolar": [
           {
            "marker": {
             "colorbar": {
              "outlinewidth": 0,
              "ticks": ""
             }
            },
            "type": "scatterpolar"
           }
          ],
          "scatterpolargl": [
           {
            "marker": {
             "colorbar": {
              "outlinewidth": 0,
              "ticks": ""
             }
            },
            "type": "scatterpolargl"
           }
          ],
          "scatterternary": [
           {
            "marker": {
             "colorbar": {
              "outlinewidth": 0,
              "ticks": ""
             }
            },
            "type": "scatterternary"
           }
          ],
          "surface": [
           {
            "colorbar": {
             "outlinewidth": 0,
             "ticks": ""
            },
            "colorscale": [
             [
              0,
              "#0d0887"
             ],
             [
              0.1111111111111111,
              "#46039f"
             ],
             [
              0.2222222222222222,
              "#7201a8"
             ],
             [
              0.3333333333333333,
              "#9c179e"
             ],
             [
              0.4444444444444444,
              "#bd3786"
             ],
             [
              0.5555555555555556,
              "#d8576b"
             ],
             [
              0.6666666666666666,
              "#ed7953"
             ],
             [
              0.7777777777777778,
              "#fb9f3a"
             ],
             [
              0.8888888888888888,
              "#fdca26"
             ],
             [
              1,
              "#f0f921"
             ]
            ],
            "type": "surface"
           }
          ],
          "table": [
           {
            "cells": {
             "fill": {
              "color": "#EBF0F8"
             },
             "line": {
              "color": "white"
             }
            },
            "header": {
             "fill": {
              "color": "#C8D4E3"
             },
             "line": {
              "color": "white"
             }
            },
            "type": "table"
           }
          ]
         },
         "layout": {
          "annotationdefaults": {
           "arrowcolor": "#2a3f5f",
           "arrowhead": 0,
           "arrowwidth": 1
          },
          "autotypenumbers": "strict",
          "coloraxis": {
           "colorbar": {
            "outlinewidth": 0,
            "ticks": ""
           }
          },
          "colorscale": {
           "diverging": [
            [
             0,
             "#8e0152"
            ],
            [
             0.1,
             "#c51b7d"
            ],
            [
             0.2,
             "#de77ae"
            ],
            [
             0.3,
             "#f1b6da"
            ],
            [
             0.4,
             "#fde0ef"
            ],
            [
             0.5,
             "#f7f7f7"
            ],
            [
             0.6,
             "#e6f5d0"
            ],
            [
             0.7,
             "#b8e186"
            ],
            [
             0.8,
             "#7fbc41"
            ],
            [
             0.9,
             "#4d9221"
            ],
            [
             1,
             "#276419"
            ]
           ],
           "sequential": [
            [
             0,
             "#0d0887"
            ],
            [
             0.1111111111111111,
             "#46039f"
            ],
            [
             0.2222222222222222,
             "#7201a8"
            ],
            [
             0.3333333333333333,
             "#9c179e"
            ],
            [
             0.4444444444444444,
             "#bd3786"
            ],
            [
             0.5555555555555556,
             "#d8576b"
            ],
            [
             0.6666666666666666,
             "#ed7953"
            ],
            [
             0.7777777777777778,
             "#fb9f3a"
            ],
            [
             0.8888888888888888,
             "#fdca26"
            ],
            [
             1,
             "#f0f921"
            ]
           ],
           "sequentialminus": [
            [
             0,
             "#0d0887"
            ],
            [
             0.1111111111111111,
             "#46039f"
            ],
            [
             0.2222222222222222,
             "#7201a8"
            ],
            [
             0.3333333333333333,
             "#9c179e"
            ],
            [
             0.4444444444444444,
             "#bd3786"
            ],
            [
             0.5555555555555556,
             "#d8576b"
            ],
            [
             0.6666666666666666,
             "#ed7953"
            ],
            [
             0.7777777777777778,
             "#fb9f3a"
            ],
            [
             0.8888888888888888,
             "#fdca26"
            ],
            [
             1,
             "#f0f921"
            ]
           ]
          },
          "colorway": [
           "#636efa",
           "#EF553B",
           "#00cc96",
           "#ab63fa",
           "#FFA15A",
           "#19d3f3",
           "#FF6692",
           "#B6E880",
           "#FF97FF",
           "#FECB52"
          ],
          "font": {
           "color": "#2a3f5f"
          },
          "geo": {
           "bgcolor": "white",
           "lakecolor": "white",
           "landcolor": "#E5ECF6",
           "showlakes": true,
           "showland": true,
           "subunitcolor": "white"
          },
          "hoverlabel": {
           "align": "left"
          },
          "hovermode": "closest",
          "mapbox": {
           "style": "light"
          },
          "paper_bgcolor": "white",
          "plot_bgcolor": "#E5ECF6",
          "polar": {
           "angularaxis": {
            "gridcolor": "white",
            "linecolor": "white",
            "ticks": ""
           },
           "bgcolor": "#E5ECF6",
           "radialaxis": {
            "gridcolor": "white",
            "linecolor": "white",
            "ticks": ""
           }
          },
          "scene": {
           "xaxis": {
            "backgroundcolor": "#E5ECF6",
            "gridcolor": "white",
            "gridwidth": 2,
            "linecolor": "white",
            "showbackground": true,
            "ticks": "",
            "zerolinecolor": "white"
           },
           "yaxis": {
            "backgroundcolor": "#E5ECF6",
            "gridcolor": "white",
            "gridwidth": 2,
            "linecolor": "white",
            "showbackground": true,
            "ticks": "",
            "zerolinecolor": "white"
           },
           "zaxis": {
            "backgroundcolor": "#E5ECF6",
            "gridcolor": "white",
            "gridwidth": 2,
            "linecolor": "white",
            "showbackground": true,
            "ticks": "",
            "zerolinecolor": "white"
           }
          },
          "shapedefaults": {
           "line": {
            "color": "#2a3f5f"
           }
          },
          "ternary": {
           "aaxis": {
            "gridcolor": "white",
            "linecolor": "white",
            "ticks": ""
           },
           "baxis": {
            "gridcolor": "white",
            "linecolor": "white",
            "ticks": ""
           },
           "bgcolor": "#E5ECF6",
           "caxis": {
            "gridcolor": "white",
            "linecolor": "white",
            "ticks": ""
           }
          },
          "title": {
           "x": 0.05
          },
          "xaxis": {
           "automargin": true,
           "gridcolor": "white",
           "linecolor": "white",
           "ticks": "",
           "title": {
            "standoff": 15
           },
           "zerolinecolor": "white",
           "zerolinewidth": 2
          },
          "yaxis": {
           "automargin": true,
           "gridcolor": "white",
           "linecolor": "white",
           "ticks": "",
           "title": {
            "standoff": 15
           },
           "zerolinecolor": "white",
           "zerolinewidth": 2
          }
         }
        },
        "title": {
         "text": "Choropleth Map of Death Ratio by State"
        }
       }
      }
     },
     "metadata": {},
     "output_type": "display_data"
    }
   ],
   "source": [
    "# Group deaths by state\n",
    "deaths_by_state = event_vax_sympt_df.groupby('STATE')['DIED'].sum().reset_index()\n",
    "\n",
    "# Calculate death ratio by dividing deaths by total reports per state\n",
    "reports_by_state = event_vax_sympt_df['STATE'].value_counts().reset_index()\n",
    "reports_by_state.columns = ['STATE', 'TOTAL_REPORTS']\n",
    "deaths_by_state = deaths_by_state.merge(reports_by_state, on='STATE')\n",
    "deaths_by_state['DEATH_RATIO'] = deaths_by_state['DIED'] / deaths_by_state['TOTAL_REPORTS']\n",
    "\n",
    "# Sort deaths by state by death ratio in descending order\n",
    "deaths_by_state = deaths_by_state.sort_values(by='DEATH_RATIO', ascending=False)\n",
    "\n",
    "# Plotting a choropleth map for deaths by state using Plotly\n",
    "fig = px.choropleth(\n",
    "    deaths_by_state,\n",
    "    locations='STATE',\n",
    "    locationmode='USA-states',  # Set the location mode to US states\n",
    "    color='DEATH_RATIO',\n",
    "    color_continuous_scale='Reds',\n",
    "    scope='usa',\n",
    "    title='Choropleth Map of Death Ratio by State'\n",
    ")\n",
    "\n",
    "fig.update_layout(\n",
    "    geo=dict(\n",
    "        lakecolor='rgb(255, 255, 255)',\n",
    "    )\n",
    ")\n",
    "\n",
    "fig.show()\n"
   ]
  },
  {
   "cell_type": "code",
   "execution_count": null,
   "metadata": {},
   "outputs": [
    {
     "name": "stderr",
     "output_type": "stream",
     "text": [
      "C:\\Users\\Usuario\\AppData\\Local\\Temp\\ipykernel_4704\\4077032517.py:13: FutureWarning:\n",
      "\n",
      "\n",
      "\n",
      "Passing `palette` without assigning `hue` is deprecated and will be removed in v0.14.0. Assign the `x` variable to `hue` and set `legend=False` for the same effect.\n",
      "\n",
      "\n"
     ]
    },
    {
     "data": {
      "image/png": "[encoded data removed]",
      "text/plain": [
       "<Figure size 1200x800 with 1 Axes>"
      ]
     },
     "metadata": {},
     "output_type": "display_data"
    }
   ],
   "source": [
    "# Group deaths and total reports by state\n",
    "deaths_by_state = event_vax_sympt_df.groupby('STATE')['DIED'].sum().reset_index()\n",
    "reports_by_state = event_vax_sympt_df['STATE'].value_counts().reset_index()\n",
    "reports_by_state.columns = ['STATE', 'TOTAL_REPORTS']\n",
    "\n",
    "# Merge to calculate death ratio by state\n",
    "deaths_by_state = deaths_by_state.merge(reports_by_state, on='STATE')\n",
    "deaths_by_state['DEATH_RATIO'] = deaths_by_state['DIED'] / deaths_by_state['TOTAL_REPORTS']\n",
    "\n",
    "# Plotting bar chart sorted by death ratio\n",
    "deaths_by_state = deaths_by_state.sort_values(by='DEATH_RATIO', ascending=False)\n",
    "plt.figure(figsize=(12, 8))\n",
    "sns.barplot(x='STATE', y='DEATH_RATIO', data=deaths_by_state, palette='viridis')\n",
    "plt.xlabel('State')\n",
    "plt.ylabel('Death Ratio')\n",
    "plt.title('Death Ratio by State')\n",
    "plt.xticks(rotation=90)\n",
    "plt.show()\n"
   ]
  }
 ],
 "metadata": {
  "kernelspec": {
   "display_name": "base",
   "language": "python",
   "name": "python3"
  },
  "language_info": {
   "codemirror_mode": {
    "name": "ipython",
    "version": 3
   },
   "file_extension": ".py",
   "mimetype": "text/x-python",
   "name": "python",
   "nbconvert_exporter": "python",
   "pygments_lexer": "ipython3",
   "version": "3.12.4"
  }
 },
 "nbformat": 4,
 "nbformat_minor": 2
}
