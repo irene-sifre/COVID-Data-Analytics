{
 "cells": [
  {
   "cell_type": "code",
   "execution_count": 67,
   "metadata": {},
   "outputs": [],
   "source": [
    "#Cleaning VAERS VAX\n",
    "import pandas as pd "
   ]
  },
  {
   "cell_type": "code",
   "execution_count": 68,
   "metadata": {},
   "outputs": [],
   "source": [
    "# Load the VAERS Data (Demographics and Event Information)\n",
    "vaers_vax = pd.read_csv('VAERSVAX.csv', low_memory=False)"
   ]
  },
  {
   "cell_type": "code",
   "execution_count": 69,
   "metadata": {},
   "outputs": [
    {
     "data": {
      "text/html": [
       "<div>\n",
       "<style scoped>\n",
       "    .dataframe tbody tr th:only-of-type {\n",
       "        vertical-align: middle;\n",
       "    }\n",
       "\n",
       "    .dataframe tbody tr th {\n",
       "        vertical-align: top;\n",
       "    }\n",
       "\n",
       "    .dataframe thead th {\n",
       "        text-align: right;\n",
       "    }\n",
       "</style>\n",
       "<table border=\"1\" class=\"dataframe\">\n",
       "  <thead>\n",
       "    <tr style=\"text-align: right;\">\n",
       "      <th></th>\n",
       "      <th>VAERS_ID</th>\n",
       "      <th>VAX_TYPE</th>\n",
       "      <th>VAX_MANU</th>\n",
       "      <th>VAX_LOT</th>\n",
       "      <th>VAX_DOSE_SERIES</th>\n",
       "      <th>VAX_ROUTE</th>\n",
       "      <th>VAX_SITE</th>\n",
       "      <th>VAX_NAME</th>\n",
       "    </tr>\n",
       "  </thead>\n",
       "  <tbody>\n",
       "    <tr>\n",
       "      <th>0</th>\n",
       "      <td>902418</td>\n",
       "      <td>COVID19</td>\n",
       "      <td>PFIZER\\BIONTECH</td>\n",
       "      <td>EH9899</td>\n",
       "      <td>1</td>\n",
       "      <td>IM</td>\n",
       "      <td>LA</td>\n",
       "      <td>COVID19 (COVID19 (PFIZER-BIONTECH))</td>\n",
       "    </tr>\n",
       "    <tr>\n",
       "      <th>1</th>\n",
       "      <td>902440</td>\n",
       "      <td>COVID19</td>\n",
       "      <td>PFIZER\\BIONTECH</td>\n",
       "      <td>EH 9899</td>\n",
       "      <td>1</td>\n",
       "      <td>SYR</td>\n",
       "      <td>LA</td>\n",
       "      <td>COVID19 (COVID19 (PFIZER-BIONTECH))</td>\n",
       "    </tr>\n",
       "    <tr>\n",
       "      <th>2</th>\n",
       "      <td>902446</td>\n",
       "      <td>COVID19</td>\n",
       "      <td>PFIZER\\BIONTECH</td>\n",
       "      <td>EH9899</td>\n",
       "      <td>1</td>\n",
       "      <td>IM</td>\n",
       "      <td>RA</td>\n",
       "      <td>COVID19 (COVID19 (PFIZER-BIONTECH))</td>\n",
       "    </tr>\n",
       "    <tr>\n",
       "      <th>3</th>\n",
       "      <td>902464</td>\n",
       "      <td>COVID19</td>\n",
       "      <td>PFIZER\\BIONTECH</td>\n",
       "      <td>EH9899</td>\n",
       "      <td>UNK</td>\n",
       "      <td>IM</td>\n",
       "      <td>LA</td>\n",
       "      <td>COVID19 (COVID19 (PFIZER-BIONTECH))</td>\n",
       "    </tr>\n",
       "    <tr>\n",
       "      <th>4</th>\n",
       "      <td>902465</td>\n",
       "      <td>COVID19</td>\n",
       "      <td>PFIZER\\BIONTECH</td>\n",
       "      <td>EH9899</td>\n",
       "      <td>1</td>\n",
       "      <td>IM</td>\n",
       "      <td>RA</td>\n",
       "      <td>COVID19 (COVID19 (PFIZER-BIONTECH))</td>\n",
       "    </tr>\n",
       "    <tr>\n",
       "      <th>5</th>\n",
       "      <td>902468</td>\n",
       "      <td>COVID19</td>\n",
       "      <td>PFIZER\\BIONTECH</td>\n",
       "      <td>EH9899</td>\n",
       "      <td>1</td>\n",
       "      <td>IM</td>\n",
       "      <td>LA</td>\n",
       "      <td>COVID19 (COVID19 (PFIZER-BIONTECH))</td>\n",
       "    </tr>\n",
       "    <tr>\n",
       "      <th>6</th>\n",
       "      <td>902479</td>\n",
       "      <td>COVID19</td>\n",
       "      <td>PFIZER\\BIONTECH</td>\n",
       "      <td>NaN</td>\n",
       "      <td>1</td>\n",
       "      <td>IM</td>\n",
       "      <td>LA</td>\n",
       "      <td>COVID19 (COVID19 (PFIZER-BIONTECH))</td>\n",
       "    </tr>\n",
       "    <tr>\n",
       "      <th>7</th>\n",
       "      <td>902490</td>\n",
       "      <td>COVID19</td>\n",
       "      <td>PFIZER\\BIONTECH</td>\n",
       "      <td>EH9899</td>\n",
       "      <td>1</td>\n",
       "      <td>IM</td>\n",
       "      <td>LA</td>\n",
       "      <td>COVID19 (COVID19 (PFIZER-BIONTECH))</td>\n",
       "    </tr>\n",
       "    <tr>\n",
       "      <th>8</th>\n",
       "      <td>902491</td>\n",
       "      <td>COVID19</td>\n",
       "      <td>PFIZER\\BIONTECH</td>\n",
       "      <td>EH9899</td>\n",
       "      <td>1</td>\n",
       "      <td>IM</td>\n",
       "      <td>NaN</td>\n",
       "      <td>COVID19 (COVID19 (PFIZER-BIONTECH))</td>\n",
       "    </tr>\n",
       "    <tr>\n",
       "      <th>9</th>\n",
       "      <td>902492</td>\n",
       "      <td>COVID19</td>\n",
       "      <td>PFIZER\\BIONTECH</td>\n",
       "      <td>EH9899</td>\n",
       "      <td>1</td>\n",
       "      <td>IM</td>\n",
       "      <td>LA</td>\n",
       "      <td>COVID19 (COVID19 (PFIZER-BIONTECH))</td>\n",
       "    </tr>\n",
       "  </tbody>\n",
       "</table>\n",
       "</div>"
      ],
      "text/plain": [
       "   VAERS_ID VAX_TYPE         VAX_MANU  VAX_LOT VAX_DOSE_SERIES VAX_ROUTE  \\\n",
       "0    902418  COVID19  PFIZER\\BIONTECH   EH9899               1        IM   \n",
       "1    902440  COVID19  PFIZER\\BIONTECH  EH 9899               1       SYR   \n",
       "2    902446  COVID19  PFIZER\\BIONTECH   EH9899               1        IM   \n",
       "3    902464  COVID19  PFIZER\\BIONTECH   EH9899             UNK        IM   \n",
       "4    902465  COVID19  PFIZER\\BIONTECH   EH9899               1        IM   \n",
       "5    902468  COVID19  PFIZER\\BIONTECH   EH9899               1        IM   \n",
       "6    902479  COVID19  PFIZER\\BIONTECH      NaN               1        IM   \n",
       "7    902490  COVID19  PFIZER\\BIONTECH   EH9899               1        IM   \n",
       "8    902491  COVID19  PFIZER\\BIONTECH   EH9899               1        IM   \n",
       "9    902492  COVID19  PFIZER\\BIONTECH   EH9899               1        IM   \n",
       "\n",
       "  VAX_SITE                             VAX_NAME  \n",
       "0       LA  COVID19 (COVID19 (PFIZER-BIONTECH))  \n",
       "1       LA  COVID19 (COVID19 (PFIZER-BIONTECH))  \n",
       "2       RA  COVID19 (COVID19 (PFIZER-BIONTECH))  \n",
       "3       LA  COVID19 (COVID19 (PFIZER-BIONTECH))  \n",
       "4       RA  COVID19 (COVID19 (PFIZER-BIONTECH))  \n",
       "5       LA  COVID19 (COVID19 (PFIZER-BIONTECH))  \n",
       "6       LA  COVID19 (COVID19 (PFIZER-BIONTECH))  \n",
       "7       LA  COVID19 (COVID19 (PFIZER-BIONTECH))  \n",
       "8      NaN  COVID19 (COVID19 (PFIZER-BIONTECH))  \n",
       "9       LA  COVID19 (COVID19 (PFIZER-BIONTECH))  "
      ]
     },
     "execution_count": 69,
     "metadata": {},
     "output_type": "execute_result"
    }
   ],
   "source": [
    "vaers_vax.head(10)\n"
   ]
  },
  {
   "cell_type": "markdown",
   "metadata": {},
   "source": [
    "Cleaning Process"
   ]
  },
  {
   "cell_type": "code",
   "execution_count": 70,
   "metadata": {},
   "outputs": [],
   "source": [
    "# Remove leading/trailing spaces from all columns\n",
    "vaers_vax_cleaned = vaers_vax.apply(lambda x: x.str.strip() if x.dtype == \"object\" else x)"
   ]
  },
  {
   "cell_type": "code",
   "execution_count": 71,
   "metadata": {},
   "outputs": [],
   "source": [
    "# Standardize the 'VAX_LOT' column (Remove spaces, make uppercase)\n",
    "vaers_vax_cleaned['VAX_LOT'] = vaers_vax_cleaned['VAX_LOT'].str.replace(\" \", \"\").str.upper()"
   ]
  },
  {
   "cell_type": "code",
   "execution_count": 72,
   "metadata": {},
   "outputs": [
    {
     "name": "stdout",
     "output_type": "stream",
     "text": [
      "VAX_ROUTE\n",
      "IM     499361\n",
      "SYR    166927\n",
      "OT     134185\n",
      "UN       8064\n",
      "SC       3008\n",
      "ID        550\n",
      "JET       166\n",
      "IN         14\n",
      "PO          7\n",
      "Name: count, dtype: int64\n"
     ]
    }
   ],
   "source": [
    "# Check the distribution of VAX_ROUTE\n",
    "route_distribution = vaers_vax_cleaned['VAX_ROUTE'].value_counts()\n",
    "print(route_distribution)\n"
   ]
  },
  {
   "cell_type": "code",
   "execution_count": 73,
   "metadata": {},
   "outputs": [
    {
     "name": "stdout",
     "output_type": "stream",
     "text": [
      "VAX_ROUTE_CLEANED\n",
      "IM     499361\n",
      "SYR    166927\n",
      "SC       3008\n",
      "Name: count, dtype: int64\n"
     ]
    }
   ],
   "source": [
    "# Group 'SYR' with 'IM', and everything else as 'Other'\n",
    "vaers_vax_cleaned['VAX_ROUTE_CLEANED'] = vaers_vax_cleaned['VAX_ROUTE'].replace({\n",
    "    'SYR': 'SYR',   # SYR as Syringe\n",
    "    'IM': 'IM',    # IM as Intramuscular\n",
    "    'ID': 'OT',    # Intradermal as 'Other'\n",
    "    'JET': 'OT',   # Jet injection as 'Other'\n",
    "    'IN': 'OT',    # Intranasal as 'Other'\n",
    "    'PO': 'OT',    # Oral as 'Other'\n",
    "    'OT': 'OT',    # Other as 'Other'\n",
    "    'UN': 'OT',    # Unknown as 'Other'\n",
    "    # Optionally, you can drop any rare or undefined routes later\n",
    "})\n",
    "\n",
    "# Drop any rows where the VAX_ROUTE_CLEANED is now set as 'OT' (optional)\n",
    "vaers_vax_cleaned = vaers_vax_cleaned[vaers_vax_cleaned['VAX_ROUTE_CLEANED'] != 'OT']\n",
    "\n",
    "# Verify changes\n",
    "print(vaers_vax_cleaned['VAX_ROUTE_CLEANED'].value_counts())\n"
   ]
  },
  {
   "cell_type": "code",
   "execution_count": 74,
   "metadata": {},
   "outputs": [
    {
     "name": "stdout",
     "output_type": "stream",
     "text": [
      "<class 'pandas.core.frame.DataFrame'>\n",
      "Index: 930530 entries, 0 to 1073515\n",
      "Data columns (total 9 columns):\n",
      " #   Column             Non-Null Count   Dtype \n",
      "---  ------             --------------   ----- \n",
      " 0   VAERS_ID           930530 non-null  int64 \n",
      " 1   VAX_TYPE           930530 non-null  object\n",
      " 2   VAX_MANU           930530 non-null  object\n",
      " 3   VAX_LOT            677042 non-null  object\n",
      " 4   VAX_DOSE_SERIES    925789 non-null  object\n",
      " 5   VAX_ROUTE          669296 non-null  object\n",
      " 6   VAX_SITE           707413 non-null  object\n",
      " 7   VAX_NAME           930530 non-null  object\n",
      " 8   VAX_ROUTE_CLEANED  669296 non-null  object\n",
      "dtypes: int64(1), object(8)\n",
      "memory usage: 71.0+ MB\n"
     ]
    }
   ],
   "source": [
    "vaers_vax_cleaned.info()"
   ]
  },
  {
   "cell_type": "code",
   "execution_count": 75,
   "metadata": {},
   "outputs": [
    {
     "name": "stdout",
     "output_type": "stream",
     "text": [
      "VAERS_ID                  0\n",
      "VAX_TYPE                  0\n",
      "VAX_MANU                  0\n",
      "VAX_LOT              253488\n",
      "VAX_DOSE_SERIES        4741\n",
      "VAX_ROUTE            261234\n",
      "VAX_SITE             223117\n",
      "VAX_NAME                  0\n",
      "VAX_ROUTE_CLEANED    261234\n",
      "dtype: int64\n"
     ]
    }
   ],
   "source": [
    "# Check for null values in each column of vaers_vax\n",
    "print(vaers_vax_cleaned.isnull().sum())\n"
   ]
  },
  {
   "cell_type": "code",
   "execution_count": 76,
   "metadata": {},
   "outputs": [
    {
     "name": "stdout",
     "output_type": "stream",
     "text": [
      "<class 'pandas.core.frame.DataFrame'>\n",
      "Index: 568142 entries, 0 to 1073508\n",
      "Data columns (total 8 columns):\n",
      " #   Column           Non-Null Count   Dtype \n",
      "---  ------           --------------   ----- \n",
      " 0   VAERS_ID         568142 non-null  int64 \n",
      " 1   VAX_TYPE         568142 non-null  object\n",
      " 2   VAX_MANU         568142 non-null  object\n",
      " 3   VAX_LOT          568142 non-null  object\n",
      " 4   VAX_DOSE_SERIES  564127 non-null  object\n",
      " 5   VAX_ROUTE        568142 non-null  object\n",
      " 6   VAX_SITE         568142 non-null  object\n",
      " 7   VAX_NAME         568142 non-null  object\n",
      "dtypes: int64(1), object(7)\n",
      "memory usage: 39.0+ MB\n",
      "None\n"
     ]
    }
   ],
   "source": [
    "# Drop rows where 'VAX_LOT', 'VAX_ROUTE', or 'VAX_SITE' are missing\n",
    "vaers_vax_cleaned = vaers_vax.dropna(subset=['VAX_LOT', 'VAX_ROUTE', 'VAX_SITE'])\n",
    "\n",
    "# Check the remaining rows\n",
    "print(vaers_vax_cleaned.info())\n"
   ]
  },
  {
   "cell_type": "code",
   "execution_count": 77,
   "metadata": {},
   "outputs": [
    {
     "name": "stderr",
     "output_type": "stream",
     "text": [
      "C:\\Users\\sifre\\AppData\\Local\\Temp\\ipykernel_22852\\1108700525.py:2: SettingWithCopyWarning: \n",
      "A value is trying to be set on a copy of a slice from a DataFrame\n",
      "\n",
      "See the caveats in the documentation: https://pandas.pydata.org/pandas-docs/stable/user_guide/indexing.html#returning-a-view-versus-a-copy\n",
      "  vaers_vax_cleaned.drop('VAX_ROUTE', axis=1, inplace=True)\n",
      "C:\\Users\\sifre\\AppData\\Local\\Temp\\ipykernel_22852\\1108700525.py:5: SettingWithCopyWarning: \n",
      "A value is trying to be set on a copy of a slice from a DataFrame\n",
      "\n",
      "See the caveats in the documentation: https://pandas.pydata.org/pandas-docs/stable/user_guide/indexing.html#returning-a-view-versus-a-copy\n",
      "  vaers_vax_cleaned.rename(columns={'VAX_ROUTE_CLEANED': 'VAX_ROUTE'}, inplace=True)\n"
     ]
    }
   ],
   "source": [
    "# Drop the original 'VAX_ROUTE' column\n",
    "vaers_vax_cleaned.drop('VAX_ROUTE', axis=1, inplace=True)\n",
    "\n",
    "# Rename 'VAX_ROUTE_CLEANED' to 'VAX_ROUTE'\n",
    "vaers_vax_cleaned.rename(columns={'VAX_ROUTE_CLEANED': 'VAX_ROUTE'}, inplace=True)"
   ]
  },
  {
   "cell_type": "code",
   "execution_count": 78,
   "metadata": {},
   "outputs": [
    {
     "name": "stdout",
     "output_type": "stream",
     "text": [
      "<class 'pandas.core.frame.DataFrame'>\n",
      "Index: 568142 entries, 0 to 1073508\n",
      "Data columns (total 7 columns):\n",
      " #   Column           Non-Null Count   Dtype \n",
      "---  ------           --------------   ----- \n",
      " 0   VAERS_ID         568142 non-null  int64 \n",
      " 1   VAX_TYPE         568142 non-null  object\n",
      " 2   VAX_MANU         568142 non-null  object\n",
      " 3   VAX_LOT          568142 non-null  object\n",
      " 4   VAX_DOSE_SERIES  564127 non-null  object\n",
      " 5   VAX_SITE         568142 non-null  object\n",
      " 6   VAX_NAME         568142 non-null  object\n",
      "dtypes: int64(1), object(6)\n",
      "memory usage: 34.7+ MB\n"
     ]
    }
   ],
   "source": [
    "vaers_vax_cleaned.info()"
   ]
  },
  {
   "cell_type": "code",
   "execution_count": 79,
   "metadata": {},
   "outputs": [
    {
     "data": {
      "text/html": [
       "<div>\n",
       "<style scoped>\n",
       "    .dataframe tbody tr th:only-of-type {\n",
       "        vertical-align: middle;\n",
       "    }\n",
       "\n",
       "    .dataframe tbody tr th {\n",
       "        vertical-align: top;\n",
       "    }\n",
       "\n",
       "    .dataframe thead th {\n",
       "        text-align: right;\n",
       "    }\n",
       "</style>\n",
       "<table border=\"1\" class=\"dataframe\">\n",
       "  <thead>\n",
       "    <tr style=\"text-align: right;\">\n",
       "      <th></th>\n",
       "      <th>VAERS_ID</th>\n",
       "      <th>VAX_TYPE</th>\n",
       "      <th>VAX_MANU</th>\n",
       "      <th>VAX_LOT</th>\n",
       "      <th>VAX_DOSE_SERIES</th>\n",
       "      <th>VAX_NAME</th>\n",
       "    </tr>\n",
       "  </thead>\n",
       "  <tbody>\n",
       "    <tr>\n",
       "      <th>0</th>\n",
       "      <td>902418</td>\n",
       "      <td>COVID19</td>\n",
       "      <td>PFIZER\\BIONTECH</td>\n",
       "      <td>EH9899</td>\n",
       "      <td>1</td>\n",
       "      <td>COVID19 (COVID19 (PFIZER-BIONTECH))</td>\n",
       "    </tr>\n",
       "    <tr>\n",
       "      <th>1</th>\n",
       "      <td>902440</td>\n",
       "      <td>COVID19</td>\n",
       "      <td>PFIZER\\BIONTECH</td>\n",
       "      <td>EH 9899</td>\n",
       "      <td>1</td>\n",
       "      <td>COVID19 (COVID19 (PFIZER-BIONTECH))</td>\n",
       "    </tr>\n",
       "    <tr>\n",
       "      <th>2</th>\n",
       "      <td>902446</td>\n",
       "      <td>COVID19</td>\n",
       "      <td>PFIZER\\BIONTECH</td>\n",
       "      <td>EH9899</td>\n",
       "      <td>1</td>\n",
       "      <td>COVID19 (COVID19 (PFIZER-BIONTECH))</td>\n",
       "    </tr>\n",
       "    <tr>\n",
       "      <th>3</th>\n",
       "      <td>902464</td>\n",
       "      <td>COVID19</td>\n",
       "      <td>PFIZER\\BIONTECH</td>\n",
       "      <td>EH9899</td>\n",
       "      <td>UNK</td>\n",
       "      <td>COVID19 (COVID19 (PFIZER-BIONTECH))</td>\n",
       "    </tr>\n",
       "    <tr>\n",
       "      <th>4</th>\n",
       "      <td>902465</td>\n",
       "      <td>COVID19</td>\n",
       "      <td>PFIZER\\BIONTECH</td>\n",
       "      <td>EH9899</td>\n",
       "      <td>1</td>\n",
       "      <td>COVID19 (COVID19 (PFIZER-BIONTECH))</td>\n",
       "    </tr>\n",
       "    <tr>\n",
       "      <th>...</th>\n",
       "      <td>...</td>\n",
       "      <td>...</td>\n",
       "      <td>...</td>\n",
       "      <td>...</td>\n",
       "      <td>...</td>\n",
       "      <td>...</td>\n",
       "    </tr>\n",
       "    <tr>\n",
       "      <th>1073499</th>\n",
       "      <td>2776226</td>\n",
       "      <td>COVID19</td>\n",
       "      <td>PFIZER\\BIONTECH</td>\n",
       "      <td>EN6202</td>\n",
       "      <td>1</td>\n",
       "      <td>COVID19 (COVID19 (PFIZER-BIONTECH))</td>\n",
       "    </tr>\n",
       "    <tr>\n",
       "      <th>1073500</th>\n",
       "      <td>2776226</td>\n",
       "      <td>COVID19</td>\n",
       "      <td>PFIZER\\BIONTECH</td>\n",
       "      <td>EN6202</td>\n",
       "      <td>2</td>\n",
       "      <td>COVID19 (COVID19 (PFIZER-BIONTECH))</td>\n",
       "    </tr>\n",
       "    <tr>\n",
       "      <th>1073501</th>\n",
       "      <td>2776230</td>\n",
       "      <td>COVID19</td>\n",
       "      <td>MODERNA</td>\n",
       "      <td>AU5557B</td>\n",
       "      <td>2</td>\n",
       "      <td>COVID19 (COVID19 (MODERNA))</td>\n",
       "    </tr>\n",
       "    <tr>\n",
       "      <th>1073502</th>\n",
       "      <td>2776253</td>\n",
       "      <td>COVID19</td>\n",
       "      <td>PFIZER\\BIONTECH</td>\n",
       "      <td>LE1811</td>\n",
       "      <td>1</td>\n",
       "      <td>COVID19 (COVID19 (PFIZER-BIONTECH))</td>\n",
       "    </tr>\n",
       "    <tr>\n",
       "      <th>1073508</th>\n",
       "      <td>2776295</td>\n",
       "      <td>COVID19</td>\n",
       "      <td>MODERNA</td>\n",
       "      <td>8062120</td>\n",
       "      <td>1</td>\n",
       "      <td>COVID19 (COVID19 (MODERNA))</td>\n",
       "    </tr>\n",
       "  </tbody>\n",
       "</table>\n",
       "<p>568142 rows × 6 columns</p>\n",
       "</div>"
      ],
      "text/plain": [
       "         VAERS_ID VAX_TYPE         VAX_MANU  VAX_LOT VAX_DOSE_SERIES  \\\n",
       "0          902418  COVID19  PFIZER\\BIONTECH   EH9899               1   \n",
       "1          902440  COVID19  PFIZER\\BIONTECH  EH 9899               1   \n",
       "2          902446  COVID19  PFIZER\\BIONTECH   EH9899               1   \n",
       "3          902464  COVID19  PFIZER\\BIONTECH   EH9899             UNK   \n",
       "4          902465  COVID19  PFIZER\\BIONTECH   EH9899               1   \n",
       "...           ...      ...              ...      ...             ...   \n",
       "1073499   2776226  COVID19  PFIZER\\BIONTECH   EN6202               1   \n",
       "1073500   2776226  COVID19  PFIZER\\BIONTECH   EN6202               2   \n",
       "1073501   2776230  COVID19          MODERNA  AU5557B               2   \n",
       "1073502   2776253  COVID19  PFIZER\\BIONTECH   LE1811               1   \n",
       "1073508   2776295  COVID19          MODERNA  8062120               1   \n",
       "\n",
       "                                    VAX_NAME  \n",
       "0        COVID19 (COVID19 (PFIZER-BIONTECH))  \n",
       "1        COVID19 (COVID19 (PFIZER-BIONTECH))  \n",
       "2        COVID19 (COVID19 (PFIZER-BIONTECH))  \n",
       "3        COVID19 (COVID19 (PFIZER-BIONTECH))  \n",
       "4        COVID19 (COVID19 (PFIZER-BIONTECH))  \n",
       "...                                      ...  \n",
       "1073499  COVID19 (COVID19 (PFIZER-BIONTECH))  \n",
       "1073500  COVID19 (COVID19 (PFIZER-BIONTECH))  \n",
       "1073501          COVID19 (COVID19 (MODERNA))  \n",
       "1073502  COVID19 (COVID19 (PFIZER-BIONTECH))  \n",
       "1073508          COVID19 (COVID19 (MODERNA))  \n",
       "\n",
       "[568142 rows x 6 columns]"
      ]
     },
     "execution_count": 79,
     "metadata": {},
     "output_type": "execute_result"
    }
   ],
   "source": [
    "vaers_vax_cleaned.drop(columns=['VAX_SITE'])"
   ]
  },
  {
   "cell_type": "code",
   "execution_count": 80,
   "metadata": {},
   "outputs": [
    {
     "name": "stderr",
     "output_type": "stream",
     "text": [
      "C:\\Users\\sifre\\AppData\\Local\\Temp\\ipykernel_22852\\1849299644.py:8: SettingWithCopyWarning: \n",
      "A value is trying to be set on a copy of a slice from a DataFrame.\n",
      "Try using .loc[row_indexer,col_indexer] = value instead\n",
      "\n",
      "See the caveats in the documentation: https://pandas.pydata.org/pandas-docs/stable/user_guide/indexing.html#returning-a-view-versus-a-copy\n",
      "  vaers_vax_cleaned['VAX_NAME'] = vaers_vax_cleaned['VAX_NAME'].apply(clean_vax_name)\n"
     ]
    },
    {
     "data": {
      "text/html": [
       "<div>\n",
       "<style scoped>\n",
       "    .dataframe tbody tr th:only-of-type {\n",
       "        vertical-align: middle;\n",
       "    }\n",
       "\n",
       "    .dataframe tbody tr th {\n",
       "        vertical-align: top;\n",
       "    }\n",
       "\n",
       "    .dataframe thead th {\n",
       "        text-align: right;\n",
       "    }\n",
       "</style>\n",
       "<table border=\"1\" class=\"dataframe\">\n",
       "  <thead>\n",
       "    <tr style=\"text-align: right;\">\n",
       "      <th></th>\n",
       "      <th>VAX_NAME</th>\n",
       "    </tr>\n",
       "  </thead>\n",
       "  <tbody>\n",
       "    <tr>\n",
       "      <th>0</th>\n",
       "      <td>PFIZER-BIONTECH</td>\n",
       "    </tr>\n",
       "    <tr>\n",
       "      <th>1</th>\n",
       "      <td>PFIZER-BIONTECH</td>\n",
       "    </tr>\n",
       "    <tr>\n",
       "      <th>2</th>\n",
       "      <td>PFIZER-BIONTECH</td>\n",
       "    </tr>\n",
       "    <tr>\n",
       "      <th>3</th>\n",
       "      <td>PFIZER-BIONTECH</td>\n",
       "    </tr>\n",
       "    <tr>\n",
       "      <th>4</th>\n",
       "      <td>PFIZER-BIONTECH</td>\n",
       "    </tr>\n",
       "  </tbody>\n",
       "</table>\n",
       "</div>"
      ],
      "text/plain": [
       "          VAX_NAME\n",
       "0  PFIZER-BIONTECH\n",
       "1  PFIZER-BIONTECH\n",
       "2  PFIZER-BIONTECH\n",
       "3  PFIZER-BIONTECH\n",
       "4  PFIZER-BIONTECH"
      ]
     },
     "execution_count": 80,
     "metadata": {},
     "output_type": "execute_result"
    }
   ],
   "source": [
    "# Define a function to clean the VAX_NAME column\n",
    "def clean_vax_name(vax_name):\n",
    "    # Remove unnecessary characters and extra spaces\n",
    "    cleaned_name = vax_name.replace(\"COVID19 (COVID19 (\", \"\").replace(\"))\", \"\").strip()\n",
    "    return cleaned_name\n",
    "\n",
    "# Apply the cleaning function to the VAX_NAME column\n",
    "vaers_vax_cleaned['VAX_NAME'] = vaers_vax_cleaned['VAX_NAME'].apply(clean_vax_name)\n",
    "\n",
    "# Display the cleaned column\n",
    "vaers_vax_cleaned[['VAX_NAME']].head()\n"
   ]
  },
  {
   "cell_type": "code",
   "execution_count": 81,
   "metadata": {},
   "outputs": [
    {
     "name": "stdout",
     "output_type": "stream",
     "text": [
      "<class 'pandas.core.frame.DataFrame'>\n",
      "Index: 568142 entries, 0 to 1073508\n",
      "Data columns (total 7 columns):\n",
      " #   Column           Non-Null Count   Dtype \n",
      "---  ------           --------------   ----- \n",
      " 0   VAERS_ID         568142 non-null  int64 \n",
      " 1   VAX_TYPE         568142 non-null  object\n",
      " 2   VAX_MANU         568142 non-null  object\n",
      " 3   VAX_LOT          568142 non-null  object\n",
      " 4   VAX_DOSE_SERIES  564127 non-null  object\n",
      " 5   VAX_SITE         568142 non-null  object\n",
      " 6   VAX_NAME         568142 non-null  object\n",
      "dtypes: int64(1), object(6)\n",
      "memory usage: 34.7+ MB\n"
     ]
    }
   ],
   "source": [
    "vaers_vax_cleaned.info()"
   ]
  },
  {
   "cell_type": "code",
   "execution_count": 82,
   "metadata": {},
   "outputs": [],
   "source": [
    "# Save the vaers_vax DataFrame to a CSV file\n",
    "vaers_vax_cleaned.to_csv('vaers_vax_cleaned.csv', index=False)\n"
   ]
  },
  {
   "cell_type": "code",
   "execution_count": 83,
   "metadata": {},
   "outputs": [],
   "source": [
    "#Load the VAERS Data (Demographics and Event Information)\n",
    "vaers_data_cleaned = pd.read_csv('vaers_data_cleaned.csv', low_memory=False)"
   ]
  },
  {
   "cell_type": "code",
   "execution_count": 84,
   "metadata": {},
   "outputs": [
    {
     "name": "stdout",
     "output_type": "stream",
     "text": [
      "<class 'pandas.core.frame.DataFrame'>\n",
      "RangeIndex: 735849 entries, 0 to 735848\n",
      "Data columns (total 17 columns):\n",
      " #   Column        Non-Null Count   Dtype  \n",
      "---  ------        --------------   -----  \n",
      " 0   VAERS_ID      735849 non-null  int64  \n",
      " 1   RECVDATE      735849 non-null  object \n",
      " 2   STATE         735849 non-null  object \n",
      " 3   AGE_YRS       735849 non-null  float64\n",
      " 4   SEX           735849 non-null  int64  \n",
      " 5   SYMPTOM_TEXT  735849 non-null  object \n",
      " 6   DIED          735849 non-null  int64  \n",
      " 7   DATEDIED      11475 non-null   object \n",
      " 8   L_THREAT      735849 non-null  int64  \n",
      " 9   HOSPITAL      735849 non-null  int64  \n",
      " 10  DISABLE       735849 non-null  int64  \n",
      " 11  RECOVD        735849 non-null  int64  \n",
      " 12  VAX_DATE      735849 non-null  object \n",
      " 13  ONSET_DATE    735849 non-null  object \n",
      " 14  PRIOR_VAX     735849 non-null  object \n",
      " 15  BIRTH_DEFECT  735849 non-null  int64  \n",
      " 16  ALLERGIES     353899 non-null  object \n",
      "dtypes: float64(1), int64(8), object(8)\n",
      "memory usage: 95.4+ MB\n"
     ]
    }
   ],
   "source": [
    "vaers_data_cleaned.info()"
   ]
  },
  {
   "cell_type": "code",
   "execution_count": 85,
   "metadata": {},
   "outputs": [
    {
     "name": "stdout",
     "output_type": "stream",
     "text": [
      "<class 'pandas.core.frame.DataFrame'>\n",
      "Index: 568142 entries, 0 to 1073508\n",
      "Data columns (total 7 columns):\n",
      " #   Column           Non-Null Count   Dtype \n",
      "---  ------           --------------   ----- \n",
      " 0   VAERS_ID         568142 non-null  int64 \n",
      " 1   VAX_TYPE         568142 non-null  object\n",
      " 2   VAX_MANU         568142 non-null  object\n",
      " 3   VAX_LOT          568142 non-null  object\n",
      " 4   VAX_DOSE_SERIES  564127 non-null  object\n",
      " 5   VAX_SITE         568142 non-null  object\n",
      " 6   VAX_NAME         568142 non-null  object\n",
      "dtypes: int64(1), object(6)\n",
      "memory usage: 34.7+ MB\n"
     ]
    }
   ],
   "source": [
    "vaers_vax_cleaned.info()"
   ]
  },
  {
   "cell_type": "code",
   "execution_count": 86,
   "metadata": {},
   "outputs": [],
   "source": [
    "#Merge the two dataframes\n",
    "vaersdata_merged = pd.merge(vaers_data_cleaned, vaers_vax_cleaned, on='VAERS_ID', how='left')"
   ]
  },
  {
   "cell_type": "code",
   "execution_count": 87,
   "metadata": {},
   "outputs": [
    {
     "name": "stdout",
     "output_type": "stream",
     "text": [
      "   VAERS_ID    RECVDATE STATE  AGE_YRS  SEX  \\\n",
      "0    902418  2020-12-15    NJ     56.0    0   \n",
      "1    902440  2020-12-15    AZ     35.0    0   \n",
      "2    902446  2020-12-15    WV     55.0    0   \n",
      "3    902464  2020-12-15    LA     42.0    1   \n",
      "4    902465  2020-12-15    AR     60.0    0   \n",
      "\n",
      "                                        SYMPTOM_TEXT  DIED DATEDIED  L_THREAT  \\\n",
      "0  Patient experienced mild numbness traveling fr...     0      NaN         0   \n",
      "1                                       C/O Headache     0      NaN         0   \n",
      "2  felt warm, hot and face and ears were red and ...     0      NaN         0   \n",
      "3  within 15 minutes progressive light-headedness...     0      NaN         0   \n",
      "4  Pt felt wave come over body @ 1218 starting in...     0      NaN         0   \n",
      "\n",
      "   HOSPITAL  ...  PRIOR_VAX  BIRTH_DEFECT  \\\n",
      "0         0  ...    Unknown             0   \n",
      "1         0  ...    Unknown             0   \n",
      "2         0  ...    Unknown             0   \n",
      "3         0  ...    Unknown             0   \n",
      "4         0  ...    Unknown             0   \n",
      "\n",
      "                                         ALLERGIES VAX_TYPE         VAX_MANU  \\\n",
      "0                                             none  COVID19  PFIZER\\BIONTECH   \n",
      "1                                              NaN  COVID19  PFIZER\\BIONTECH   \n",
      "2  Contrast Dye IV contrast, shellfish, strawberry  COVID19  PFIZER\\BIONTECH   \n",
      "3                                             none  COVID19  PFIZER\\BIONTECH   \n",
      "4                                           Biaxin  COVID19  PFIZER\\BIONTECH   \n",
      "\n",
      "   VAX_LOT VAX_DOSE_SERIES VAX_ROUTE VAX_SITE  \\\n",
      "0   EH9899               1        IM       LA   \n",
      "1  EH 9899               1       SYR       LA   \n",
      "2   EH9899               1        IM       RA   \n",
      "3   EH9899             UNK        IM       LA   \n",
      "4   EH9899               1        IM       RA   \n",
      "\n",
      "                              VAX_NAME  \n",
      "0  COVID19 (COVID19 (PFIZER-BIONTECH))  \n",
      "1  COVID19 (COVID19 (PFIZER-BIONTECH))  \n",
      "2  COVID19 (COVID19 (PFIZER-BIONTECH))  \n",
      "3  COVID19 (COVID19 (PFIZER-BIONTECH))  \n",
      "4  COVID19 (COVID19 (PFIZER-BIONTECH))  \n",
      "\n",
      "[5 rows x 24 columns]\n"
     ]
    }
   ],
   "source": [
    "# Merge the two datasets on 'VAERS_ID' and specify suffixes to avoid duplicate column names\n",
    "merged_data = pd.merge(vaers_data_cleaned, vaers_vax, on='VAERS_ID', how='inner', suffixes=('_data', '_vax'))\n",
    "\n",
    "# Check the first few rows of the merged dataset\n",
    "print(merged_data.head())"
   ]
  },
  {
   "cell_type": "code",
   "execution_count": 88,
   "metadata": {},
   "outputs": [],
   "source": [
    "#csv\n",
    "vaersdata_merged.to_csv('vaersdata_merged.csv', index=False)"
   ]
  },
  {
   "cell_type": "code",
   "execution_count": 89,
   "metadata": {},
   "outputs": [
    {
     "name": "stdout",
     "output_type": "stream",
     "text": [
      "<class 'pandas.core.frame.DataFrame'>\n",
      "RangeIndex: 782639 entries, 0 to 782638\n",
      "Data columns (total 24 columns):\n",
      " #   Column           Non-Null Count   Dtype  \n",
      "---  ------           --------------   -----  \n",
      " 0   VAERS_ID         782639 non-null  int64  \n",
      " 1   RECVDATE         782639 non-null  object \n",
      " 2   STATE            782639 non-null  object \n",
      " 3   AGE_YRS          782639 non-null  float64\n",
      " 4   SEX              782639 non-null  int64  \n",
      " 5   SYMPTOM_TEXT     782639 non-null  object \n",
      " 6   DIED             782639 non-null  int64  \n",
      " 7   DATEDIED         14398 non-null   object \n",
      " 8   L_THREAT         782639 non-null  int64  \n",
      " 9   HOSPITAL         782639 non-null  int64  \n",
      " 10  DISABLE          782639 non-null  int64  \n",
      " 11  RECOVD           782639 non-null  int64  \n",
      " 12  VAX_DATE         782639 non-null  object \n",
      " 13  ONSET_DATE       782639 non-null  object \n",
      " 14  PRIOR_VAX        782639 non-null  object \n",
      " 15  BIRTH_DEFECT     782639 non-null  int64  \n",
      " 16  ALLERGIES        379528 non-null  object \n",
      " 17  VAX_TYPE         782639 non-null  object \n",
      " 18  VAX_MANU         782639 non-null  object \n",
      " 19  VAX_LOT          606836 non-null  object \n",
      " 20  VAX_DOSE_SERIES  778283 non-null  object \n",
      " 21  VAX_ROUTE        643545 non-null  object \n",
      " 22  VAX_SITE         640618 non-null  object \n",
      " 23  VAX_NAME         782639 non-null  object \n",
      "dtypes: float64(1), int64(8), object(15)\n",
      "memory usage: 143.3+ MB\n"
     ]
    }
   ],
   "source": [
    "merged_data.info()"
   ]
  },
  {
   "cell_type": "code",
   "execution_count": 90,
   "metadata": {},
   "outputs": [
    {
     "name": "stdout",
     "output_type": "stream",
     "text": [
      "Unique VAERS_IDs in vaers_data_cleaned: 735849\n",
      "Unique VAERS_IDs in vaers_vax: 1012894\n"
     ]
    }
   ],
   "source": [
    "# Check unique VAERS_ID counts\n",
    "print(f\"Unique VAERS_IDs in vaers_data_cleaned: {vaers_data_cleaned['VAERS_ID'].nunique()}\")\n",
    "print(f\"Unique VAERS_IDs in vaers_vax: {vaers_vax['VAERS_ID'].nunique()}\")\n"
   ]
  },
  {
   "cell_type": "code",
   "execution_count": 91,
   "metadata": {},
   "outputs": [
    {
     "name": "stdout",
     "output_type": "stream",
     "text": [
      "Number of common VAERS_IDs: 735849\n"
     ]
    }
   ],
   "source": [
    "# Check the intersection of VAERS_IDs\n",
    "common_ids = set(vaers_data_cleaned['VAERS_ID']).intersection(set(vaers_vax['VAERS_ID']))\n",
    "print(f\"Number of common VAERS_IDs: {len(common_ids)}\")\n"
   ]
  },
  {
   "cell_type": "code",
   "execution_count": 92,
   "metadata": {},
   "outputs": [
    {
     "data": {
      "text/plain": [
       "(735849, 17)"
      ]
     },
     "execution_count": 92,
     "metadata": {},
     "output_type": "execute_result"
    }
   ],
   "source": [
    "vaers_data_cleaned.shape"
   ]
  },
  {
   "cell_type": "code",
   "execution_count": 93,
   "metadata": {},
   "outputs": [
    {
     "data": {
      "text/plain": [
       "(1073516, 8)"
      ]
     },
     "execution_count": 93,
     "metadata": {},
     "output_type": "execute_result"
    }
   ],
   "source": [
    "vaers_vax.shape"
   ]
  },
  {
   "cell_type": "code",
   "execution_count": 94,
   "metadata": {},
   "outputs": [
    {
     "data": {
      "text/html": [
       "<div>\n",
       "<style scoped>\n",
       "    .dataframe tbody tr th:only-of-type {\n",
       "        vertical-align: middle;\n",
       "    }\n",
       "\n",
       "    .dataframe tbody tr th {\n",
       "        vertical-align: top;\n",
       "    }\n",
       "\n",
       "    .dataframe thead th {\n",
       "        text-align: right;\n",
       "    }\n",
       "</style>\n",
       "<table border=\"1\" class=\"dataframe\">\n",
       "  <thead>\n",
       "    <tr style=\"text-align: right;\">\n",
       "      <th></th>\n",
       "      <th>VAERS_ID</th>\n",
       "      <th>RECVDATE</th>\n",
       "      <th>STATE</th>\n",
       "      <th>AGE_YRS</th>\n",
       "      <th>SEX</th>\n",
       "      <th>SYMPTOM_TEXT</th>\n",
       "      <th>DIED</th>\n",
       "      <th>DATEDIED</th>\n",
       "      <th>L_THREAT</th>\n",
       "      <th>HOSPITAL</th>\n",
       "      <th>...</th>\n",
       "      <th>PRIOR_VAX</th>\n",
       "      <th>BIRTH_DEFECT</th>\n",
       "      <th>ALLERGIES</th>\n",
       "      <th>VAX_TYPE</th>\n",
       "      <th>VAX_MANU</th>\n",
       "      <th>VAX_LOT</th>\n",
       "      <th>VAX_DOSE_SERIES</th>\n",
       "      <th>VAX_ROUTE</th>\n",
       "      <th>VAX_SITE</th>\n",
       "      <th>VAX_NAME</th>\n",
       "    </tr>\n",
       "  </thead>\n",
       "  <tbody>\n",
       "    <tr>\n",
       "      <th>0</th>\n",
       "      <td>902418</td>\n",
       "      <td>2020-12-15</td>\n",
       "      <td>NJ</td>\n",
       "      <td>56.0</td>\n",
       "      <td>0</td>\n",
       "      <td>Patient experienced mild numbness traveling fr...</td>\n",
       "      <td>0</td>\n",
       "      <td>NaN</td>\n",
       "      <td>0</td>\n",
       "      <td>0</td>\n",
       "      <td>...</td>\n",
       "      <td>Unknown</td>\n",
       "      <td>0</td>\n",
       "      <td>none</td>\n",
       "      <td>COVID19</td>\n",
       "      <td>PFIZER\\BIONTECH</td>\n",
       "      <td>EH9899</td>\n",
       "      <td>1</td>\n",
       "      <td>IM</td>\n",
       "      <td>LA</td>\n",
       "      <td>COVID19 (COVID19 (PFIZER-BIONTECH))</td>\n",
       "    </tr>\n",
       "    <tr>\n",
       "      <th>1</th>\n",
       "      <td>902440</td>\n",
       "      <td>2020-12-15</td>\n",
       "      <td>AZ</td>\n",
       "      <td>35.0</td>\n",
       "      <td>0</td>\n",
       "      <td>C/O Headache</td>\n",
       "      <td>0</td>\n",
       "      <td>NaN</td>\n",
       "      <td>0</td>\n",
       "      <td>0</td>\n",
       "      <td>...</td>\n",
       "      <td>Unknown</td>\n",
       "      <td>0</td>\n",
       "      <td>NaN</td>\n",
       "      <td>COVID19</td>\n",
       "      <td>PFIZER\\BIONTECH</td>\n",
       "      <td>EH 9899</td>\n",
       "      <td>1</td>\n",
       "      <td>SYR</td>\n",
       "      <td>LA</td>\n",
       "      <td>COVID19 (COVID19 (PFIZER-BIONTECH))</td>\n",
       "    </tr>\n",
       "    <tr>\n",
       "      <th>2</th>\n",
       "      <td>902446</td>\n",
       "      <td>2020-12-15</td>\n",
       "      <td>WV</td>\n",
       "      <td>55.0</td>\n",
       "      <td>0</td>\n",
       "      <td>felt warm, hot and face and ears were red and ...</td>\n",
       "      <td>0</td>\n",
       "      <td>NaN</td>\n",
       "      <td>0</td>\n",
       "      <td>0</td>\n",
       "      <td>...</td>\n",
       "      <td>Unknown</td>\n",
       "      <td>0</td>\n",
       "      <td>Contrast Dye IV contrast, shellfish, strawberry</td>\n",
       "      <td>COVID19</td>\n",
       "      <td>PFIZER\\BIONTECH</td>\n",
       "      <td>EH9899</td>\n",
       "      <td>1</td>\n",
       "      <td>IM</td>\n",
       "      <td>RA</td>\n",
       "      <td>COVID19 (COVID19 (PFIZER-BIONTECH))</td>\n",
       "    </tr>\n",
       "    <tr>\n",
       "      <th>3</th>\n",
       "      <td>902464</td>\n",
       "      <td>2020-12-15</td>\n",
       "      <td>LA</td>\n",
       "      <td>42.0</td>\n",
       "      <td>1</td>\n",
       "      <td>within 15 minutes progressive light-headedness...</td>\n",
       "      <td>0</td>\n",
       "      <td>NaN</td>\n",
       "      <td>0</td>\n",
       "      <td>0</td>\n",
       "      <td>...</td>\n",
       "      <td>Unknown</td>\n",
       "      <td>0</td>\n",
       "      <td>none</td>\n",
       "      <td>COVID19</td>\n",
       "      <td>PFIZER\\BIONTECH</td>\n",
       "      <td>EH9899</td>\n",
       "      <td>UNK</td>\n",
       "      <td>IM</td>\n",
       "      <td>LA</td>\n",
       "      <td>COVID19 (COVID19 (PFIZER-BIONTECH))</td>\n",
       "    </tr>\n",
       "    <tr>\n",
       "      <th>4</th>\n",
       "      <td>902465</td>\n",
       "      <td>2020-12-15</td>\n",
       "      <td>AR</td>\n",
       "      <td>60.0</td>\n",
       "      <td>0</td>\n",
       "      <td>Pt felt wave come over body @ 1218 starting in...</td>\n",
       "      <td>0</td>\n",
       "      <td>NaN</td>\n",
       "      <td>0</td>\n",
       "      <td>0</td>\n",
       "      <td>...</td>\n",
       "      <td>Unknown</td>\n",
       "      <td>0</td>\n",
       "      <td>Biaxin</td>\n",
       "      <td>COVID19</td>\n",
       "      <td>PFIZER\\BIONTECH</td>\n",
       "      <td>EH9899</td>\n",
       "      <td>1</td>\n",
       "      <td>IM</td>\n",
       "      <td>RA</td>\n",
       "      <td>COVID19 (COVID19 (PFIZER-BIONTECH))</td>\n",
       "    </tr>\n",
       "  </tbody>\n",
       "</table>\n",
       "<p>5 rows × 24 columns</p>\n",
       "</div>"
      ],
      "text/plain": [
       "   VAERS_ID    RECVDATE STATE  AGE_YRS  SEX  \\\n",
       "0    902418  2020-12-15    NJ     56.0    0   \n",
       "1    902440  2020-12-15    AZ     35.0    0   \n",
       "2    902446  2020-12-15    WV     55.0    0   \n",
       "3    902464  2020-12-15    LA     42.0    1   \n",
       "4    902465  2020-12-15    AR     60.0    0   \n",
       "\n",
       "                                        SYMPTOM_TEXT  DIED DATEDIED  L_THREAT  \\\n",
       "0  Patient experienced mild numbness traveling fr...     0      NaN         0   \n",
       "1                                       C/O Headache     0      NaN         0   \n",
       "2  felt warm, hot and face and ears were red and ...     0      NaN         0   \n",
       "3  within 15 minutes progressive light-headedness...     0      NaN         0   \n",
       "4  Pt felt wave come over body @ 1218 starting in...     0      NaN         0   \n",
       "\n",
       "   HOSPITAL  ...  PRIOR_VAX  BIRTH_DEFECT  \\\n",
       "0         0  ...    Unknown             0   \n",
       "1         0  ...    Unknown             0   \n",
       "2         0  ...    Unknown             0   \n",
       "3         0  ...    Unknown             0   \n",
       "4         0  ...    Unknown             0   \n",
       "\n",
       "                                         ALLERGIES VAX_TYPE         VAX_MANU  \\\n",
       "0                                             none  COVID19  PFIZER\\BIONTECH   \n",
       "1                                              NaN  COVID19  PFIZER\\BIONTECH   \n",
       "2  Contrast Dye IV contrast, shellfish, strawberry  COVID19  PFIZER\\BIONTECH   \n",
       "3                                             none  COVID19  PFIZER\\BIONTECH   \n",
       "4                                           Biaxin  COVID19  PFIZER\\BIONTECH   \n",
       "\n",
       "   VAX_LOT VAX_DOSE_SERIES VAX_ROUTE VAX_SITE  \\\n",
       "0   EH9899               1        IM       LA   \n",
       "1  EH 9899               1       SYR       LA   \n",
       "2   EH9899               1        IM       RA   \n",
       "3   EH9899             UNK        IM       LA   \n",
       "4   EH9899               1        IM       RA   \n",
       "\n",
       "                              VAX_NAME  \n",
       "0  COVID19 (COVID19 (PFIZER-BIONTECH))  \n",
       "1  COVID19 (COVID19 (PFIZER-BIONTECH))  \n",
       "2  COVID19 (COVID19 (PFIZER-BIONTECH))  \n",
       "3  COVID19 (COVID19 (PFIZER-BIONTECH))  \n",
       "4  COVID19 (COVID19 (PFIZER-BIONTECH))  \n",
       "\n",
       "[5 rows x 24 columns]"
      ]
     },
     "execution_count": 94,
     "metadata": {},
     "output_type": "execute_result"
    }
   ],
   "source": [
    "# Perform an inner join to keep only the common records in both datasets\n",
    "merged_data = pd.merge(vaers_data_cleaned, vaers_vax, on='VAERS_ID', how='inner')\n",
    "\n",
    "# Check the shape and first few rows of the merged data\n",
    "merged_data.shape\n",
    "merged_data.head()\n"
   ]
  },
  {
   "cell_type": "code",
   "execution_count": 95,
   "metadata": {},
   "outputs": [
    {
     "data": {
      "text/plain": [
       "(782639, 24)"
      ]
     },
     "execution_count": 95,
     "metadata": {},
     "output_type": "execute_result"
    }
   ],
   "source": [
    "merged_data.shape"
   ]
  },
  {
   "cell_type": "code",
   "execution_count": 96,
   "metadata": {},
   "outputs": [
    {
     "name": "stdout",
     "output_type": "stream",
     "text": [
      "   VAERS_ID  HAS_ALLERGIES\n",
      "0    902418              1\n",
      "1    902440              0\n",
      "2    902446              1\n",
      "3    902464              1\n",
      "4    902465              1\n"
     ]
    }
   ],
   "source": [
    "# Convert 'ALLERGIES' column to binary 'HAS_ALLERGIES'\n",
    "merged_data['HAS_ALLERGIES'] = merged_data['ALLERGIES'].notna().astype(int)\n",
    "\n",
    "# Drop the original 'ALLERGIES' column\n",
    "merged_data.drop('ALLERGIES', axis=1, inplace=True)\n",
    "\n",
    "# Check the changes\n",
    "print(merged_data[['VAERS_ID', 'HAS_ALLERGIES']].head())\n"
   ]
  }
 ],
 "metadata": {
  "kernelspec": {
   "display_name": "VAC",
   "language": "python",
   "name": "python3"
  },
  "language_info": {
   "codemirror_mode": {
    "name": "ipython",
    "version": 3
   },
   "file_extension": ".py",
   "mimetype": "text/x-python",
   "name": "python",
   "nbconvert_exporter": "python",
   "pygments_lexer": "ipython3",
   "version": "3.9.20"
  }
 },
 "nbformat": 4,
 "nbformat_minor": 2
}
