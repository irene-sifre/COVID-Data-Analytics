{
 "cells": [
  {
   "cell_type": "markdown",
   "metadata": {},
   "source": [
    "# Hypotheses\n",
    "\n",
    "1. Prevalence of Symptoms by Gender: Females are more likely to present symptoms compared to males after receiving a vaccine.\n",
    "\n",
    " 2.Vaccine Mortality and Age: Older patients are at a greater risk of mortality following vaccination compared to younger patients.\n",
    "\n",
    " 3.Impact of Multiple Vaccine Doses on Adverse Effects: Individuals who received more than one vaccine dose are more likely to experience adverse effects than those who received a single dose.\n",
    "\n",
    " 4.Vaccine Manufacturer and Symptom Severity: The Pfizer vaccine is associated with a higher incidence or severity of post-vaccination symptoms compared to other vaccine manufacturers.\n",
    "\n",
    " 5.Geographical and Lot-Based Variation in Symptoms: Certain vaccine lots or specific geographical regions are associated with higher incidences of adverse symptoms."
   ]
  },
  {
   "cell_type": "code",
   "execution_count": 17,
   "metadata": {},
   "outputs": [],
   "source": [
    "# Libraries \n",
    "import pandas as pd\n",
    "import matplotlib.pyplot as plt\n",
    "import seaborn as sns\n",
    "import plotly.express as px\n",
    "from scipy.stats import shapiro\n",
    "import statsmodels.api as sm\n",
    "\n",
    "# Set Pandas display options to show all rows and columns\n",
    "#pd.set_option(\"display.max_rows\", None)  # None means no limit\n",
    "#pd.set_option(\"display.max_columns\", None)  # None means no limit"
   ]
  },
  {
   "cell_type": "code",
   "execution_count": 18,
   "metadata": {},
   "outputs": [],
   "source": [
    "event_vax_sympt_df = pd.read_csv('../Data/Clean/full_dataset.csv', low_memory=False)"
   ]
  },
  {
   "cell_type": "code",
   "execution_count": 19,
   "metadata": {},
   "outputs": [
    {
     "name": "stdout",
     "output_type": "stream",
     "text": [
      "<class 'pandas.core.frame.DataFrame'>\n",
      "RangeIndex: 19545 entries, 0 to 19544\n",
      "Data columns (total 94 columns):\n",
      " #   Column                             Non-Null Count  Dtype  \n",
      "---  ------                             --------------  -----  \n",
      " 0   VAERS_ID                           19545 non-null  int64  \n",
      " 1   STATE                              19545 non-null  object \n",
      " 2   AGE_YRS                            19545 non-null  float64\n",
      " 3   SEX                                19545 non-null  int64  \n",
      " 4   DIED                               19545 non-null  int64  \n",
      " 5   L_THREAT                           19545 non-null  int64  \n",
      " 6   HOSPITAL                           19545 non-null  int64  \n",
      " 7   DISABLE                            19545 non-null  int64  \n",
      " 8   RECOVD                             19545 non-null  int64  \n",
      " 9   VAX_DATE                           19545 non-null  object \n",
      " 10  BIRTH_DEFECT                       19545 non-null  int64  \n",
      " 11  VAX_LOT                            6677 non-null   object \n",
      " 12  VAX_MANU                           6677 non-null   object \n",
      " 13  VAX_DOSE_SERIES                    6677 non-null   object \n",
      " 14  None                               19545 non-null  int64  \n",
      " 15  headache                           19545 non-null  int64  \n",
      " 16  chills                             19545 non-null  int64  \n",
      " 17  fatigue                            19545 non-null  int64  \n",
      " 18  pyrexia                            19545 non-null  int64  \n",
      " 19  pain                               19545 non-null  int64  \n",
      " 20  nausea                             19545 non-null  int64  \n",
      " 21  dizziness                          19545 non-null  int64  \n",
      " 22  injection site pain                19545 non-null  int64  \n",
      " 23  pain in extremity                  19545 non-null  int64  \n",
      " 24  injection site erythema            19545 non-null  int64  \n",
      " 25  myalgia                            19545 non-null  int64  \n",
      " 26  pruritus                           19545 non-null  int64  \n",
      " 27  arthralgia                         19545 non-null  int64  \n",
      " 28  injection site swelling            19545 non-null  int64  \n",
      " 29  paraesthesia                       19545 non-null  int64  \n",
      " 30  rash                               19545 non-null  int64  \n",
      " 31  dyspnoea                           19545 non-null  int64  \n",
      " 32  injection site pruritus            19545 non-null  int64  \n",
      " 33  urticaria                          19545 non-null  int64  \n",
      " 34  erythema                           19545 non-null  int64  \n",
      " 35  vomiting                           19545 non-null  int64  \n",
      " 36  injection site warmth              19545 non-null  int64  \n",
      " 37  hypoaesthesia                      19545 non-null  int64  \n",
      " 38  flushing                           19545 non-null  int64  \n",
      " 39  diarrhoea                          19545 non-null  int64  \n",
      " 40  malaise                            19545 non-null  int64  \n",
      " 41  hyperhidrosis                      19545 non-null  int64  \n",
      " 42  palpitations                       19545 non-null  int64  \n",
      " 43  lymphadenopathy                    19545 non-null  int64  \n",
      " 44  asthenia                           19545 non-null  int64  \n",
      " 45  heart rate increased               19545 non-null  int64  \n",
      " 46  cough                              19545 non-null  int64  \n",
      " 47  chest discomfort                   19545 non-null  int64  \n",
      " 48  paraesthesia oral                  19545 non-null  int64  \n",
      " 49  feeling abnormal                   19545 non-null  int64  \n",
      " 50  tachycardia                        19545 non-null  int64  \n",
      " 51  feeling hot                        19545 non-null  int64  \n",
      " 52  sars-cov-2 test negative           19545 non-null  int64  \n",
      " 53  oropharyngeal pain                 19545 non-null  int64  \n",
      " 54  throat irritation                  19545 non-null  int64  \n",
      " 55  tremor                             19545 non-null  int64  \n",
      " 56  peripheral swelling                19545 non-null  int64  \n",
      " 57  blood pressure increased           19545 non-null  int64  \n",
      " 58  body temperature increased         19545 non-null  int64  \n",
      " 59  skin warm                          19545 non-null  int64  \n",
      " 60  throat tightness                   19545 non-null  int64  \n",
      " 61  neck pain                          19545 non-null  int64  \n",
      " 62  swelling                           19545 non-null  int64  \n",
      " 63  back pain                          19545 non-null  int64  \n",
      " 64  hypoaesthesia oral                 19545 non-null  int64  \n",
      " 65  chest pain                         19545 non-null  int64  \n",
      " 66  rash erythematous                  19545 non-null  int64  \n",
      " 67  injection site induration          19545 non-null  int64  \n",
      " 68  anxiety                            19545 non-null  int64  \n",
      " 69  sars-cov-2 test positive           19545 non-null  int64  \n",
      " 70  immediate post-injection reaction  19545 non-null  int64  \n",
      " 71  injection site rash                19545 non-null  int64  \n",
      " 72  sars-cov-2 test                    19545 non-null  int64  \n",
      " 73  swelling face                      19545 non-null  int64  \n",
      " 74  impaired work ability              19545 non-null  int64  \n",
      " 75  decreased appetite                 19545 non-null  int64  \n",
      " 76  rash pruritic                      19545 non-null  int64  \n",
      " 77  dysgeusia                          19545 non-null  int64  \n",
      " 78  electrocardiogram                  19545 non-null  int64  \n",
      " 79  hypertension                       19545 non-null  int64  \n",
      " 80  migraine                           19545 non-null  int64  \n",
      " 81  condition aggravated               19545 non-null  int64  \n",
      " 82  tenderness                         19545 non-null  int64  \n",
      " 83  rhinorrhoea                        19545 non-null  int64  \n",
      " 84  dysphagia                          19545 non-null  int64  \n",
      " 85  mobility decreased                 19545 non-null  int64  \n",
      " 86  injection site reaction            19545 non-null  int64  \n",
      " 87  lip swelling                       19545 non-null  int64  \n",
      " 88  sleep disorder                     19545 non-null  int64  \n",
      " 89  hot flush                          19545 non-null  int64  \n",
      " 90  abdominal pain                     19545 non-null  int64  \n",
      " 91  feeling cold                       19545 non-null  int64  \n",
      " 92  swollen tongue                     19545 non-null  int64  \n",
      " 93  lymph node pain                    19545 non-null  int64  \n",
      "dtypes: float64(1), int64(88), object(5)\n",
      "memory usage: 14.0+ MB\n"
     ]
    }
   ],
   "source": [
    "event_vax_sympt_df.info()"
   ]
  },
  {
   "cell_type": "code",
   "execution_count": 20,
   "metadata": {},
   "outputs": [
    {
     "data": {
      "text/html": [
       "<div>\n",
       "<style scoped>\n",
       "    .dataframe tbody tr th:only-of-type {\n",
       "        vertical-align: middle;\n",
       "    }\n",
       "\n",
       "    .dataframe tbody tr th {\n",
       "        vertical-align: top;\n",
       "    }\n",
       "\n",
       "    .dataframe thead th {\n",
       "        text-align: right;\n",
       "    }\n",
       "</style>\n",
       "<table border=\"1\" class=\"dataframe\">\n",
       "  <thead>\n",
       "    <tr style=\"text-align: right;\">\n",
       "      <th></th>\n",
       "      <th>VAERS_ID</th>\n",
       "      <th>STATE</th>\n",
       "      <th>AGE_YRS</th>\n",
       "      <th>SEX</th>\n",
       "      <th>DIED</th>\n",
       "      <th>L_THREAT</th>\n",
       "      <th>HOSPITAL</th>\n",
       "      <th>DISABLE</th>\n",
       "      <th>RECOVD</th>\n",
       "      <th>VAX_DATE</th>\n",
       "      <th>...</th>\n",
       "      <th>dysphagia</th>\n",
       "      <th>mobility decreased</th>\n",
       "      <th>injection site reaction</th>\n",
       "      <th>lip swelling</th>\n",
       "      <th>sleep disorder</th>\n",
       "      <th>hot flush</th>\n",
       "      <th>abdominal pain</th>\n",
       "      <th>feeling cold</th>\n",
       "      <th>swollen tongue</th>\n",
       "      <th>lymph node pain</th>\n",
       "    </tr>\n",
       "  </thead>\n",
       "  <tbody>\n",
       "    <tr>\n",
       "      <th>0</th>\n",
       "      <td>902418</td>\n",
       "      <td>NJ</td>\n",
       "      <td>56.0</td>\n",
       "      <td>0</td>\n",
       "      <td>0</td>\n",
       "      <td>0</td>\n",
       "      <td>0</td>\n",
       "      <td>0</td>\n",
       "      <td>1</td>\n",
       "      <td>12/15/2020</td>\n",
       "      <td>...</td>\n",
       "      <td>0</td>\n",
       "      <td>0</td>\n",
       "      <td>0</td>\n",
       "      <td>0</td>\n",
       "      <td>0</td>\n",
       "      <td>0</td>\n",
       "      <td>0</td>\n",
       "      <td>0</td>\n",
       "      <td>0</td>\n",
       "      <td>0</td>\n",
       "    </tr>\n",
       "    <tr>\n",
       "      <th>1</th>\n",
       "      <td>902440</td>\n",
       "      <td>AZ</td>\n",
       "      <td>35.0</td>\n",
       "      <td>0</td>\n",
       "      <td>0</td>\n",
       "      <td>0</td>\n",
       "      <td>0</td>\n",
       "      <td>0</td>\n",
       "      <td>1</td>\n",
       "      <td>12/15/2020</td>\n",
       "      <td>...</td>\n",
       "      <td>0</td>\n",
       "      <td>0</td>\n",
       "      <td>0</td>\n",
       "      <td>0</td>\n",
       "      <td>0</td>\n",
       "      <td>0</td>\n",
       "      <td>0</td>\n",
       "      <td>0</td>\n",
       "      <td>0</td>\n",
       "      <td>0</td>\n",
       "    </tr>\n",
       "    <tr>\n",
       "      <th>2</th>\n",
       "      <td>902446</td>\n",
       "      <td>WV</td>\n",
       "      <td>55.0</td>\n",
       "      <td>0</td>\n",
       "      <td>0</td>\n",
       "      <td>0</td>\n",
       "      <td>0</td>\n",
       "      <td>0</td>\n",
       "      <td>1</td>\n",
       "      <td>12/15/2020</td>\n",
       "      <td>...</td>\n",
       "      <td>0</td>\n",
       "      <td>0</td>\n",
       "      <td>0</td>\n",
       "      <td>0</td>\n",
       "      <td>0</td>\n",
       "      <td>0</td>\n",
       "      <td>0</td>\n",
       "      <td>0</td>\n",
       "      <td>0</td>\n",
       "      <td>0</td>\n",
       "    </tr>\n",
       "    <tr>\n",
       "      <th>3</th>\n",
       "      <td>902464</td>\n",
       "      <td>LA</td>\n",
       "      <td>42.0</td>\n",
       "      <td>1</td>\n",
       "      <td>0</td>\n",
       "      <td>0</td>\n",
       "      <td>0</td>\n",
       "      <td>0</td>\n",
       "      <td>1</td>\n",
       "      <td>12/15/2020</td>\n",
       "      <td>...</td>\n",
       "      <td>0</td>\n",
       "      <td>0</td>\n",
       "      <td>0</td>\n",
       "      <td>0</td>\n",
       "      <td>0</td>\n",
       "      <td>0</td>\n",
       "      <td>0</td>\n",
       "      <td>0</td>\n",
       "      <td>0</td>\n",
       "      <td>0</td>\n",
       "    </tr>\n",
       "    <tr>\n",
       "      <th>4</th>\n",
       "      <td>902465</td>\n",
       "      <td>AR</td>\n",
       "      <td>60.0</td>\n",
       "      <td>0</td>\n",
       "      <td>0</td>\n",
       "      <td>0</td>\n",
       "      <td>0</td>\n",
       "      <td>0</td>\n",
       "      <td>0</td>\n",
       "      <td>12/15/2020</td>\n",
       "      <td>...</td>\n",
       "      <td>0</td>\n",
       "      <td>0</td>\n",
       "      <td>0</td>\n",
       "      <td>0</td>\n",
       "      <td>0</td>\n",
       "      <td>0</td>\n",
       "      <td>0</td>\n",
       "      <td>0</td>\n",
       "      <td>0</td>\n",
       "      <td>0</td>\n",
       "    </tr>\n",
       "    <tr>\n",
       "      <th>...</th>\n",
       "      <td>...</td>\n",
       "      <td>...</td>\n",
       "      <td>...</td>\n",
       "      <td>...</td>\n",
       "      <td>...</td>\n",
       "      <td>...</td>\n",
       "      <td>...</td>\n",
       "      <td>...</td>\n",
       "      <td>...</td>\n",
       "      <td>...</td>\n",
       "      <td>...</td>\n",
       "      <td>...</td>\n",
       "      <td>...</td>\n",
       "      <td>...</td>\n",
       "      <td>...</td>\n",
       "      <td>...</td>\n",
       "      <td>...</td>\n",
       "      <td>...</td>\n",
       "      <td>...</td>\n",
       "      <td>...</td>\n",
       "      <td>...</td>\n",
       "    </tr>\n",
       "    <tr>\n",
       "      <th>19540</th>\n",
       "      <td>1279599</td>\n",
       "      <td>CA</td>\n",
       "      <td>43.0</td>\n",
       "      <td>1</td>\n",
       "      <td>0</td>\n",
       "      <td>0</td>\n",
       "      <td>0</td>\n",
       "      <td>0</td>\n",
       "      <td>1</td>\n",
       "      <td>01/05/2021</td>\n",
       "      <td>...</td>\n",
       "      <td>0</td>\n",
       "      <td>0</td>\n",
       "      <td>0</td>\n",
       "      <td>0</td>\n",
       "      <td>0</td>\n",
       "      <td>0</td>\n",
       "      <td>0</td>\n",
       "      <td>0</td>\n",
       "      <td>0</td>\n",
       "      <td>0</td>\n",
       "    </tr>\n",
       "    <tr>\n",
       "      <th>19541</th>\n",
       "      <td>1279600</td>\n",
       "      <td>CA</td>\n",
       "      <td>27.0</td>\n",
       "      <td>0</td>\n",
       "      <td>0</td>\n",
       "      <td>0</td>\n",
       "      <td>0</td>\n",
       "      <td>0</td>\n",
       "      <td>0</td>\n",
       "      <td>01/05/2021</td>\n",
       "      <td>...</td>\n",
       "      <td>0</td>\n",
       "      <td>0</td>\n",
       "      <td>0</td>\n",
       "      <td>0</td>\n",
       "      <td>0</td>\n",
       "      <td>0</td>\n",
       "      <td>0</td>\n",
       "      <td>0</td>\n",
       "      <td>0</td>\n",
       "      <td>0</td>\n",
       "    </tr>\n",
       "    <tr>\n",
       "      <th>19542</th>\n",
       "      <td>2019715</td>\n",
       "      <td>NY</td>\n",
       "      <td>35.0</td>\n",
       "      <td>0</td>\n",
       "      <td>0</td>\n",
       "      <td>0</td>\n",
       "      <td>1</td>\n",
       "      <td>1</td>\n",
       "      <td>0</td>\n",
       "      <td>08/06/2021</td>\n",
       "      <td>...</td>\n",
       "      <td>0</td>\n",
       "      <td>0</td>\n",
       "      <td>0</td>\n",
       "      <td>0</td>\n",
       "      <td>0</td>\n",
       "      <td>0</td>\n",
       "      <td>0</td>\n",
       "      <td>0</td>\n",
       "      <td>0</td>\n",
       "      <td>0</td>\n",
       "    </tr>\n",
       "    <tr>\n",
       "      <th>19543</th>\n",
       "      <td>2427491</td>\n",
       "      <td>VA</td>\n",
       "      <td>37.0</td>\n",
       "      <td>0</td>\n",
       "      <td>0</td>\n",
       "      <td>0</td>\n",
       "      <td>0</td>\n",
       "      <td>0</td>\n",
       "      <td>0</td>\n",
       "      <td>01/05/2021</td>\n",
       "      <td>...</td>\n",
       "      <td>0</td>\n",
       "      <td>0</td>\n",
       "      <td>0</td>\n",
       "      <td>0</td>\n",
       "      <td>0</td>\n",
       "      <td>0</td>\n",
       "      <td>0</td>\n",
       "      <td>0</td>\n",
       "      <td>0</td>\n",
       "      <td>0</td>\n",
       "    </tr>\n",
       "    <tr>\n",
       "      <th>19544</th>\n",
       "      <td>2427492</td>\n",
       "      <td>IL</td>\n",
       "      <td>40.0</td>\n",
       "      <td>0</td>\n",
       "      <td>0</td>\n",
       "      <td>0</td>\n",
       "      <td>0</td>\n",
       "      <td>0</td>\n",
       "      <td>1</td>\n",
       "      <td>01/05/2021</td>\n",
       "      <td>...</td>\n",
       "      <td>0</td>\n",
       "      <td>0</td>\n",
       "      <td>0</td>\n",
       "      <td>0</td>\n",
       "      <td>0</td>\n",
       "      <td>0</td>\n",
       "      <td>0</td>\n",
       "      <td>0</td>\n",
       "      <td>0</td>\n",
       "      <td>0</td>\n",
       "    </tr>\n",
       "  </tbody>\n",
       "</table>\n",
       "<p>19545 rows × 94 columns</p>\n",
       "</div>"
      ],
      "text/plain": [
       "       VAERS_ID STATE  AGE_YRS  SEX  DIED  L_THREAT  HOSPITAL  DISABLE  \\\n",
       "0        902418    NJ     56.0    0     0         0         0        0   \n",
       "1        902440    AZ     35.0    0     0         0         0        0   \n",
       "2        902446    WV     55.0    0     0         0         0        0   \n",
       "3        902464    LA     42.0    1     0         0         0        0   \n",
       "4        902465    AR     60.0    0     0         0         0        0   \n",
       "...         ...   ...      ...  ...   ...       ...       ...      ...   \n",
       "19540   1279599    CA     43.0    1     0         0         0        0   \n",
       "19541   1279600    CA     27.0    0     0         0         0        0   \n",
       "19542   2019715    NY     35.0    0     0         0         1        1   \n",
       "19543   2427491    VA     37.0    0     0         0         0        0   \n",
       "19544   2427492    IL     40.0    0     0         0         0        0   \n",
       "\n",
       "       RECOVD    VAX_DATE  ...  dysphagia mobility decreased  \\\n",
       "0           1  12/15/2020  ...          0                  0   \n",
       "1           1  12/15/2020  ...          0                  0   \n",
       "2           1  12/15/2020  ...          0                  0   \n",
       "3           1  12/15/2020  ...          0                  0   \n",
       "4           0  12/15/2020  ...          0                  0   \n",
       "...       ...         ...  ...        ...                ...   \n",
       "19540       1  01/05/2021  ...          0                  0   \n",
       "19541       0  01/05/2021  ...          0                  0   \n",
       "19542       0  08/06/2021  ...          0                  0   \n",
       "19543       0  01/05/2021  ...          0                  0   \n",
       "19544       1  01/05/2021  ...          0                  0   \n",
       "\n",
       "      injection site reaction lip swelling  sleep disorder  hot flush  \\\n",
       "0                           0            0               0          0   \n",
       "1                           0            0               0          0   \n",
       "2                           0            0               0          0   \n",
       "3                           0            0               0          0   \n",
       "4                           0            0               0          0   \n",
       "...                       ...          ...             ...        ...   \n",
       "19540                       0            0               0          0   \n",
       "19541                       0            0               0          0   \n",
       "19542                       0            0               0          0   \n",
       "19543                       0            0               0          0   \n",
       "19544                       0            0               0          0   \n",
       "\n",
       "       abdominal pain  feeling cold  swollen tongue  lymph node pain  \n",
       "0                   0             0               0                0  \n",
       "1                   0             0               0                0  \n",
       "2                   0             0               0                0  \n",
       "3                   0             0               0                0  \n",
       "4                   0             0               0                0  \n",
       "...               ...           ...             ...              ...  \n",
       "19540               0             0               0                0  \n",
       "19541               0             0               0                0  \n",
       "19542               0             0               0                0  \n",
       "19543               0             0               0                0  \n",
       "19544               0             0               0                0  \n",
       "\n",
       "[19545 rows x 94 columns]"
      ]
     },
     "execution_count": 20,
     "metadata": {},
     "output_type": "execute_result"
    }
   ],
   "source": [
    "# Drop rows where 'VAX_LOT' or 'VAX_MANU' have null values\n",
    "event_vax_sympt_df"
   ]
  },
  {
   "cell_type": "code",
   "execution_count": 21,
   "metadata": {},
   "outputs": [
    {
     "name": "stdout",
     "output_type": "stream",
     "text": [
      "<class 'pandas.core.frame.DataFrame'>\n",
      "RangeIndex: 19545 entries, 0 to 19544\n",
      "Data columns (total 94 columns):\n",
      " #   Column                             Non-Null Count  Dtype  \n",
      "---  ------                             --------------  -----  \n",
      " 0   VAERS_ID                           19545 non-null  int64  \n",
      " 1   STATE                              19545 non-null  object \n",
      " 2   AGE_YRS                            19545 non-null  float64\n",
      " 3   SEX                                19545 non-null  int64  \n",
      " 4   DIED                               19545 non-null  int64  \n",
      " 5   L_THREAT                           19545 non-null  int64  \n",
      " 6   HOSPITAL                           19545 non-null  int64  \n",
      " 7   DISABLE                            19545 non-null  int64  \n",
      " 8   RECOVD                             19545 non-null  int64  \n",
      " 9   VAX_DATE                           19545 non-null  object \n",
      " 10  BIRTH_DEFECT                       19545 non-null  int64  \n",
      " 11  VAX_LOT                            6677 non-null   object \n",
      " 12  VAX_MANU                           6677 non-null   object \n",
      " 13  VAX_DOSE_SERIES                    6677 non-null   object \n",
      " 14  None                               19545 non-null  int64  \n",
      " 15  headache                           19545 non-null  int64  \n",
      " 16  chills                             19545 non-null  int64  \n",
      " 17  fatigue                            19545 non-null  int64  \n",
      " 18  pyrexia                            19545 non-null  int64  \n",
      " 19  pain                               19545 non-null  int64  \n",
      " 20  nausea                             19545 non-null  int64  \n",
      " 21  dizziness                          19545 non-null  int64  \n",
      " 22  injection site pain                19545 non-null  int64  \n",
      " 23  pain in extremity                  19545 non-null  int64  \n",
      " 24  injection site erythema            19545 non-null  int64  \n",
      " 25  myalgia                            19545 non-null  int64  \n",
      " 26  pruritus                           19545 non-null  int64  \n",
      " 27  arthralgia                         19545 non-null  int64  \n",
      " 28  injection site swelling            19545 non-null  int64  \n",
      " 29  paraesthesia                       19545 non-null  int64  \n",
      " 30  rash                               19545 non-null  int64  \n",
      " 31  dyspnoea                           19545 non-null  int64  \n",
      " 32  injection site pruritus            19545 non-null  int64  \n",
      " 33  urticaria                          19545 non-null  int64  \n",
      " 34  erythema                           19545 non-null  int64  \n",
      " 35  vomiting                           19545 non-null  int64  \n",
      " 36  injection site warmth              19545 non-null  int64  \n",
      " 37  hypoaesthesia                      19545 non-null  int64  \n",
      " 38  flushing                           19545 non-null  int64  \n",
      " 39  diarrhoea                          19545 non-null  int64  \n",
      " 40  malaise                            19545 non-null  int64  \n",
      " 41  hyperhidrosis                      19545 non-null  int64  \n",
      " 42  palpitations                       19545 non-null  int64  \n",
      " 43  lymphadenopathy                    19545 non-null  int64  \n",
      " 44  asthenia                           19545 non-null  int64  \n",
      " 45  heart rate increased               19545 non-null  int64  \n",
      " 46  cough                              19545 non-null  int64  \n",
      " 47  chest discomfort                   19545 non-null  int64  \n",
      " 48  paraesthesia oral                  19545 non-null  int64  \n",
      " 49  feeling abnormal                   19545 non-null  int64  \n",
      " 50  tachycardia                        19545 non-null  int64  \n",
      " 51  feeling hot                        19545 non-null  int64  \n",
      " 52  sars-cov-2 test negative           19545 non-null  int64  \n",
      " 53  oropharyngeal pain                 19545 non-null  int64  \n",
      " 54  throat irritation                  19545 non-null  int64  \n",
      " 55  tremor                             19545 non-null  int64  \n",
      " 56  peripheral swelling                19545 non-null  int64  \n",
      " 57  blood pressure increased           19545 non-null  int64  \n",
      " 58  body temperature increased         19545 non-null  int64  \n",
      " 59  skin warm                          19545 non-null  int64  \n",
      " 60  throat tightness                   19545 non-null  int64  \n",
      " 61  neck pain                          19545 non-null  int64  \n",
      " 62  swelling                           19545 non-null  int64  \n",
      " 63  back pain                          19545 non-null  int64  \n",
      " 64  hypoaesthesia oral                 19545 non-null  int64  \n",
      " 65  chest pain                         19545 non-null  int64  \n",
      " 66  rash erythematous                  19545 non-null  int64  \n",
      " 67  injection site induration          19545 non-null  int64  \n",
      " 68  anxiety                            19545 non-null  int64  \n",
      " 69  sars-cov-2 test positive           19545 non-null  int64  \n",
      " 70  immediate post-injection reaction  19545 non-null  int64  \n",
      " 71  injection site rash                19545 non-null  int64  \n",
      " 72  sars-cov-2 test                    19545 non-null  int64  \n",
      " 73  swelling face                      19545 non-null  int64  \n",
      " 74  impaired work ability              19545 non-null  int64  \n",
      " 75  decreased appetite                 19545 non-null  int64  \n",
      " 76  rash pruritic                      19545 non-null  int64  \n",
      " 77  dysgeusia                          19545 non-null  int64  \n",
      " 78  electrocardiogram                  19545 non-null  int64  \n",
      " 79  hypertension                       19545 non-null  int64  \n",
      " 80  migraine                           19545 non-null  int64  \n",
      " 81  condition aggravated               19545 non-null  int64  \n",
      " 82  tenderness                         19545 non-null  int64  \n",
      " 83  rhinorrhoea                        19545 non-null  int64  \n",
      " 84  dysphagia                          19545 non-null  int64  \n",
      " 85  mobility decreased                 19545 non-null  int64  \n",
      " 86  injection site reaction            19545 non-null  int64  \n",
      " 87  lip swelling                       19545 non-null  int64  \n",
      " 88  sleep disorder                     19545 non-null  int64  \n",
      " 89  hot flush                          19545 non-null  int64  \n",
      " 90  abdominal pain                     19545 non-null  int64  \n",
      " 91  feeling cold                       19545 non-null  int64  \n",
      " 92  swollen tongue                     19545 non-null  int64  \n",
      " 93  lymph node pain                    19545 non-null  int64  \n",
      "dtypes: float64(1), int64(88), object(5)\n",
      "memory usage: 14.0+ MB\n"
     ]
    }
   ],
   "source": [
    "event_vax_sympt_df.info()"
   ]
  },
  {
   "cell_type": "code",
   "execution_count": 22,
   "metadata": {},
   "outputs": [
    {
     "data": {
      "image/png": "[encoded data removed]",
      "text/plain": [
       "<Figure size 800x800 with 1 Axes>"
      ]
     },
     "metadata": {},
     "output_type": "display_data"
    }
   ],
   "source": [
    "#Distribution of Reports By Sex\n",
    "\n",
    "# Separate data by gender\n",
    "female_count = event_vax_sympt_df[event_vax_sympt_df['SEX'] == 1].shape[0]\n",
    "male_count = event_vax_sympt_df[event_vax_sympt_df['SEX'] == 0].shape[0]\n",
    "\n",
    "# Plot pie chart for gender distribution\n",
    "plt.figure(figsize=(8, 8))\n",
    "plt.pie([female_count, male_count], labels=['Female', 'Male'], autopct='%1.1f%%', colors=['skyblue', 'orange'])\n",
    "plt.title('Gender Distribution')\n",
    "plt.show()"
   ]
  },
  {
   "cell_type": "markdown",
   "metadata": {},
   "source": [
    "Gender Disparity:\n",
    "\n",
    "The chart shows that 81.8% of the individuals are male and 18.2% are female."
   ]
  },
  {
   "cell_type": "code",
   "execution_count": 23,
   "metadata": {},
   "outputs": [
    {
     "data": {
      "image/png": "[encoded data removed]",
      "text/plain": [
       "<Figure size 1000x600 with 1 Axes>"
      ]
     },
     "metadata": {},
     "output_type": "display_data"
    }
   ],
   "source": [
    "#Distribution of Reports By Age\n",
    "\n",
    "# Plot bar chart by continuous age intervals\n",
    "age_bins = range(0, 101, 10)  # Age bins with intervals of 10 years\n",
    "age_labels = [f'{i}-{i+9}' for i in age_bins[:-1]]\n",
    "event_vax_sympt_df['age_group'] = pd.cut(event_vax_sympt_df['AGE_YRS'], bins=age_bins, labels=age_labels)\n",
    "\n",
    "# Count age group frequencies\n",
    "age_group_counts = event_vax_sympt_df['age_group'].value_counts().sort_index()\n",
    "\n",
    "# Plot bar chart\n",
    "plt.figure(figsize=(10, 6))\n",
    "age_group_counts.plot(kind='bar', color='skyblue')\n",
    "plt.xlabel('Age Group')\n",
    "plt.ylabel('Count')\n",
    "plt.title('Number of Records by Age Group')\n",
    "plt.xticks(rotation=45)\n",
    "plt.show()\n"
   ]
  },
  {
   "cell_type": "markdown",
   "metadata": {},
   "source": [
    "The dataset is heavily skewed towards middle-aged individuals, with 30-59 being the dominant age range. "
   ]
  },
  {
   "cell_type": "code",
   "execution_count": 24,
   "metadata": {},
   "outputs": [
    {
     "name": "stdout",
     "output_type": "stream",
     "text": [
      "Average Age: 44.09\n",
      "Standard Deviation of Age: 13.85\n",
      "Median Age: 43.0\n"
     ]
    },
    {
     "name": "stderr",
     "output_type": "stream",
     "text": [
      "C:\\Users\\Usuario\\AppData\\Local\\Temp\\ipykernel_17720\\2565043682.py:3: FutureWarning: The default of observed=False is deprecated and will be changed to True in a future version of pandas. Pass observed=False to retain current behavior or observed=True to adopt the future default and silence this warning.\n",
      "  record_counts = event_vax_sympt_df.groupby(age_groups).size()\n"
     ]
    }
   ],
   "source": [
    "# Statistical summary for age groups\n",
    "age_groups = pd.cut(event_vax_sympt_df['AGE_YRS'], bins=[0, 9, 19, 29, 39, 49, 59, 69, 79, 89, 99], labels=['0-9', '10-19', '20-29', '30-39', '40-49', '50-59', '60-69', '70-79', '80-89', '90-99'])\n",
    "record_counts = event_vax_sympt_df.groupby(age_groups).size()\n",
    "mean_age = round(event_vax_sympt_df['AGE_YRS'].mean(), 2)\n",
    "std_age = round(event_vax_sympt_df['AGE_YRS'].std(), 2)\n",
    "median_age = round(event_vax_sympt_df['AGE_YRS'].median(), 2)\n",
    "\n",
    "# Print statistical summary\n",
    "print(f\"Average Age: {mean_age}\")\n",
    "print(f\"Standard Deviation of Age: {std_age}\")\n",
    "print(f\"Median Age: {median_age}\")\n"
   ]
  },
  {
   "cell_type": "code",
   "execution_count": 25,
   "metadata": {},
   "outputs": [
    {
     "data": {
      "image/png": "[encoded data removed]",
      "text/plain": [
       "<Figure size 1000x600 with 1 Axes>"
      ]
     },
     "metadata": {},
     "output_type": "display_data"
    }
   ],
   "source": [
    "#Examine severity of symptoms by gender\n",
    "import matplotlib.pyplot as plt\n",
    "\n",
    "# Assuming you already have the event_data_df DataFrame\n",
    "\n",
    "# Agrupar los datos por género y calcular la suma de las columnas L_THREAT y HOSPITAL\n",
    "severity_by_gender = event_vax_sympt_df.groupby('SEX')[['L_THREAT', 'HOSPITAL']].sum()\n",
    "\n",
    "# Graficar un gráfico de barras agrupado para la severidad por género\n",
    "severity_by_gender.plot(kind='bar', color=['skyblue', 'orange'], figsize=(10, 6))\n",
    "plt.xlabel('Gender (1 = Male, 0 = Female)')\n",
    "plt.ylabel('Count of Severe Cases')\n",
    "plt.title('Severity of Symptoms by Gender (Life Threat and Hospitalized)')\n",
    "plt.legend(['Life Threat', 'Hospitalized'])\n",
    "plt.xticks(rotation=0)\n",
    "plt.show()\n"
   ]
  },
  {
   "cell_type": "markdown",
   "metadata": {},
   "source": [
    "Females appear to have a higher likelihood of severe outcomes (hospitalizations and life-threatening cases) following vaccination compared to males"
   ]
  },
  {
   "cell_type": "code",
   "execution_count": 26,
   "metadata": {},
   "outputs": [
    {
     "name": "stderr",
     "output_type": "stream",
     "text": [
      "C:\\Users\\Usuario\\AppData\\Local\\Temp\\ipykernel_17720\\2930234687.py:4: FutureWarning: \n",
      "\n",
      "Passing `palette` without assigning `hue` is deprecated and will be removed in v0.14.0. Assign the `x` variable to `hue` and set `legend=False` for the same effect.\n",
      "\n",
      "  sns.boxplot(x='DIED', y='AGE_YRS', data=event_vax_sympt_df, palette=['skyblue', 'orange'])\n"
     ]
    },
    {
     "data": {
      "image/png": "[encoded data removed]",
      "text/plain": [
       "<Figure size 1000x600 with 1 Axes>"
      ]
     },
     "metadata": {},
     "output_type": "display_data"
    }
   ],
   "source": [
    "# Boxplot for age distribution by mortality status\n",
    "\n",
    "plt.figure(figsize=(10, 6))\n",
    "sns.boxplot(x='DIED', y='AGE_YRS', data=event_vax_sympt_df, palette=['skyblue', 'orange'])\n",
    "plt.xlabel('Mortality Status (0 = No, 1 = Yes)')\n",
    "plt.ylabel('Age')\n",
    "plt.title('Age Distribution by Mortality Status')\n",
    "plt.show()\n",
    "\n"
   ]
  },
  {
   "cell_type": "markdown",
   "metadata": {},
   "source": [
    "Most individuals who died were between 70 to 90 years old, suggesting that older age is associated with a higher risk of mortality following vaccination.\n",
    "\n",
    "The plot clearly suggests that older age is a major factor in increased mortality risk post-vaccination, as the median and the IQR for deceased individuals are both much higher compared to those who survived\n",
    "\n",
    "The survivors' group shows numerous outliers at older ages, which might indicate that there are older individuals who survived despite the increased risk"
   ]
  },
  {
   "cell_type": "code",
   "execution_count": 27,
   "metadata": {},
   "outputs": [
    {
     "data": {
      "image/png": "[encoded data removed]",
      "text/plain": [
       "<Figure size 1000x600 with 1 Axes>"
      ]
     },
     "metadata": {},
     "output_type": "display_data"
    }
   ],
   "source": [
    "# Histogram for mortality rates by age groups\n",
    "plt.figure(figsize=(10, 6))\n",
    "sns.histplot(event_vax_sympt_df[event_vax_sympt_df['DIED'] == 1]['AGE_YRS'], bins=15, color='skyblue', kde=True)\n",
    "plt.xlabel('Age')\n",
    "plt.ylabel('Frequency')\n",
    "plt.title('Age Distribution for Patients Who Died')\n",
    "plt.show()"
   ]
  },
  {
   "cell_type": "code",
   "execution_count": 29,
   "metadata": {},
   "outputs": [
    {
     "data": {
      "image/png": "[encoded data removed]",
      "text/plain": [
       "<Figure size 1500x1000 with 1 Axes>"
      ]
     },
     "metadata": {},
     "output_type": "display_data"
    }
   ],
   "source": [
    "# Group severity data by state\n",
    "severity_by_state = event_vax_sympt_df.groupby('STATE')[['L_THREAT', 'HOSPITAL']].sum().reset_index()\n",
    "\n",
    "# Add total and calculate ratios\n",
    "severity_by_state['TOTAL'] = severity_by_state['L_THREAT'] + severity_by_state['HOSPITAL']\n",
    "severity_by_state['L_THREAT_RATIO'] = severity_by_state['L_THREAT'] / severity_by_state['TOTAL']\n",
    "severity_by_state['HOSPITAL_RATIO'] = severity_by_state['HOSPITAL'] / severity_by_state['TOTAL']\n",
    "\n",
    "# Plotting scatter plot for severity ratios by state\n",
    "plt.figure(figsize=(15, 10))\n",
    "plt.scatter(severity_by_state['STATE'], severity_by_state['L_THREAT_RATIO'], color='red', label='Life Threat Ratio')\n",
    "plt.scatter(severity_by_state['STATE'], severity_by_state['HOSPITAL_RATIO'], color='orange', label='Hospitalized Ratio')\n",
    "plt.xlabel('State')\n",
    "plt.ylabel('Severity Ratio')\n",
    "plt.title('Severity Ratios of Symptoms by State')\n",
    "plt.xticks(rotation=90)\n",
    "plt.legend()\n",
    "plt.show()\n",
    "\n"
   ]
  },
  {
   "cell_type": "code",
   "execution_count": 30,
   "metadata": {},
   "outputs": [
    {
     "name": "stderr",
     "output_type": "stream",
     "text": [
      "C:\\Users\\Usuario\\AppData\\Local\\Temp\\ipykernel_17720\\2354770140.py:7: FutureWarning: \n",
      "\n",
      "Passing `palette` without assigning `hue` is deprecated and will be removed in v0.14.0. Assign the `x` variable to `hue` and set `legend=False` for the same effect.\n",
      "\n",
      "  sns.barplot(x='STATE', y='FREQUENCY', data=reports_by_state, palette='viridis')\n"
     ]
    },
    {
     "data": {
      "image/png": "[encoded data removed]",
      "text/plain": [
       "<Figure size 1500x1000 with 1 Axes>"
      ]
     },
     "metadata": {},
     "output_type": "display_data"
    }
   ],
   "source": [
    "# Group reports data by state for frequency analysis\n",
    "reports_by_state = event_vax_sympt_df['STATE'].value_counts().reset_index()\n",
    "reports_by_state.columns = ['STATE', 'FREQUENCY']\n",
    "\n",
    "# Plotting bar chart for frequency by state\n",
    "plt.figure(figsize=(15, 10))\n",
    "sns.barplot(x='STATE', y='FREQUENCY', data=reports_by_state, palette='viridis')\n",
    "plt.xlabel('State')\n",
    "plt.ylabel('Frequency of Reports')\n",
    "plt.title('Frequency of Reports by State')\n",
    "plt.xticks(rotation=90)\n",
    "plt.show()"
   ]
  },
  {
   "cell_type": "code",
   "execution_count": 31,
   "metadata": {},
   "outputs": [
    {
     "name": "stderr",
     "output_type": "stream",
     "text": [
      "C:\\Users\\Usuario\\AppData\\Local\\Temp\\ipykernel_17720\\2710406984.py:9: FutureWarning: \n",
      "\n",
      "Passing `palette` without assigning `hue` is deprecated and will be removed in v0.14.0. Assign the `x` variable to `hue` and set `legend=False` for the same effect.\n",
      "\n",
      "  sns.barplot(x='STATE', y='DIED', data=deaths_by_state, palette='Blues')\n"
     ]
    },
    {
     "data": {
      "image/png": "[encoded data removed]",
      "text/plain": [
       "<Figure size 1500x1000 with 1 Axes>"
      ]
     },
     "metadata": {},
     "output_type": "display_data"
    }
   ],
   "source": [
    "# Group deaths by state\n",
    "deaths_by_state = event_vax_sympt_df.groupby('STATE')['DIED'].sum().reset_index()\n",
    "\n",
    "# Sort data in descending order by number of deaths\n",
    "deaths_by_state = deaths_by_state.sort_values(by='DIED', ascending=False)\n",
    "\n",
    "# Plotting bar chart for deaths by state in descending order\n",
    "plt.figure(figsize=(15, 10))\n",
    "sns.barplot(x='STATE', y='DIED', data=deaths_by_state, palette='Blues')\n",
    "plt.xlabel('State')\n",
    "plt.ylabel('Number of Deaths')\n",
    "plt.title('Number of Deaths by State (Descending Order)')\n",
    "plt.xticks(rotation=90)\n",
    "plt.show()\n"
   ]
  },
  {
   "cell_type": "code",
   "execution_count": 32,
   "metadata": {},
   "outputs": [
    {
     "name": "stderr",
     "output_type": "stream",
     "text": [
      "C:\\Users\\Usuario\\AppData\\Local\\Temp\\ipykernel_17720\\3193590573.py:4: SettingWithCopyWarning: \n",
      "A value is trying to be set on a copy of a slice from a DataFrame.\n",
      "Try using .loc[row_indexer,col_indexer] = value instead\n",
      "\n",
      "See the caveats in the documentation: https://pandas.pydata.org/pandas-docs/stable/user_guide/indexing.html#returning-a-view-versus-a-copy\n",
      "  severity_features['STATE'] = pd.factorize(event_vax_sympt_df['STATE'])[0]\n"
     ]
    },
    {
     "data": {
      "image/png": "[encoded data removed]",
      "text/plain": [
       "<Figure size 1000x800 with 2 Axes>"
      ]
     },
     "metadata": {},
     "output_type": "display_data"
    }
   ],
   "source": [
    "\n",
    "# Correlation heatmap for severity features including deaths and states\n",
    "plt.figure(figsize=(10, 8))\n",
    "severity_features = event_vax_sympt_df[['L_THREAT', 'HOSPITAL', 'DISABLE', 'DIED']]\n",
    "severity_features['STATE'] = pd.factorize(event_vax_sympt_df['STATE'])[0]\n",
    "sns.heatmap(severity_features.corr(), annot=True, cmap='coolwarm', linewidths=0.5)\n",
    "plt.title('Correlation Heatmap of Severity Features Including Deaths and States')\n",
    "plt.show()"
   ]
  },
  {
   "cell_type": "markdown",
   "metadata": {},
   "source": [
    "The only weak correlation is between life-threatening symptoms and hospitalization (0.31), which makes sense since severe cases often require hospitalization.\n",
    "Other correlations are very weak or near zero, suggesting that the occurrences of DISABLE, DIED, and STATE have very little or no linear dependency with each other or with the severity features."
   ]
  },
  {
   "cell_type": "code",
   "execution_count": 33,
   "metadata": {},
   "outputs": [
    {
     "data": {
      "application/vnd.plotly.v1+json": {
       "config": {
        "plotlyServerURL": "https://plot.ly"
       },
       "data": [
        {
         "coloraxis": "coloraxis",
         "geo": "geo",
         "hovertemplate": "STATE=%{location}<br>REPORT_RATIO=%{z}<extra></extra>",
         "locationmode": "USA-states",
         "locations": [
          "CA",
          "TX",
          "NY",
          "FL",
          "IL",
          "PA",
          "OH",
          "MI",
          "NJ",
          "MA",
          "IN",
          "CO",
          "MO",
          "WA",
          "VA",
          "WI",
          "AZ",
          "GA",
          "NC",
          "TN",
          "MD",
          "MN",
          "CT",
          "OK",
          "KS",
          "AR",
          "MT",
          "IA",
          "KY",
          "OR",
          "ME",
          "NE",
          "WV",
          "AL",
          "UT",
          "NM",
          "AK",
          "LA",
          "NV",
          "ID",
          "NH",
          "SC",
          "SD",
          "HI",
          "MS",
          "ND",
          "RI",
          "VT",
          "WY",
          "DE"
         ],
         "name": "",
         "type": "choropleth",
         "z": [
          0.09455103607060629,
          0.07633665899206958,
          0.059810693271936555,
          0.045126630851880276,
          0.04328472755180353,
          0.03699155794320798,
          0.0365310821181888,
          0.029316960859554875,
          0.02916346891788181,
          0.028702993092862623,
          0.028293681248401127,
          0.027065745715016628,
          0.02425172678434382,
          0.02389357892044001,
          0.0227168073676132,
          0.022154003581478638,
          0.021488871834228703,
          0.020874904067536455,
          0.019851624456382708,
          0.019851624456382708,
          0.017549245331286774,
          0.0174469173701714,
          0.015553850089536966,
          0.014735226400613968,
          0.014581734458940905,
          0.014479406497825531,
          0.01330263494499872,
          0.013251470964441034,
          0.01294448708109491,
          0.012893323100537223,
          0.012177027372729599,
          0.011051419800460476,
          0.010283960092095165,
          0.009874648247633665,
          0.00920951650038373,
          0.008902532617037606,
          0.00880020465592223,
          0.008544384753133794,
          0.007776925044768483,
          0.007623433103095421,
          0.00685597339473011,
          0.006497825530826298,
          0.006242005628037861,
          0.0058326937835763626,
          0.005628037861345613,
          0.004911742133537989,
          0.004860578152980302,
          0.004758250191864927,
          0.0016884113584036838,
          0.0014837554361729342
         ]
        }
       ],
       "layout": {
        "coloraxis": {
         "colorbar": {
          "title": {
           "text": "REPORT_RATIO"
          }
         },
         "colorscale": [
          [
           0,
           "rgb(247,251,255)"
          ],
          [
           0.125,
           "rgb(222,235,247)"
          ],
          [
           0.25,
           "rgb(198,219,239)"
          ],
          [
           0.375,
           "rgb(158,202,225)"
          ],
          [
           0.5,
           "rgb(107,174,214)"
          ],
          [
           0.625,
           "rgb(66,146,198)"
          ],
          [
           0.75,
           "rgb(33,113,181)"
          ],
          [
           0.875,
           "rgb(8,81,156)"
          ],
          [
           1,
           "rgb(8,48,107)"
          ]
         ]
        },
        "geo": {
         "center": {},
         "domain": {
          "x": [
           0,
           1
          ],
          "y": [
           0,
           1
          ]
         },
         "lakecolor": "rgb(255, 255, 255)",
         "scope": "usa"
        },
        "legend": {
         "tracegroupgap": 0
        },
        "template": {
         "data": {
          "bar": [
           {
            "error_x": {
             "color": "#2a3f5f"
            },
            "error_y": {
             "color": "#2a3f5f"
            },
            "marker": {
             "line": {
              "color": "#E5ECF6",
              "width": 0.5
             },
             "pattern": {
              "fillmode": "overlay",
              "size": 10,
              "solidity": 0.2
             }
            },
            "type": "bar"
           }
          ],
          "barpolar": [
           {
            "marker": {
             "line": {
              "color": "#E5ECF6",
              "width": 0.5
             },
             "pattern": {
              "fillmode": "overlay",
              "size": 10,
              "solidity": 0.2
             }
            },
            "type": "barpolar"
           }
          ],
          "carpet": [
           {
            "aaxis": {
             "endlinecolor": "#2a3f5f",
             "gridcolor": "white",
             "linecolor": "white",
             "minorgridcolor": "white",
             "startlinecolor": "#2a3f5f"
            },
            "baxis": {
             "endlinecolor": "#2a3f5f",
             "gridcolor": "white",
             "linecolor": "white",
             "minorgridcolor": "white",
             "startlinecolor": "#2a3f5f"
            },
            "type": "carpet"
           }
          ],
          "choropleth": [
           {
            "colorbar": {
             "outlinewidth": 0,
             "ticks": ""
            },
            "type": "choropleth"
           }
          ],
          "contour": [
           {
            "colorbar": {
             "outlinewidth": 0,
             "ticks": ""
            },
            "colorscale": [
             [
              0,
              "#0d0887"
             ],
             [
              0.1111111111111111,
              "#46039f"
             ],
             [
              0.2222222222222222,
              "#7201a8"
             ],
             [
              0.3333333333333333,
              "#9c179e"
             ],
             [
              0.4444444444444444,
              "#bd3786"
             ],
             [
              0.5555555555555556,
              "#d8576b"
             ],
             [
              0.6666666666666666,
              "#ed7953"
             ],
             [
              0.7777777777777778,
              "#fb9f3a"
             ],
             [
              0.8888888888888888,
              "#fdca26"
             ],
             [
              1,
              "#f0f921"
             ]
            ],
            "type": "contour"
           }
          ],
          "contourcarpet": [
           {
            "colorbar": {
             "outlinewidth": 0,
             "ticks": ""
            },
            "type": "contourcarpet"
           }
          ],
          "heatmap": [
           {
            "colorbar": {
             "outlinewidth": 0,
             "ticks": ""
            },
            "colorscale": [
             [
              0,
              "#0d0887"
             ],
             [
              0.1111111111111111,
              "#46039f"
             ],
             [
              0.2222222222222222,
              "#7201a8"
             ],
             [
              0.3333333333333333,
              "#9c179e"
             ],
             [
              0.4444444444444444,
              "#bd3786"
             ],
             [
              0.5555555555555556,
              "#d8576b"
             ],
             [
              0.6666666666666666,
              "#ed7953"
             ],
             [
              0.7777777777777778,
              "#fb9f3a"
             ],
             [
              0.8888888888888888,
              "#fdca26"
             ],
             [
              1,
              "#f0f921"
             ]
            ],
            "type": "heatmap"
           }
          ],
          "heatmapgl": [
           {
            "colorbar": {
             "outlinewidth": 0,
             "ticks": ""
            },
            "colorscale": [
             [
              0,
              "#0d0887"
             ],
             [
              0.1111111111111111,
              "#46039f"
             ],
             [
              0.2222222222222222,
              "#7201a8"
             ],
             [
              0.3333333333333333,
              "#9c179e"
             ],
             [
              0.4444444444444444,
              "#bd3786"
             ],
             [
              0.5555555555555556,
              "#d8576b"
             ],
             [
              0.6666666666666666,
              "#ed7953"
             ],
             [
              0.7777777777777778,
              "#fb9f3a"
             ],
             [
              0.8888888888888888,
              "#fdca26"
             ],
             [
              1,
              "#f0f921"
             ]
            ],
            "type": "heatmapgl"
           }
          ],
          "histogram": [
           {
            "marker": {
             "pattern": {
              "fillmode": "overlay",
              "size": 10,
              "solidity": 0.2
             }
            },
            "type": "histogram"
           }
          ],
          "histogram2d": [
           {
            "colorbar": {
             "outlinewidth": 0,
             "ticks": ""
            },
            "colorscale": [
             [
              0,
              "#0d0887"
             ],
             [
              0.1111111111111111,
              "#46039f"
             ],
             [
              0.2222222222222222,
              "#7201a8"
             ],
             [
              0.3333333333333333,
              "#9c179e"
             ],
             [
              0.4444444444444444,
              "#bd3786"
             ],
             [
              0.5555555555555556,
              "#d8576b"
             ],
             [
              0.6666666666666666,
              "#ed7953"
             ],
             [
              0.7777777777777778,
              "#fb9f3a"
             ],
             [
              0.8888888888888888,
              "#fdca26"
             ],
             [
              1,
              "#f0f921"
             ]
            ],
            "type": "histogram2d"
           }
          ],
          "histogram2dcontour": [
           {
            "colorbar": {
             "outlinewidth": 0,
             "ticks": ""
            },
            "colorscale": [
             [
              0,
              "#0d0887"
             ],
             [
              0.1111111111111111,
              "#46039f"
             ],
             [
              0.2222222222222222,
              "#7201a8"
             ],
             [
              0.3333333333333333,
              "#9c179e"
             ],
             [
              0.4444444444444444,
              "#bd3786"
             ],
             [
              0.5555555555555556,
              "#d8576b"
             ],
             [
              0.6666666666666666,
              "#ed7953"
             ],
             [
              0.7777777777777778,
              "#fb9f3a"
             ],
             [
              0.8888888888888888,
              "#fdca26"
             ],
             [
              1,
              "#f0f921"
             ]
            ],
            "type": "histogram2dcontour"
           }
          ],
          "mesh3d": [
           {
            "colorbar": {
             "outlinewidth": 0,
             "ticks": ""
            },
            "type": "mesh3d"
           }
          ],
          "parcoords": [
           {
            "line": {
             "colorbar": {
              "outlinewidth": 0,
              "ticks": ""
             }
            },
            "type": "parcoords"
           }
          ],
          "pie": [
           {
            "automargin": true,
            "type": "pie"
           }
          ],
          "scatter": [
           {
            "fillpattern": {
             "fillmode": "overlay",
             "size": 10,
             "solidity": 0.2
            },
            "type": "scatter"
           }
          ],
          "scatter3d": [
           {
            "line": {
             "colorbar": {
              "outlinewidth": 0,
              "ticks": ""
             }
            },
            "marker": {
             "colorbar": {
              "outlinewidth": 0,
              "ticks": ""
             }
            },
            "type": "scatter3d"
           }
          ],
          "scattercarpet": [
           {
            "marker": {
             "colorbar": {
              "outlinewidth": 0,
              "ticks": ""
             }
            },
            "type": "scattercarpet"
           }
          ],
          "scattergeo": [
           {
            "marker": {
             "colorbar": {
              "outlinewidth": 0,
              "ticks": ""
             }
            },
            "type": "scattergeo"
           }
          ],
          "scattergl": [
           {
            "marker": {
             "colorbar": {
              "outlinewidth": 0,
              "ticks": ""
             }
            },
            "type": "scattergl"
           }
          ],
          "scattermapbox": [
           {
            "marker": {
             "colorbar": {
              "outlinewidth": 0,
              "ticks": ""
             }
            },
            "type": "scattermapbox"
           }
          ],
          "scatterpolar": [
           {
            "marker": {
             "colorbar": {
              "outlinewidth": 0,
              "ticks": ""
             }
            },
            "type": "scatterpolar"
           }
          ],
          "scatterpolargl": [
           {
            "marker": {
             "colorbar": {
              "outlinewidth": 0,
              "ticks": ""
             }
            },
            "type": "scatterpolargl"
           }
          ],
          "scatterternary": [
           {
            "marker": {
             "colorbar": {
              "outlinewidth": 0,
              "ticks": ""
             }
            },
            "type": "scatterternary"
           }
          ],
          "surface": [
           {
            "colorbar": {
             "outlinewidth": 0,
             "ticks": ""
            },
            "colorscale": [
             [
              0,
              "#0d0887"
             ],
             [
              0.1111111111111111,
              "#46039f"
             ],
             [
              0.2222222222222222,
              "#7201a8"
             ],
             [
              0.3333333333333333,
              "#9c179e"
             ],
             [
              0.4444444444444444,
              "#bd3786"
             ],
             [
              0.5555555555555556,
              "#d8576b"
             ],
             [
              0.6666666666666666,
              "#ed7953"
             ],
             [
              0.7777777777777778,
              "#fb9f3a"
             ],
             [
              0.8888888888888888,
              "#fdca26"
             ],
             [
              1,
              "#f0f921"
             ]
            ],
            "type": "surface"
           }
          ],
          "table": [
           {
            "cells": {
             "fill": {
              "color": "#EBF0F8"
             },
             "line": {
              "color": "white"
             }
            },
            "header": {
             "fill": {
              "color": "#C8D4E3"
             },
             "line": {
              "color": "white"
             }
            },
            "type": "table"
           }
          ]
         },
         "layout": {
          "annotationdefaults": {
           "arrowcolor": "#2a3f5f",
           "arrowhead": 0,
           "arrowwidth": 1
          },
          "autotypenumbers": "strict",
          "coloraxis": {
           "colorbar": {
            "outlinewidth": 0,
            "ticks": ""
           }
          },
          "colorscale": {
           "diverging": [
            [
             0,
             "#8e0152"
            ],
            [
             0.1,
             "#c51b7d"
            ],
            [
             0.2,
             "#de77ae"
            ],
            [
             0.3,
             "#f1b6da"
            ],
            [
             0.4,
             "#fde0ef"
            ],
            [
             0.5,
             "#f7f7f7"
            ],
            [
             0.6,
             "#e6f5d0"
            ],
            [
             0.7,
             "#b8e186"
            ],
            [
             0.8,
             "#7fbc41"
            ],
            [
             0.9,
             "#4d9221"
            ],
            [
             1,
             "#276419"
            ]
           ],
           "sequential": [
            [
             0,
             "#0d0887"
            ],
            [
             0.1111111111111111,
             "#46039f"
            ],
            [
             0.2222222222222222,
             "#7201a8"
            ],
            [
             0.3333333333333333,
             "#9c179e"
            ],
            [
             0.4444444444444444,
             "#bd3786"
            ],
            [
             0.5555555555555556,
             "#d8576b"
            ],
            [
             0.6666666666666666,
             "#ed7953"
            ],
            [
             0.7777777777777778,
             "#fb9f3a"
            ],
            [
             0.8888888888888888,
             "#fdca26"
            ],
            [
             1,
             "#f0f921"
            ]
           ],
           "sequentialminus": [
            [
             0,
             "#0d0887"
            ],
            [
             0.1111111111111111,
             "#46039f"
            ],
            [
             0.2222222222222222,
             "#7201a8"
            ],
            [
             0.3333333333333333,
             "#9c179e"
            ],
            [
             0.4444444444444444,
             "#bd3786"
            ],
            [
             0.5555555555555556,
             "#d8576b"
            ],
            [
             0.6666666666666666,
             "#ed7953"
            ],
            [
             0.7777777777777778,
             "#fb9f3a"
            ],
            [
             0.8888888888888888,
             "#fdca26"
            ],
            [
             1,
             "#f0f921"
            ]
           ]
          },
          "colorway": [
           "#636efa",
           "#EF553B",
           "#00cc96",
           "#ab63fa",
           "#FFA15A",
           "#19d3f3",
           "#FF6692",
           "#B6E880",
           "#FF97FF",
           "#FECB52"
          ],
          "font": {
           "color": "#2a3f5f"
          },
          "geo": {
           "bgcolor": "white",
           "lakecolor": "white",
           "landcolor": "#E5ECF6",
           "showlakes": true,
           "showland": true,
           "subunitcolor": "white"
          },
          "hoverlabel": {
           "align": "left"
          },
          "hovermode": "closest",
          "mapbox": {
           "style": "light"
          },
          "paper_bgcolor": "white",
          "plot_bgcolor": "#E5ECF6",
          "polar": {
           "angularaxis": {
            "gridcolor": "white",
            "linecolor": "white",
            "ticks": ""
           },
           "bgcolor": "#E5ECF6",
           "radialaxis": {
            "gridcolor": "white",
            "linecolor": "white",
            "ticks": ""
           }
          },
          "scene": {
           "xaxis": {
            "backgroundcolor": "#E5ECF6",
            "gridcolor": "white",
            "gridwidth": 2,
            "linecolor": "white",
            "showbackground": true,
            "ticks": "",
            "zerolinecolor": "white"
           },
           "yaxis": {
            "backgroundcolor": "#E5ECF6",
            "gridcolor": "white",
            "gridwidth": 2,
            "linecolor": "white",
            "showbackground": true,
            "ticks": "",
            "zerolinecolor": "white"
           },
           "zaxis": {
            "backgroundcolor": "#E5ECF6",
            "gridcolor": "white",
            "gridwidth": 2,
            "linecolor": "white",
            "showbackground": true,
            "ticks": "",
            "zerolinecolor": "white"
           }
          },
          "shapedefaults": {
           "line": {
            "color": "#2a3f5f"
           }
          },
          "ternary": {
           "aaxis": {
            "gridcolor": "white",
            "linecolor": "white",
            "ticks": ""
           },
           "baxis": {
            "gridcolor": "white",
            "linecolor": "white",
            "ticks": ""
           },
           "bgcolor": "#E5ECF6",
           "caxis": {
            "gridcolor": "white",
            "linecolor": "white",
            "ticks": ""
           }
          },
          "title": {
           "x": 0.05
          },
          "xaxis": {
           "automargin": true,
           "gridcolor": "white",
           "linecolor": "white",
           "ticks": "",
           "title": {
            "standoff": 15
           },
           "zerolinecolor": "white",
           "zerolinewidth": 2
          },
          "yaxis": {
           "automargin": true,
           "gridcolor": "white",
           "linecolor": "white",
           "ticks": "",
           "title": {
            "standoff": 15
           },
           "zerolinecolor": "white",
           "zerolinewidth": 2
          }
         }
        },
        "title": {
         "text": "Choropleth Map of Report Ratio by State"
        }
       }
      }
     },
     "metadata": {},
     "output_type": "display_data"
    }
   ],
   "source": [
    "# Group report data by state\n",
    "report_by_state = event_vax_sympt_df['STATE'].value_counts().reset_index()\n",
    "report_by_state.columns = ['STATE', 'FREQUENCY']\n",
    "\n",
    "# Calculate the report ratio by state\n",
    "total_reports = report_by_state['FREQUENCY'].sum()\n",
    "report_by_state['REPORT_RATIO'] = report_by_state['FREQUENCY'] / total_reports\n",
    "\n",
    "# Plotting a choropleth map for report ratio by state using Plotly\n",
    "fig = px.choropleth(\n",
    "    report_by_state,\n",
    "    locations='STATE',\n",
    "    locationmode='USA-states',  # Set the location mode to US states\n",
    "    color='REPORT_RATIO',\n",
    "    color_continuous_scale='Blues',\n",
    "    scope='usa',\n",
    "    title='Choropleth Map of Report Ratio by State'\n",
    ")\n",
    "\n",
    "fig.update_layout(\n",
    "    geo=dict(\n",
    "        lakecolor='rgb(255, 255, 255)',\n",
    "    )\n",
    ")\n",
    "\n",
    "fig.show()\n"
   ]
  },
  {
   "cell_type": "code",
   "execution_count": 34,
   "metadata": {},
   "outputs": [
    {
     "data": {
      "image/png": "[encoded data removed]",
      "text/plain": [
       "<Figure size 640x480 with 1 Axes>"
      ]
     },
     "metadata": {},
     "output_type": "display_data"
    }
   ],
   "source": [
    "# Libraries\n",
    "from wordcloud import WordCloud\n",
    "import matplotlib.pyplot as plt\n",
    "\n",
    "# Create a list of word\n",
    "text=(\"Python Python Python Matplotlib\")\n",
    "\n",
    "# Create the wordcloud object\n",
    "wordcloud = WordCloud(width=480, height=480, margin=0).generate(text)\n",
    "\n",
    "# Display the generated image:\n",
    "plt.imshow(wordcloud, interpolation='bilinear')\n",
    "plt.axis(\"off\")\n",
    "plt.margins(x=0, y=0)\n",
    "plt.show()"
   ]
  },
  {
   "cell_type": "code",
   "execution_count": 35,
   "metadata": {},
   "outputs": [
    {
     "data": {
      "application/vnd.plotly.v1+json": {
       "config": {
        "plotlyServerURL": "https://plot.ly"
       },
       "data": [
        {
         "coloraxis": "coloraxis",
         "geo": "geo",
         "hovertemplate": "STATE=%{location}<br>DEATH_RATIO=%{z}<extra></extra>",
         "locationmode": "USA-states",
         "locations": [
          "KY",
          "HI",
          "SD",
          "AR",
          "IA",
          "NE",
          "MI",
          "WI",
          "LA",
          "OH",
          "NC",
          "FL",
          "WA",
          "MT",
          "IN",
          "OK",
          "MN",
          "MD",
          "CA",
          "NY",
          "IL",
          "VA",
          "MO",
          "CO",
          "MA",
          "NJ",
          "PA",
          "TX",
          "OR",
          "UT",
          "RI",
          "WV",
          "SC",
          "TN",
          "VT",
          "AK",
          "NV",
          "NM",
          "NH",
          "ND",
          "AL",
          "MS",
          "ME",
          "KS",
          "ID",
          "GA",
          "DE",
          "CT",
          "AZ",
          "WY"
         ],
         "name": "",
         "type": "choropleth",
         "z": [
          0.019762845849802372,
          0.017543859649122806,
          0.01639344262295082,
          0.014134275618374558,
          0.011583011583011582,
          0.009259259259259259,
          0.008726003490401396,
          0.006928406466512702,
          0.005988023952095809,
          0.0056022408963585435,
          0.005154639175257732,
          0.0045351473922902496,
          0.004282655246252677,
          0.0038461538461538464,
          0.003616636528028933,
          0.003472222222222222,
          0.002932551319648094,
          0.0029154518950437317,
          0.0027056277056277055,
          0.0025662959794696323,
          0.002364066193853428,
          0.0022522522522522522,
          0.002109704641350211,
          0.001890359168241966,
          0.0017825311942959,
          0.0017543859649122807,
          0.0013831258644536654,
          0.0013404825737265416,
          0,
          0,
          0,
          0,
          0,
          0,
          0,
          0,
          0,
          0,
          0,
          0,
          0,
          0,
          0,
          0,
          0,
          0,
          0,
          0,
          0,
          0
         ]
        }
       ],
       "layout": {
        "coloraxis": {
         "colorbar": {
          "title": {
           "text": "DEATH_RATIO"
          }
         },
         "colorscale": [
          [
           0,
           "rgb(255,245,240)"
          ],
          [
           0.125,
           "rgb(254,224,210)"
          ],
          [
           0.25,
           "rgb(252,187,161)"
          ],
          [
           0.375,
           "rgb(252,146,114)"
          ],
          [
           0.5,
           "rgb(251,106,74)"
          ],
          [
           0.625,
           "rgb(239,59,44)"
          ],
          [
           0.75,
           "rgb(203,24,29)"
          ],
          [
           0.875,
           "rgb(165,15,21)"
          ],
          [
           1,
           "rgb(103,0,13)"
          ]
         ]
        },
        "geo": {
         "center": {},
         "domain": {
          "x": [
           0,
           1
          ],
          "y": [
           0,
           1
          ]
         },
         "lakecolor": "rgb(255, 255, 255)",
         "scope": "usa"
        },
        "legend": {
         "tracegroupgap": 0
        },
        "template": {
         "data": {
          "bar": [
           {
            "error_x": {
             "color": "#2a3f5f"
            },
            "error_y": {
             "color": "#2a3f5f"
            },
            "marker": {
             "line": {
              "color": "#E5ECF6",
              "width": 0.5
             },
             "pattern": {
              "fillmode": "overlay",
              "size": 10,
              "solidity": 0.2
             }
            },
            "type": "bar"
           }
          ],
          "barpolar": [
           {
            "marker": {
             "line": {
              "color": "#E5ECF6",
              "width": 0.5
             },
             "pattern": {
              "fillmode": "overlay",
              "size": 10,
              "solidity": 0.2
             }
            },
            "type": "barpolar"
           }
          ],
          "carpet": [
           {
            "aaxis": {
             "endlinecolor": "#2a3f5f",
             "gridcolor": "white",
             "linecolor": "white",
             "minorgridcolor": "white",
             "startlinecolor": "#2a3f5f"
            },
            "baxis": {
             "endlinecolor": "#2a3f5f",
             "gridcolor": "white",
             "linecolor": "white",
             "minorgridcolor": "white",
             "startlinecolor": "#2a3f5f"
            },
            "type": "carpet"
           }
          ],
          "choropleth": [
           {
            "colorbar": {
             "outlinewidth": 0,
             "ticks": ""
            },
            "type": "choropleth"
           }
          ],
          "contour": [
           {
            "colorbar": {
             "outlinewidth": 0,
             "ticks": ""
            },
            "colorscale": [
             [
              0,
              "#0d0887"
             ],
             [
              0.1111111111111111,
              "#46039f"
             ],
             [
              0.2222222222222222,
              "#7201a8"
             ],
             [
              0.3333333333333333,
              "#9c179e"
             ],
             [
              0.4444444444444444,
              "#bd3786"
             ],
             [
              0.5555555555555556,
              "#d8576b"
             ],
             [
              0.6666666666666666,
              "#ed7953"
             ],
             [
              0.7777777777777778,
              "#fb9f3a"
             ],
             [
              0.8888888888888888,
              "#fdca26"
             ],
             [
              1,
              "#f0f921"
             ]
            ],
            "type": "contour"
           }
          ],
          "contourcarpet": [
           {
            "colorbar": {
             "outlinewidth": 0,
             "ticks": ""
            },
            "type": "contourcarpet"
           }
          ],
          "heatmap": [
           {
            "colorbar": {
             "outlinewidth": 0,
             "ticks": ""
            },
            "colorscale": [
             [
              0,
              "#0d0887"
             ],
             [
              0.1111111111111111,
              "#46039f"
             ],
             [
              0.2222222222222222,
              "#7201a8"
             ],
             [
              0.3333333333333333,
              "#9c179e"
             ],
             [
              0.4444444444444444,
              "#bd3786"
             ],
             [
              0.5555555555555556,
              "#d8576b"
             ],
             [
              0.6666666666666666,
              "#ed7953"
             ],
             [
              0.7777777777777778,
              "#fb9f3a"
             ],
             [
              0.8888888888888888,
              "#fdca26"
             ],
             [
              1,
              "#f0f921"
             ]
            ],
            "type": "heatmap"
           }
          ],
          "heatmapgl": [
           {
            "colorbar": {
             "outlinewidth": 0,
             "ticks": ""
            },
            "colorscale": [
             [
              0,
              "#0d0887"
             ],
             [
              0.1111111111111111,
              "#46039f"
             ],
             [
              0.2222222222222222,
              "#7201a8"
             ],
             [
              0.3333333333333333,
              "#9c179e"
             ],
             [
              0.4444444444444444,
              "#bd3786"
             ],
             [
              0.5555555555555556,
              "#d8576b"
             ],
             [
              0.6666666666666666,
              "#ed7953"
             ],
             [
              0.7777777777777778,
              "#fb9f3a"
             ],
             [
              0.8888888888888888,
              "#fdca26"
             ],
             [
              1,
              "#f0f921"
             ]
            ],
            "type": "heatmapgl"
           }
          ],
          "histogram": [
           {
            "marker": {
             "pattern": {
              "fillmode": "overlay",
              "size": 10,
              "solidity": 0.2
             }
            },
            "type": "histogram"
           }
          ],
          "histogram2d": [
           {
            "colorbar": {
             "outlinewidth": 0,
             "ticks": ""
            },
            "colorscale": [
             [
              0,
              "#0d0887"
             ],
             [
              0.1111111111111111,
              "#46039f"
             ],
             [
              0.2222222222222222,
              "#7201a8"
             ],
             [
              0.3333333333333333,
              "#9c179e"
             ],
             [
              0.4444444444444444,
              "#bd3786"
             ],
             [
              0.5555555555555556,
              "#d8576b"
             ],
             [
              0.6666666666666666,
              "#ed7953"
             ],
             [
              0.7777777777777778,
              "#fb9f3a"
             ],
             [
              0.8888888888888888,
              "#fdca26"
             ],
             [
              1,
              "#f0f921"
             ]
            ],
            "type": "histogram2d"
           }
          ],
          "histogram2dcontour": [
           {
            "colorbar": {
             "outlinewidth": 0,
             "ticks": ""
            },
            "colorscale": [
             [
              0,
              "#0d0887"
             ],
             [
              0.1111111111111111,
              "#46039f"
             ],
             [
              0.2222222222222222,
              "#7201a8"
             ],
             [
              0.3333333333333333,
              "#9c179e"
             ],
             [
              0.4444444444444444,
              "#bd3786"
             ],
             [
              0.5555555555555556,
              "#d8576b"
             ],
             [
              0.6666666666666666,
              "#ed7953"
             ],
             [
              0.7777777777777778,
              "#fb9f3a"
             ],
             [
              0.8888888888888888,
              "#fdca26"
             ],
             [
              1,
              "#f0f921"
             ]
            ],
            "type": "histogram2dcontour"
           }
          ],
          "mesh3d": [
           {
            "colorbar": {
             "outlinewidth": 0,
             "ticks": ""
            },
            "type": "mesh3d"
           }
          ],
          "parcoords": [
           {
            "line": {
             "colorbar": {
              "outlinewidth": 0,
              "ticks": ""
             }
            },
            "type": "parcoords"
           }
          ],
          "pie": [
           {
            "automargin": true,
            "type": "pie"
           }
          ],
          "scatter": [
           {
            "fillpattern": {
             "fillmode": "overlay",
             "size": 10,
             "solidity": 0.2
            },
            "type": "scatter"
           }
          ],
          "scatter3d": [
           {
            "line": {
             "colorbar": {
              "outlinewidth": 0,
              "ticks": ""
             }
            },
            "marker": {
             "colorbar": {
              "outlinewidth": 0,
              "ticks": ""
             }
            },
            "type": "scatter3d"
           }
          ],
          "scattercarpet": [
           {
            "marker": {
             "colorbar": {
              "outlinewidth": 0,
              "ticks": ""
             }
            },
            "type": "scattercarpet"
           }
          ],
          "scattergeo": [
           {
            "marker": {
             "colorbar": {
              "outlinewidth": 0,
              "ticks": ""
             }
            },
            "type": "scattergeo"
           }
          ],
          "scattergl": [
           {
            "marker": {
             "colorbar": {
              "outlinewidth": 0,
              "ticks": ""
             }
            },
            "type": "scattergl"
           }
          ],
          "scattermapbox": [
           {
            "marker": {
             "colorbar": {
              "outlinewidth": 0,
              "ticks": ""
             }
            },
            "type": "scattermapbox"
           }
          ],
          "scatterpolar": [
           {
            "marker": {
             "colorbar": {
              "outlinewidth": 0,
              "ticks": ""
             }
            },
            "type": "scatterpolar"
           }
          ],
          "scatterpolargl": [
           {
            "marker": {
             "colorbar": {
              "outlinewidth": 0,
              "ticks": ""
             }
            },
            "type": "scatterpolargl"
           }
          ],
          "scatterternary": [
           {
            "marker": {
             "colorbar": {
              "outlinewidth": 0,
              "ticks": ""
             }
            },
            "type": "scatterternary"
           }
          ],
          "surface": [
           {
            "colorbar": {
             "outlinewidth": 0,
             "ticks": ""
            },
            "colorscale": [
             [
              0,
              "#0d0887"
             ],
             [
              0.1111111111111111,
              "#46039f"
             ],
             [
              0.2222222222222222,
              "#7201a8"
             ],
             [
              0.3333333333333333,
              "#9c179e"
             ],
             [
              0.4444444444444444,
              "#bd3786"
             ],
             [
              0.5555555555555556,
              "#d8576b"
             ],
             [
              0.6666666666666666,
              "#ed7953"
             ],
             [
              0.7777777777777778,
              "#fb9f3a"
             ],
             [
              0.8888888888888888,
              "#fdca26"
             ],
             [
              1,
              "#f0f921"
             ]
            ],
            "type": "surface"
           }
          ],
          "table": [
           {
            "cells": {
             "fill": {
              "color": "#EBF0F8"
             },
             "line": {
              "color": "white"
             }
            },
            "header": {
             "fill": {
              "color": "#C8D4E3"
             },
             "line": {
              "color": "white"
             }
            },
            "type": "table"
           }
          ]
         },
         "layout": {
          "annotationdefaults": {
           "arrowcolor": "#2a3f5f",
           "arrowhead": 0,
           "arrowwidth": 1
          },
          "autotypenumbers": "strict",
          "coloraxis": {
           "colorbar": {
            "outlinewidth": 0,
            "ticks": ""
           }
          },
          "colorscale": {
           "diverging": [
            [
             0,
             "#8e0152"
            ],
            [
             0.1,
             "#c51b7d"
            ],
            [
             0.2,
             "#de77ae"
            ],
            [
             0.3,
             "#f1b6da"
            ],
            [
             0.4,
             "#fde0ef"
            ],
            [
             0.5,
             "#f7f7f7"
            ],
            [
             0.6,
             "#e6f5d0"
            ],
            [
             0.7,
             "#b8e186"
            ],
            [
             0.8,
             "#7fbc41"
            ],
            [
             0.9,
             "#4d9221"
            ],
            [
             1,
             "#276419"
            ]
           ],
           "sequential": [
            [
             0,
             "#0d0887"
            ],
            [
             0.1111111111111111,
             "#46039f"
            ],
            [
             0.2222222222222222,
             "#7201a8"
            ],
            [
             0.3333333333333333,
             "#9c179e"
            ],
            [
             0.4444444444444444,
             "#bd3786"
            ],
            [
             0.5555555555555556,
             "#d8576b"
            ],
            [
             0.6666666666666666,
             "#ed7953"
            ],
            [
             0.7777777777777778,
             "#fb9f3a"
            ],
            [
             0.8888888888888888,
             "#fdca26"
            ],
            [
             1,
             "#f0f921"
            ]
           ],
           "sequentialminus": [
            [
             0,
             "#0d0887"
            ],
            [
             0.1111111111111111,
             "#46039f"
            ],
            [
             0.2222222222222222,
             "#7201a8"
            ],
            [
             0.3333333333333333,
             "#9c179e"
            ],
            [
             0.4444444444444444,
             "#bd3786"
            ],
            [
             0.5555555555555556,
             "#d8576b"
            ],
            [
             0.6666666666666666,
             "#ed7953"
            ],
            [
             0.7777777777777778,
             "#fb9f3a"
            ],
            [
             0.8888888888888888,
             "#fdca26"
            ],
            [
             1,
             "#f0f921"
            ]
           ]
          },
          "colorway": [
           "#636efa",
           "#EF553B",
           "#00cc96",
           "#ab63fa",
           "#FFA15A",
           "#19d3f3",
           "#FF6692",
           "#B6E880",
           "#FF97FF",
           "#FECB52"
          ],
          "font": {
           "color": "#2a3f5f"
          },
          "geo": {
           "bgcolor": "white",
           "lakecolor": "white",
           "landcolor": "#E5ECF6",
           "showlakes": true,
           "showland": true,
           "subunitcolor": "white"
          },
          "hoverlabel": {
           "align": "left"
          },
          "hovermode": "closest",
          "mapbox": {
           "style": "light"
          },
          "paper_bgcolor": "white",
          "plot_bgcolor": "#E5ECF6",
          "polar": {
           "angularaxis": {
            "gridcolor": "white",
            "linecolor": "white",
            "ticks": ""
           },
           "bgcolor": "#E5ECF6",
           "radialaxis": {
            "gridcolor": "white",
            "linecolor": "white",
            "ticks": ""
           }
          },
          "scene": {
           "xaxis": {
            "backgroundcolor": "#E5ECF6",
            "gridcolor": "white",
            "gridwidth": 2,
            "linecolor": "white",
            "showbackground": true,
            "ticks": "",
            "zerolinecolor": "white"
           },
           "yaxis": {
            "backgroundcolor": "#E5ECF6",
            "gridcolor": "white",
            "gridwidth": 2,
            "linecolor": "white",
            "showbackground": true,
            "ticks": "",
            "zerolinecolor": "white"
           },
           "zaxis": {
            "backgroundcolor": "#E5ECF6",
            "gridcolor": "white",
            "gridwidth": 2,
            "linecolor": "white",
            "showbackground": true,
            "ticks": "",
            "zerolinecolor": "white"
           }
          },
          "shapedefaults": {
           "line": {
            "color": "#2a3f5f"
           }
          },
          "ternary": {
           "aaxis": {
            "gridcolor": "white",
            "linecolor": "white",
            "ticks": ""
           },
           "baxis": {
            "gridcolor": "white",
            "linecolor": "white",
            "ticks": ""
           },
           "bgcolor": "#E5ECF6",
           "caxis": {
            "gridcolor": "white",
            "linecolor": "white",
            "ticks": ""
           }
          },
          "title": {
           "x": 0.05
          },
          "xaxis": {
           "automargin": true,
           "gridcolor": "white",
           "linecolor": "white",
           "ticks": "",
           "title": {
            "standoff": 15
           },
           "zerolinecolor": "white",
           "zerolinewidth": 2
          },
          "yaxis": {
           "automargin": true,
           "gridcolor": "white",
           "linecolor": "white",
           "ticks": "",
           "title": {
            "standoff": 15
           },
           "zerolinecolor": "white",
           "zerolinewidth": 2
          }
         }
        },
        "title": {
         "text": "Choropleth Map of Death Ratio by State"
        }
       }
      }
     },
     "metadata": {},
     "output_type": "display_data"
    }
   ],
   "source": [
    "# Group deaths by state\n",
    "deaths_by_state = event_vax_sympt_df.groupby('STATE')['DIED'].sum().reset_index()\n",
    "\n",
    "# Calculate death ratio by dividing deaths by total reports per state\n",
    "reports_by_state = event_vax_sympt_df['STATE'].value_counts().reset_index()\n",
    "reports_by_state.columns = ['STATE', 'TOTAL_REPORTS']\n",
    "deaths_by_state = deaths_by_state.merge(reports_by_state, on='STATE')\n",
    "deaths_by_state['DEATH_RATIO'] = deaths_by_state['DIED'] / deaths_by_state['TOTAL_REPORTS']\n",
    "\n",
    "# Sort deaths by state by death ratio in descending order\n",
    "deaths_by_state = deaths_by_state.sort_values(by='DEATH_RATIO', ascending=False)\n",
    "\n",
    "# Plotting a choropleth map for deaths by state using Plotly\n",
    "fig = px.choropleth(\n",
    "    deaths_by_state,\n",
    "    locations='STATE',\n",
    "    locationmode='USA-states',  # Set the location mode to US states\n",
    "    color='DEATH_RATIO',\n",
    "    color_continuous_scale='Reds',\n",
    "    scope='usa',\n",
    "    title='Choropleth Map of Death Ratio by State'\n",
    ")\n",
    "\n",
    "fig.update_layout(\n",
    "    geo=dict(\n",
    "        lakecolor='rgb(255, 255, 255)',\n",
    "    )\n",
    ")\n",
    "\n",
    "fig.show()\n"
   ]
  },
  {
   "cell_type": "code",
   "execution_count": 36,
   "metadata": {},
   "outputs": [
    {
     "name": "stderr",
     "output_type": "stream",
     "text": [
      "C:\\Users\\Usuario\\AppData\\Local\\Temp\\ipykernel_17720\\4077032517.py:13: FutureWarning:\n",
      "\n",
      "\n",
      "\n",
      "Passing `palette` without assigning `hue` is deprecated and will be removed in v0.14.0. Assign the `x` variable to `hue` and set `legend=False` for the same effect.\n",
      "\n",
      "\n"
     ]
    },
    {
     "data": {
      "image/png": "[encoded data removed]",
      "text/plain": [
       "<Figure size 1200x800 with 1 Axes>"
      ]
     },
     "metadata": {},
     "output_type": "display_data"
    }
   ],
   "source": [
    "# Group deaths and total reports by state\n",
    "deaths_by_state = event_vax_sympt_df.groupby('STATE')['DIED'].sum().reset_index()\n",
    "reports_by_state = event_vax_sympt_df['STATE'].value_counts().reset_index()\n",
    "reports_by_state.columns = ['STATE', 'TOTAL_REPORTS']\n",
    "\n",
    "# Merge to calculate death ratio by state\n",
    "deaths_by_state = deaths_by_state.merge(reports_by_state, on='STATE')\n",
    "deaths_by_state['DEATH_RATIO'] = deaths_by_state['DIED'] / deaths_by_state['TOTAL_REPORTS']\n",
    "\n",
    "# Plotting bar chart sorted by death ratio\n",
    "deaths_by_state = deaths_by_state.sort_values(by='DEATH_RATIO', ascending=False)\n",
    "plt.figure(figsize=(12, 8))\n",
    "sns.barplot(x='STATE', y='DEATH_RATIO', data=deaths_by_state, palette='viridis')\n",
    "plt.xlabel('State')\n",
    "plt.ylabel('Death Ratio')\n",
    "plt.title('Death Ratio by State')\n",
    "plt.xticks(rotation=90)\n",
    "plt.show()\n"
   ]
  }
 ],
 "metadata": {
  "kernelspec": {
   "display_name": "base",
   "language": "python",
   "name": "python3"
  },
  "language_info": {
   "codemirror_mode": {
    "name": "ipython",
    "version": 3
   },
   "file_extension": ".py",
   "mimetype": "text/x-python",
   "name": "python",
   "nbconvert_exporter": "python",
   "pygments_lexer": "ipython3",
   "version": "3.12.4"
  }
 },
 "nbformat": 4,
 "nbformat_minor": 2
}
