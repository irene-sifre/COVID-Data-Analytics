{
 "cells": [
  {
   "cell_type": "markdown",
   "metadata": {},
   "source": [
    "# Data_Cleaning\n"
   ]
  },
  {
   "cell_type": "code",
   "execution_count": 31,
   "metadata": {},
   "outputs": [],
   "source": [
    "#Libraries\n",
    "import pandas as pd\n",
    "import numpy as np\n",
    "import matplotlib.pyplot as plt\n",
    "%matplotlib inline  \n",
    "import nltk\n",
    "import re"
   ]
  },
  {
   "cell_type": "code",
   "execution_count": 32,
   "metadata": {},
   "outputs": [],
   "source": [
    "# Load the VAERS Data (Demographics and Event Information)\n",
    "vaers_data = pd.read_csv('../Data/VAERSDATA.csv', low_memory=False)"
   ]
  },
  {
   "cell_type": "code",
   "execution_count": 33,
   "metadata": {},
   "outputs": [
    {
     "data": {
      "text/html": [
       "<div>\n",
       "<style scoped>\n",
       "    .dataframe tbody tr th:only-of-type {\n",
       "        vertical-align: middle;\n",
       "    }\n",
       "\n",
       "    .dataframe tbody tr th {\n",
       "        vertical-align: top;\n",
       "    }\n",
       "\n",
       "    .dataframe thead th {\n",
       "        text-align: right;\n",
       "    }\n",
       "</style>\n",
       "<table border=\"1\" class=\"dataframe\">\n",
       "  <thead>\n",
       "    <tr style=\"text-align: right;\">\n",
       "      <th></th>\n",
       "      <th>VAERS_ID</th>\n",
       "      <th>RECVDATE</th>\n",
       "      <th>STATE</th>\n",
       "      <th>AGE_YRS</th>\n",
       "      <th>CAGE_YR</th>\n",
       "      <th>CAGE_MO</th>\n",
       "      <th>SEX</th>\n",
       "      <th>RPT_DATE</th>\n",
       "      <th>SYMPTOM_TEXT</th>\n",
       "      <th>DIED</th>\n",
       "      <th>...</th>\n",
       "      <th>CUR_ILL</th>\n",
       "      <th>HISTORY</th>\n",
       "      <th>PRIOR_VAX</th>\n",
       "      <th>SPLTTYPE</th>\n",
       "      <th>FORM_VERS</th>\n",
       "      <th>TODAYS_DATE</th>\n",
       "      <th>BIRTH_DEFECT</th>\n",
       "      <th>OFC_VISIT</th>\n",
       "      <th>ER_ED_VISIT</th>\n",
       "      <th>ALLERGIES</th>\n",
       "    </tr>\n",
       "  </thead>\n",
       "  <tbody>\n",
       "    <tr>\n",
       "      <th>0</th>\n",
       "      <td>902418</td>\n",
       "      <td>12/15/2020</td>\n",
       "      <td>NJ</td>\n",
       "      <td>56.0</td>\n",
       "      <td>56.0</td>\n",
       "      <td>NaN</td>\n",
       "      <td>F</td>\n",
       "      <td>NaN</td>\n",
       "      <td>Patient experienced mild numbness traveling fr...</td>\n",
       "      <td>NaN</td>\n",
       "      <td>...</td>\n",
       "      <td>none</td>\n",
       "      <td>none</td>\n",
       "      <td>NaN</td>\n",
       "      <td>NaN</td>\n",
       "      <td>2</td>\n",
       "      <td>12/15/2020</td>\n",
       "      <td>NaN</td>\n",
       "      <td>NaN</td>\n",
       "      <td>NaN</td>\n",
       "      <td>none</td>\n",
       "    </tr>\n",
       "    <tr>\n",
       "      <th>1</th>\n",
       "      <td>902440</td>\n",
       "      <td>12/15/2020</td>\n",
       "      <td>AZ</td>\n",
       "      <td>35.0</td>\n",
       "      <td>35.0</td>\n",
       "      <td>NaN</td>\n",
       "      <td>F</td>\n",
       "      <td>NaN</td>\n",
       "      <td>C/O Headache</td>\n",
       "      <td>NaN</td>\n",
       "      <td>...</td>\n",
       "      <td>NaN</td>\n",
       "      <td>NaN</td>\n",
       "      <td>NaN</td>\n",
       "      <td>NaN</td>\n",
       "      <td>2</td>\n",
       "      <td>12/15/2020</td>\n",
       "      <td>NaN</td>\n",
       "      <td>NaN</td>\n",
       "      <td>NaN</td>\n",
       "      <td>NaN</td>\n",
       "    </tr>\n",
       "    <tr>\n",
       "      <th>2</th>\n",
       "      <td>902446</td>\n",
       "      <td>12/15/2020</td>\n",
       "      <td>WV</td>\n",
       "      <td>55.0</td>\n",
       "      <td>55.0</td>\n",
       "      <td>NaN</td>\n",
       "      <td>F</td>\n",
       "      <td>NaN</td>\n",
       "      <td>felt warm, hot and face and ears were red and ...</td>\n",
       "      <td>NaN</td>\n",
       "      <td>...</td>\n",
       "      <td>none</td>\n",
       "      <td>Hypertension, sleep apnea, hypothyroidism</td>\n",
       "      <td>NaN</td>\n",
       "      <td>NaN</td>\n",
       "      <td>2</td>\n",
       "      <td>12/15/2020</td>\n",
       "      <td>NaN</td>\n",
       "      <td>NaN</td>\n",
       "      <td>NaN</td>\n",
       "      <td>Contrast Dye IV contrast, shellfish, strawberry</td>\n",
       "    </tr>\n",
       "    <tr>\n",
       "      <th>3</th>\n",
       "      <td>902464</td>\n",
       "      <td>12/15/2020</td>\n",
       "      <td>LA</td>\n",
       "      <td>42.0</td>\n",
       "      <td>42.0</td>\n",
       "      <td>NaN</td>\n",
       "      <td>M</td>\n",
       "      <td>NaN</td>\n",
       "      <td>within 15 minutes progressive light-headedness...</td>\n",
       "      <td>NaN</td>\n",
       "      <td>...</td>\n",
       "      <td>none</td>\n",
       "      <td>none</td>\n",
       "      <td>NaN</td>\n",
       "      <td>NaN</td>\n",
       "      <td>2</td>\n",
       "      <td>12/15/2020</td>\n",
       "      <td>NaN</td>\n",
       "      <td>NaN</td>\n",
       "      <td>Y</td>\n",
       "      <td>none</td>\n",
       "    </tr>\n",
       "    <tr>\n",
       "      <th>4</th>\n",
       "      <td>902465</td>\n",
       "      <td>12/15/2020</td>\n",
       "      <td>AR</td>\n",
       "      <td>60.0</td>\n",
       "      <td>60.0</td>\n",
       "      <td>NaN</td>\n",
       "      <td>F</td>\n",
       "      <td>NaN</td>\n",
       "      <td>Pt felt wave come over body @ 1218 starting in...</td>\n",
       "      <td>NaN</td>\n",
       "      <td>...</td>\n",
       "      <td>Bronchitis, finished prednisone on 12-13-20</td>\n",
       "      <td>hypertension, fibromyalgia</td>\n",
       "      <td>NaN</td>\n",
       "      <td>NaN</td>\n",
       "      <td>2</td>\n",
       "      <td>12/15/2020</td>\n",
       "      <td>NaN</td>\n",
       "      <td>NaN</td>\n",
       "      <td>NaN</td>\n",
       "      <td>Biaxin</td>\n",
       "    </tr>\n",
       "  </tbody>\n",
       "</table>\n",
       "<p>5 rows × 35 columns</p>\n",
       "</div>"
      ],
      "text/plain": [
       "   VAERS_ID    RECVDATE STATE  AGE_YRS  CAGE_YR  CAGE_MO SEX RPT_DATE  \\\n",
       "0    902418  12/15/2020    NJ     56.0     56.0      NaN   F      NaN   \n",
       "1    902440  12/15/2020    AZ     35.0     35.0      NaN   F      NaN   \n",
       "2    902446  12/15/2020    WV     55.0     55.0      NaN   F      NaN   \n",
       "3    902464  12/15/2020    LA     42.0     42.0      NaN   M      NaN   \n",
       "4    902465  12/15/2020    AR     60.0     60.0      NaN   F      NaN   \n",
       "\n",
       "                                        SYMPTOM_TEXT DIED  ...  \\\n",
       "0  Patient experienced mild numbness traveling fr...  NaN  ...   \n",
       "1                                       C/O Headache  NaN  ...   \n",
       "2  felt warm, hot and face and ears were red and ...  NaN  ...   \n",
       "3  within 15 minutes progressive light-headedness...  NaN  ...   \n",
       "4  Pt felt wave come over body @ 1218 starting in...  NaN  ...   \n",
       "\n",
       "                                       CUR_ILL  \\\n",
       "0                                         none   \n",
       "1                                          NaN   \n",
       "2                                         none   \n",
       "3                                         none   \n",
       "4  Bronchitis, finished prednisone on 12-13-20   \n",
       "\n",
       "                                     HISTORY PRIOR_VAX SPLTTYPE  FORM_VERS  \\\n",
       "0                                       none       NaN      NaN          2   \n",
       "1                                        NaN       NaN      NaN          2   \n",
       "2  Hypertension, sleep apnea, hypothyroidism       NaN      NaN          2   \n",
       "3                                       none       NaN      NaN          2   \n",
       "4                 hypertension, fibromyalgia       NaN      NaN          2   \n",
       "\n",
       "  TODAYS_DATE BIRTH_DEFECT OFC_VISIT ER_ED_VISIT  \\\n",
       "0  12/15/2020          NaN       NaN         NaN   \n",
       "1  12/15/2020          NaN       NaN         NaN   \n",
       "2  12/15/2020          NaN       NaN         NaN   \n",
       "3  12/15/2020          NaN       NaN           Y   \n",
       "4  12/15/2020          NaN       NaN         NaN   \n",
       "\n",
       "                                         ALLERGIES  \n",
       "0                                             none  \n",
       "1                                              NaN  \n",
       "2  Contrast Dye IV contrast, shellfish, strawberry  \n",
       "3                                             none  \n",
       "4                                           Biaxin  \n",
       "\n",
       "[5 rows x 35 columns]"
      ]
     },
     "execution_count": 33,
     "metadata": {},
     "output_type": "execute_result"
    }
   ],
   "source": [
    "vaers_data.head()"
   ]
  },
  {
   "cell_type": "code",
   "execution_count": 34,
   "metadata": {},
   "outputs": [
    {
     "name": "stdout",
     "output_type": "stream",
     "text": [
      "<class 'pandas.core.frame.DataFrame'>\n",
      "RangeIndex: 1012894 entries, 0 to 1012893\n",
      "Data columns (total 35 columns):\n",
      " #   Column        Non-Null Count    Dtype  \n",
      "---  ------        --------------    -----  \n",
      " 0   VAERS_ID      1012894 non-null  int64  \n",
      " 1   RECVDATE      1012894 non-null  object \n",
      " 2   STATE         842425 non-null   object \n",
      " 3   AGE_YRS       909608 non-null   float64\n",
      " 4   CAGE_YR       809314 non-null   float64\n",
      " 5   CAGE_MO       5374 non-null     float64\n",
      " 6   SEX           1012894 non-null  object \n",
      " 7   RPT_DATE      1130 non-null     object \n",
      " 8   SYMPTOM_TEXT  1011423 non-null  object \n",
      " 9   DIED          18951 non-null    object \n",
      " 10  DATEDIED      16828 non-null    object \n",
      " 11  L_THREAT      15197 non-null    object \n",
      " 12  ER_VISIT      144 non-null      object \n",
      " 13  HOSPITAL      90081 non-null    object \n",
      " 14  HOSPDAYS      53040 non-null    float64\n",
      " 15  X_STAY        505 non-null      object \n",
      " 16  DISABLE       18274 non-null    object \n",
      " 17  RECOVD        882224 non-null   object \n",
      " 18  VAX_DATE      938970 non-null   object \n",
      " 19  ONSET_DATE    915481 non-null   object \n",
      " 20  NUMDAYS       876293 non-null   float64\n",
      " 21  LAB_DATA      323017 non-null   object \n",
      " 22  V_ADMINBY     1012894 non-null  object \n",
      " 23  V_FUNDBY      1204 non-null     object \n",
      " 24  OTHER_MEDS    467633 non-null   object \n",
      " 25  CUR_ILL       260920 non-null   object \n",
      " 26  HISTORY       482751 non-null   object \n",
      " 27  PRIOR_VAX     47095 non-null    object \n",
      " 28  SPLTTYPE      314267 non-null   object \n",
      " 29  FORM_VERS     1012894 non-null  int64  \n",
      " 30  TODAYS_DATE   1001980 non-null  object \n",
      " 31  BIRTH_DEFECT  613 non-null      object \n",
      " 32  OFC_VISIT     199491 non-null   object \n",
      " 33  ER_ED_VISIT   118932 non-null   object \n",
      " 34  ALLERGIES     372286 non-null   object \n",
      "dtypes: float64(5), int64(2), object(28)\n",
      "memory usage: 270.5+ MB\n"
     ]
    }
   ],
   "source": [
    "vaers_data.info()"
   ]
  },
  {
   "cell_type": "code",
   "execution_count": 35,
   "metadata": {},
   "outputs": [
    {
     "data": {
      "text/plain": [
       "Index(['VAERS_ID', 'RECVDATE', 'STATE', 'AGE_YRS', 'CAGE_YR', 'CAGE_MO', 'SEX',\n",
       "       'RPT_DATE', 'SYMPTOM_TEXT', 'DIED', 'DATEDIED', 'L_THREAT', 'ER_VISIT',\n",
       "       'HOSPITAL', 'HOSPDAYS', 'X_STAY', 'DISABLE', 'RECOVD', 'VAX_DATE',\n",
       "       'ONSET_DATE', 'NUMDAYS', 'LAB_DATA', 'V_ADMINBY', 'V_FUNDBY',\n",
       "       'OTHER_MEDS', 'CUR_ILL', 'HISTORY', 'PRIOR_VAX', 'SPLTTYPE',\n",
       "       'FORM_VERS', 'TODAYS_DATE', 'BIRTH_DEFECT', 'OFC_VISIT', 'ER_ED_VISIT',\n",
       "       'ALLERGIES'],\n",
       "      dtype='object')"
      ]
     },
     "execution_count": 35,
     "metadata": {},
     "output_type": "execute_result"
    }
   ],
   "source": [
    "vaers_data.columns"
   ]
  },
  {
   "cell_type": "code",
   "execution_count": 37,
   "metadata": {},
   "outputs": [
    {
     "name": "stdout",
     "output_type": "stream",
     "text": [
      "Shape of VAERS DataFrame after dropping irrelevant columns: (1012894, 12)\n"
     ]
    }
   ],
   "source": [
    "# List of columns to drop based on the analysis\n",
    "columns_to_drop = ['RECVDATE','CAGE_YR', 'CAGE_MO','RPT_DATE','DATEDIED','ER_VISIT','HOSPDAYS', 'X_STAY','ONSET_DATE', 'NUMDAYS', 'LAB_DATA', 'V_ADMINBY', 'V_FUNDBY',\n",
    "       'OTHER_MEDS', 'CUR_ILL', 'HISTORY', 'PRIOR_VAX', 'SPLTTYPE','OFC_VISIT', 'ER_ED_VISIT', 'ALLERGIES',\n",
    "       'FORM_VERS', 'TODAYS_DATE'\n",
    "    \n",
    "]\n",
    "\n",
    "# Drop the unnecessary columns from the DataFrame\n",
    "data_df = vaers_data.drop(columns=columns_to_drop)\n",
    "\n",
    "# Display the shape of the cleaned DataFrame to verify the result\n",
    "print(\"Shape of VAERS DataFrame after dropping irrelevant columns:\", data_df.shape)"
   ]
  },
  {
   "cell_type": "code",
   "execution_count": null,
   "metadata": {},
   "outputs": [],
   "source": [
    "data_df.head()"
   ]
  },
  {
   "cell_type": "code",
   "execution_count": 38,
   "metadata": {},
   "outputs": [
    {
     "name": "stdout",
     "output_type": "stream",
     "text": [
      "Count of null values in each column:\n",
      "VAERS_ID              0\n",
      "STATE            170469\n",
      "AGE_YRS          103286\n",
      "SEX                   0\n",
      "SYMPTOM_TEXT       1471\n",
      "DIED             993943\n",
      "L_THREAT         997697\n",
      "HOSPITAL         922813\n",
      "DISABLE          994620\n",
      "RECOVD           130670\n",
      "VAX_DATE          73924\n",
      "BIRTH_DEFECT    1012281\n",
      "dtype: int64\n"
     ]
    }
   ],
   "source": [
    "# Check for null values in the entire DataFrame\n",
    "null_values = data_df.isnull().sum()\n",
    "\n",
    "# Display the count of null values for each column\n",
    "print(\"Count of null values in each column:\")\n",
    "print(null_values)\n"
   ]
  },
  {
   "cell_type": "code",
   "execution_count": 39,
   "metadata": {},
   "outputs": [
    {
     "name": "stdout",
     "output_type": "stream",
     "text": [
      "Shape of VAERS DataFrame after dropping rows with nulls in critical columns: (787806, 12)\n",
      "\n",
      "Remaining missing values in critical columns:\n",
      "VAERS_ID    0\n",
      "STATE       0\n",
      "AGE_YRS     0\n",
      "SEX         0\n",
      "dtype: int64\n"
     ]
    }
   ],
   "source": [
    "# Drop rows with missing values in the critical columns: VAERS_ID, STATE, AGE_YRS, and SEX\n",
    "data_df = data_df.dropna(subset=['VAERS_ID', 'STATE', 'AGE_YRS', 'SEX'])\n",
    "\n",
    "# Display the shape of the cleaned DataFrame to verify the result\n",
    "print(\"Shape of VAERS DataFrame after dropping rows with nulls in critical columns:\", data_df.shape)\n",
    "\n",
    "# Check if there are any remaining null values in those critical columns\n",
    "print(\"\\nRemaining missing values in critical columns:\")\n",
    "print(data_df[['VAERS_ID', 'STATE', 'AGE_YRS', 'SEX']].isnull().sum())"
   ]
  },
  {
   "cell_type": "code",
   "execution_count": 40,
   "metadata": {},
   "outputs": [],
   "source": [
    "# List of valid U.S. state abbreviations (50 states only)\n",
    "valid_states = [\n",
    "    'AL', 'AK', 'AZ', 'AR', 'CA', 'CO', 'CT', 'DE', 'FL', 'GA', 'HI', 'ID', 'IL', 'IN', 'IA', 'KS',\n",
    "    'KY', 'LA', 'ME', 'MD', 'MA', 'MI', 'MN', 'MS', 'MO', 'MT', 'NE', 'NV', 'NH', 'NJ', 'NM', 'NY',\n",
    "    'NC', 'ND', 'OH', 'OK', 'OR', 'PA', 'RI', 'SC', 'SD', 'TN', 'TX', 'UT', 'VT', 'VA', 'WA', 'WV', \n",
    "    'WI', 'WY'\n",
    "]\n",
    "\n",
    "# Filter rows where the STATE column contains valid state abbreviations\n",
    "data_df = data_df[data_df['STATE'].isin(valid_states)]"
   ]
  },
  {
   "cell_type": "code",
   "execution_count": 41,
   "metadata": {},
   "outputs": [
    {
     "name": "stdout",
     "output_type": "stream",
     "text": [
      "Shape of VAERS DataFrame after removing 'Unknown' sex entries: (772636, 12)\n"
     ]
    }
   ],
   "source": [
    "# Remove rows where SEX is 'U' (Unknown)\n",
    "data_df = data_df[data_df['SEX'] != 'U']\n",
    "\n",
    "# Display the shape of the DataFrame after removing 'Unknown' sex entries\n",
    "print(\"Shape of VAERS DataFrame after removing 'Unknown' sex entries:\", data_df.shape)"
   ]
  },
  {
   "cell_type": "code",
   "execution_count": 42,
   "metadata": {},
   "outputs": [
    {
     "name": "stdout",
     "output_type": "stream",
     "text": [
      "SEX column value counts:\n",
      "SEX\n",
      "F    522793\n",
      "M    249843\n",
      "Name: count, dtype: int64\n"
     ]
    }
   ],
   "source": [
    "# Check the value counts for the SEX column to see how many \"unknown\" values exist\n",
    "sex_value_counts = data_df['SEX'].value_counts(dropna=False)\n",
    "print(\"SEX column value counts:\")\n",
    "print(sex_value_counts)\n"
   ]
  },
  {
   "cell_type": "code",
   "execution_count": 43,
   "metadata": {},
   "outputs": [
    {
     "name": "stdout",
     "output_type": "stream",
     "text": [
      "Value counts for the DIED column after transformation:\n",
      "DIED\n",
      "0    760514\n",
      "1     12122\n",
      "Name: count, dtype: int64\n"
     ]
    }
   ],
   "source": [
    "# Convert the DIED column to binary: 1 for 'Y', 0 for empty or null\n",
    "data_df['DIED'] = data_df['DIED'].apply(lambda x: 1 if x == 'Y' else 0)\n",
    "\n",
    "# Check the result of the transformation\n",
    "print(\"Value counts for the DIED column after transformation:\")\n",
    "print(data_df['DIED'].value_counts())\n"
   ]
  },
  {
   "cell_type": "code",
   "execution_count": 44,
   "metadata": {},
   "outputs": [],
   "source": [
    "# Convert the HOSPITAL column to binary: 1 for 'Y', 0 for empty or null\n",
    "data_df['HOSPITAL'] = data_df['HOSPITAL'].apply(lambda x: 1 if x == 'Y' else 0)\n",
    "\n",
    "# Convert the DISABLE column to binary: 1 for 'Y', 0 for empty or null\n",
    "data_df['DISABLE'] = data_df['DISABLE'].apply(lambda x: 1 if x == 'Y' else 0)\n",
    "\n",
    "# Convert the BIRTH_DEFECT column to binary: 1 for 'Y', 0 for empty or null\n",
    "data_df['BIRTH_DEFECT'] = data_df['BIRTH_DEFECT'].apply(lambda x: 1 if x == 'Y' else 0)"
   ]
  },
  {
   "cell_type": "code",
   "execution_count": 45,
   "metadata": {},
   "outputs": [
    {
     "name": "stdout",
     "output_type": "stream",
     "text": [
      "<class 'pandas.core.frame.DataFrame'>\n",
      "Index: 772636 entries, 0 to 1012886\n",
      "Data columns (total 12 columns):\n",
      " #   Column        Non-Null Count   Dtype  \n",
      "---  ------        --------------   -----  \n",
      " 0   VAERS_ID      772636 non-null  int64  \n",
      " 1   STATE         772636 non-null  object \n",
      " 2   AGE_YRS       772636 non-null  float64\n",
      " 3   SEX           772636 non-null  object \n",
      " 4   SYMPTOM_TEXT  771639 non-null  object \n",
      " 5   DIED          772636 non-null  int64  \n",
      " 6   L_THREAT      13776 non-null   object \n",
      " 7   HOSPITAL      772636 non-null  int64  \n",
      " 8   DISABLE       772636 non-null  int64  \n",
      " 9   RECOVD        695682 non-null  object \n",
      " 10  VAX_DATE      760654 non-null  object \n",
      " 11  BIRTH_DEFECT  772636 non-null  int64  \n",
      "dtypes: float64(1), int64(5), object(6)\n",
      "memory usage: 76.6+ MB\n"
     ]
    }
   ],
   "source": [
    "data_df.info()"
   ]
  },
  {
   "cell_type": "code",
   "execution_count": 46,
   "metadata": {},
   "outputs": [],
   "source": [
    "data_df = data_df.dropna(subset=['STATE'])\n"
   ]
  },
  {
   "cell_type": "code",
   "execution_count": 47,
   "metadata": {},
   "outputs": [
    {
     "name": "stdout",
     "output_type": "stream",
     "text": [
      "VAERS_ID    0\n",
      "STATE       0\n",
      "AGE_YRS     0\n",
      "SEX         0\n",
      "dtype: int64\n"
     ]
    }
   ],
   "source": [
    "# Example: Drop rows with missing data in critical columns in VAERS dataset\n",
    "critical_columns_vaers = ['AGE_YRS', 'SEX', 'STATE', 'SYMPTOM_TEXT', 'DIED', 'VAX_DATE']\n",
    "data_df = data_df.dropna(subset=critical_columns_vaers)\n",
    "\n",
    "# Similarly, do this for the other datasets, like symptoms and vaccination data\n",
    "\n",
    "print(data_df[['VAERS_ID', 'STATE', 'AGE_YRS', 'SEX']].isnull().sum())\n"
   ]
  },
  {
   "cell_type": "code",
   "execution_count": 48,
   "metadata": {},
   "outputs": [
    {
     "data": {
      "text/plain": [
       "(759664, 12)"
      ]
     },
     "execution_count": 48,
     "metadata": {},
     "output_type": "execute_result"
    }
   ],
   "source": [
    "data_df.shape"
   ]
  },
  {
   "cell_type": "code",
   "execution_count": 49,
   "metadata": {},
   "outputs": [
    {
     "name": "stdout",
     "output_type": "stream",
     "text": [
      "0\n"
     ]
    }
   ],
   "source": [
    "# Check for missing values in SYMPTOM_TEXT\n",
    "print(data_df['SYMPTOM_TEXT'].isnull().sum())\n"
   ]
  },
  {
   "cell_type": "code",
   "execution_count": null,
   "metadata": {},
   "outputs": [],
   "source": [
    "data_df.head()"
   ]
  },
  {
   "cell_type": "code",
   "execution_count": 50,
   "metadata": {},
   "outputs": [
    {
     "name": "stdout",
     "output_type": "stream",
     "text": [
      "  SEX  SEX_BINARY\n",
      "0   F           0\n",
      "1   F           0\n",
      "2   F           0\n",
      "3   M           1\n",
      "4   F           0\n"
     ]
    }
   ],
   "source": [
    "# Convert SEX column to binary: 1 for Male ('M'), 0 for Female ('F')\n",
    "data_df['SEX_BINARY'] = data_df['SEX'].apply(lambda x: 1 if x == 'M' else 0)\n",
    "\n",
    "# Verify the result\n",
    "print(data_df[['SEX', 'SEX_BINARY']].head())"
   ]
  },
  {
   "cell_type": "code",
   "execution_count": 51,
   "metadata": {},
   "outputs": [
    {
     "name": "stdout",
     "output_type": "stream",
     "text": [
      "['F' 'M']\n",
      "  SEX  SEX_BINARY\n",
      "0   F           0\n",
      "1   F           0\n",
      "2   F           0\n",
      "3   M           1\n",
      "4   F           0\n"
     ]
    }
   ],
   "source": [
    "# Check unique values in SEX to confirm the actual values\n",
    "print(data_df['SEX'].unique())\n",
    "\n",
    "# Convert SEX to binary: 1 for Male ('M'), 0 for Female ('F')\n",
    "# Handle unknown or missing values by assigning them as NaN or 0\n",
    "data_df['SEX_BINARY'] = data_df['SEX'].apply(lambda x: 1 if x == 'M' else (0 if x == 'F' else None))\n",
    "\n",
    "# Verify the result\n",
    "print(data_df[['SEX', 'SEX_BINARY']].head())"
   ]
  },
  {
   "cell_type": "code",
   "execution_count": 52,
   "metadata": {},
   "outputs": [
    {
     "name": "stdout",
     "output_type": "stream",
     "text": [
      "SEX\n",
      "F    514900\n",
      "M    244764\n",
      "Name: count, dtype: int64\n",
      "  SEX  SEX_BINARY\n",
      "0   F           0\n",
      "1   F           0\n",
      "2   F           0\n",
      "3   M           1\n",
      "4   F           0\n",
      "SEX_BINARY\n",
      "0    514900\n",
      "1    244764\n",
      "Name: count, dtype: int64\n"
     ]
    }
   ],
   "source": [
    "# Confirm the distribution of 'SEX' values (should only be 'M' and 'F')\n",
    "print(data_df['SEX'].value_counts())\n",
    "\n",
    "# Convert SEX to binary: 1 for Male ('M'), 0 for Female ('F')\n",
    "data_df['SEX_BINARY'] = data_df['SEX'].apply(lambda x: 1 if x == 'M' else 0)\n",
    "\n",
    "# Verify the result\n",
    "print(data_df[['SEX', 'SEX_BINARY']].head())\n",
    "\n",
    "# Check value counts for the new SEX_BINARY column to confirm the transformation\n",
    "print(data_df['SEX_BINARY'].value_counts())\n"
   ]
  },
  {
   "cell_type": "code",
   "execution_count": null,
   "metadata": {},
   "outputs": [],
   "source": [
    "# Replace the original 'SEX' column with the binary version\n",
    "data_df['SEX'] = data_df['SEX_BINARY']\n",
    "\n",
    "# Drop the temporary 'SEX_BINARY' column since it's now stored in 'SEX'\n",
    "data_df = data_df.drop(columns=['SEX_BINARY'])\n",
    "\n",
    "# Verify the result\n",
    "print(data_df.head())\n"
   ]
  },
  {
   "cell_type": "code",
   "execution_count": null,
   "metadata": {},
   "outputs": [],
   "source": [
    "# Filter age to remove outliers (between 0.5 years and 100 years)\n",
    "data_df = data_df[(data_df['AGE_YRS'] >= 0.5) & (data_df['AGE_YRS'] <= 100)]\n",
    "\n",
    "# Verify the new age range\n",
    "print(\"Min and Max Age after filtering:\", data_df['AGE_YRS'].min(), \"-\", data_df['AGE_YRS'].max())"
   ]
  },
  {
   "cell_type": "code",
   "execution_count": 53,
   "metadata": {},
   "outputs": [
    {
     "name": "stdout",
     "output_type": "stream",
     "text": [
      "Value counts for RECOVD after binary transformation:\n",
      "RECOVD\n",
      "0    500532\n",
      "1    259132\n",
      "Name: count, dtype: int64\n",
      "\n",
      "Value counts for L_THREAT after binary transformation:\n",
      "L_THREAT\n",
      "0    745990\n",
      "1     13674\n",
      "Name: count, dtype: int64\n"
     ]
    }
   ],
   "source": [
    "# Convert RECOVD to binary: 1 for 'Y', 0 for anything else (including NaN)\n",
    "data_df['RECOVD'] = data_df['RECOVD'].apply(lambda x: 1 if x == 'Y' else 0)\n",
    "\n",
    "# Convert L_THREAT to binary: 1 for 'Y', 0 for anything else (including NaN)\n",
    "data_df['L_THREAT'] = data_df['L_THREAT'].apply(lambda x: 1 if x == 'Y' else 0)\n",
    "\n",
    "# Verify the result\n",
    "print(\"Value counts for RECOVD after binary transformation:\")\n",
    "print(data_df['RECOVD'].value_counts())\n",
    "\n",
    "print(\"\\nValue counts for L_THREAT after binary transformation:\")\n",
    "print(data_df['L_THREAT'].value_counts())"
   ]
  },
  {
   "cell_type": "code",
   "execution_count": null,
   "metadata": {},
   "outputs": [],
   "source": [
    "data_df.info()"
   ]
  },
  {
   "cell_type": "code",
   "execution_count": null,
   "metadata": {},
   "outputs": [],
   "source": [
    "# Check for missing values in each column\n",
    "print(data_df.isnull().sum())\n"
   ]
  },
  {
   "cell_type": "code",
   "execution_count": 54,
   "metadata": {},
   "outputs": [
    {
     "name": "stdout",
     "output_type": "stream",
     "text": [
      "VAERS_ID        0\n",
      "STATE           0\n",
      "AGE_YRS         0\n",
      "SEX             0\n",
      "SYMPTOM_TEXT    0\n",
      "DIED            0\n",
      "L_THREAT        0\n",
      "HOSPITAL        0\n",
      "DISABLE         0\n",
      "RECOVD          0\n",
      "VAX_DATE        0\n",
      "BIRTH_DEFECT    0\n",
      "SEX_BINARY      0\n",
      "dtype: int64\n"
     ]
    }
   ],
   "source": [
    "# Drop rows where SYMPTOM_TEXT is missing\n",
    "data_df = data_df.dropna(subset=['SYMPTOM_TEXT'])\n",
    "\n",
    "# Verify the result\n",
    "print(data_df.isnull().sum())"
   ]
  },
  {
   "cell_type": "code",
   "execution_count": 55,
   "metadata": {},
   "outputs": [
    {
     "name": "stdout",
     "output_type": "stream",
     "text": [
      "<class 'pandas.core.frame.DataFrame'>\n",
      "Index: 759664 entries, 0 to 1012886\n",
      "Data columns (total 13 columns):\n",
      " #   Column        Non-Null Count   Dtype  \n",
      "---  ------        --------------   -----  \n",
      " 0   VAERS_ID      759664 non-null  int64  \n",
      " 1   STATE         759664 non-null  object \n",
      " 2   AGE_YRS       759664 non-null  float64\n",
      " 3   SEX           759664 non-null  object \n",
      " 4   SYMPTOM_TEXT  759664 non-null  object \n",
      " 5   DIED          759664 non-null  int64  \n",
      " 6   L_THREAT      759664 non-null  int64  \n",
      " 7   HOSPITAL      759664 non-null  int64  \n",
      " 8   DISABLE       759664 non-null  int64  \n",
      " 9   RECOVD        759664 non-null  int64  \n",
      " 10  VAX_DATE      759664 non-null  object \n",
      " 11  BIRTH_DEFECT  759664 non-null  int64  \n",
      " 12  SEX_BINARY    759664 non-null  int64  \n",
      "dtypes: float64(1), int64(8), object(4)\n",
      "memory usage: 81.1+ MB\n"
     ]
    }
   ],
   "source": [
    "data_df.info()"
   ]
  },
  {
   "cell_type": "code",
   "execution_count": 56,
   "metadata": {},
   "outputs": [
    {
     "data": {
      "text/html": [
       "<div>\n",
       "<style scoped>\n",
       "    .dataframe tbody tr th:only-of-type {\n",
       "        vertical-align: middle;\n",
       "    }\n",
       "\n",
       "    .dataframe tbody tr th {\n",
       "        vertical-align: top;\n",
       "    }\n",
       "\n",
       "    .dataframe thead th {\n",
       "        text-align: right;\n",
       "    }\n",
       "</style>\n",
       "<table border=\"1\" class=\"dataframe\">\n",
       "  <thead>\n",
       "    <tr style=\"text-align: right;\">\n",
       "      <th></th>\n",
       "      <th>VAERS_ID</th>\n",
       "      <th>STATE</th>\n",
       "      <th>AGE_YRS</th>\n",
       "      <th>SEX</th>\n",
       "      <th>SYMPTOM_TEXT</th>\n",
       "      <th>DIED</th>\n",
       "      <th>L_THREAT</th>\n",
       "      <th>HOSPITAL</th>\n",
       "      <th>DISABLE</th>\n",
       "      <th>RECOVD</th>\n",
       "      <th>VAX_DATE</th>\n",
       "      <th>BIRTH_DEFECT</th>\n",
       "      <th>SEX_BINARY</th>\n",
       "    </tr>\n",
       "  </thead>\n",
       "  <tbody>\n",
       "    <tr>\n",
       "      <th>0</th>\n",
       "      <td>902418</td>\n",
       "      <td>NJ</td>\n",
       "      <td>56.0</td>\n",
       "      <td>F</td>\n",
       "      <td>Patient experienced mild numbness traveling fr...</td>\n",
       "      <td>0</td>\n",
       "      <td>0</td>\n",
       "      <td>0</td>\n",
       "      <td>0</td>\n",
       "      <td>1</td>\n",
       "      <td>12/15/2020</td>\n",
       "      <td>0</td>\n",
       "      <td>0</td>\n",
       "    </tr>\n",
       "    <tr>\n",
       "      <th>1</th>\n",
       "      <td>902440</td>\n",
       "      <td>AZ</td>\n",
       "      <td>35.0</td>\n",
       "      <td>F</td>\n",
       "      <td>C/O Headache</td>\n",
       "      <td>0</td>\n",
       "      <td>0</td>\n",
       "      <td>0</td>\n",
       "      <td>0</td>\n",
       "      <td>1</td>\n",
       "      <td>12/15/2020</td>\n",
       "      <td>0</td>\n",
       "      <td>0</td>\n",
       "    </tr>\n",
       "    <tr>\n",
       "      <th>2</th>\n",
       "      <td>902446</td>\n",
       "      <td>WV</td>\n",
       "      <td>55.0</td>\n",
       "      <td>F</td>\n",
       "      <td>felt warm, hot and face and ears were red and ...</td>\n",
       "      <td>0</td>\n",
       "      <td>0</td>\n",
       "      <td>0</td>\n",
       "      <td>0</td>\n",
       "      <td>1</td>\n",
       "      <td>12/15/2020</td>\n",
       "      <td>0</td>\n",
       "      <td>0</td>\n",
       "    </tr>\n",
       "    <tr>\n",
       "      <th>3</th>\n",
       "      <td>902464</td>\n",
       "      <td>LA</td>\n",
       "      <td>42.0</td>\n",
       "      <td>M</td>\n",
       "      <td>within 15 minutes progressive light-headedness...</td>\n",
       "      <td>0</td>\n",
       "      <td>0</td>\n",
       "      <td>0</td>\n",
       "      <td>0</td>\n",
       "      <td>1</td>\n",
       "      <td>12/15/2020</td>\n",
       "      <td>0</td>\n",
       "      <td>1</td>\n",
       "    </tr>\n",
       "    <tr>\n",
       "      <th>4</th>\n",
       "      <td>902465</td>\n",
       "      <td>AR</td>\n",
       "      <td>60.0</td>\n",
       "      <td>F</td>\n",
       "      <td>Pt felt wave come over body @ 1218 starting in...</td>\n",
       "      <td>0</td>\n",
       "      <td>0</td>\n",
       "      <td>0</td>\n",
       "      <td>0</td>\n",
       "      <td>0</td>\n",
       "      <td>12/15/2020</td>\n",
       "      <td>0</td>\n",
       "      <td>0</td>\n",
       "    </tr>\n",
       "  </tbody>\n",
       "</table>\n",
       "</div>"
      ],
      "text/plain": [
       "   VAERS_ID STATE  AGE_YRS SEX  \\\n",
       "0    902418    NJ     56.0   F   \n",
       "1    902440    AZ     35.0   F   \n",
       "2    902446    WV     55.0   F   \n",
       "3    902464    LA     42.0   M   \n",
       "4    902465    AR     60.0   F   \n",
       "\n",
       "                                        SYMPTOM_TEXT  DIED  L_THREAT  \\\n",
       "0  Patient experienced mild numbness traveling fr...     0         0   \n",
       "1                                       C/O Headache     0         0   \n",
       "2  felt warm, hot and face and ears were red and ...     0         0   \n",
       "3  within 15 minutes progressive light-headedness...     0         0   \n",
       "4  Pt felt wave come over body @ 1218 starting in...     0         0   \n",
       "\n",
       "   HOSPITAL  DISABLE  RECOVD    VAX_DATE  BIRTH_DEFECT  SEX_BINARY  \n",
       "0         0        0       1  12/15/2020             0           0  \n",
       "1         0        0       1  12/15/2020             0           0  \n",
       "2         0        0       1  12/15/2020             0           0  \n",
       "3         0        0       1  12/15/2020             0           1  \n",
       "4         0        0       0  12/15/2020             0           0  "
      ]
     },
     "execution_count": 56,
     "metadata": {},
     "output_type": "execute_result"
    }
   ],
   "source": [
    "data_df.head()"
   ]
  },
  {
   "cell_type": "code",
   "execution_count": 57,
   "metadata": {},
   "outputs": [],
   "source": [
    "data_df.to_csv('../Data/Clean/event_data.csv', index=False)"
   ]
  }
 ],
 "metadata": {
  "kernelspec": {
   "display_name": "base",
   "language": "python",
   "name": "python3"
  },
  "language_info": {
   "codemirror_mode": {
    "name": "ipython",
    "version": 3
   },
   "file_extension": ".py",
   "mimetype": "text/x-python",
   "name": "python",
   "nbconvert_exporter": "python",
   "pygments_lexer": "ipython3",
   "version": "3.12.4"
  }
 },
 "nbformat": 4,
 "nbformat_minor": 2
}
